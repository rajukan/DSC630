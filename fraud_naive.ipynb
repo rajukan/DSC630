{
 "cells": [
  {
   "cell_type": "code",
   "id": "initial_id",
   "metadata": {
    "collapsed": true,
    "ExecuteTime": {
     "end_time": "2025-05-20T21:13:33.885119Z",
     "start_time": "2025-05-20T21:13:32.767886Z"
    }
   },
   "source": [
    "import numpy as np\n",
    "import pandas as pd\n",
    "import matplotlib.pyplot as plt\n",
    "from sklearn.metrics import confusion_matrix,auc,roc_auc_score\n",
    "from sklearn.metrics import recall_score, precision_score, accuracy_score, f1_score\n",
    "# Data Handling: Load CSV\n",
    "\n",
    "data_df = pd.read_csv(\"./datasets-project/creditcard.csv\")\n",
    "\n"
   ],
   "outputs": [],
   "execution_count": 7
  },
  {
   "metadata": {
    "ExecuteTime": {
     "end_time": "2025-05-20T21:13:35.795838Z",
     "start_time": "2025-05-20T21:13:35.205036Z"
    }
   },
   "cell_type": "code",
   "source": [
    "df =data_df.copy()\n",
    "# get to know list of features, data shape, stat. description.\n",
    "print(df.shape)\n",
    "\n",
    "print(\"First 5 lines:\")\n",
    "print(df.head(5))\n",
    "\n",
    "print(\"describe: \")\n",
    "print(df.describe())\n",
    "\n",
    "print(\"info: \")\n",
    "print(df.info())"
   ],
   "id": "e70762b30eed39cd",
   "outputs": [
    {
     "name": "stdout",
     "output_type": "stream",
     "text": [
      "(284807, 31)\n",
      "First 5 lines:\n",
      "   Time        V1        V2        V3        V4        V5        V6        V7  \\\n",
      "0   0.0 -1.359807 -0.072781  2.536347  1.378155 -0.338321  0.462388  0.239599   \n",
      "1   0.0  1.191857  0.266151  0.166480  0.448154  0.060018 -0.082361 -0.078803   \n",
      "2   1.0 -1.358354 -1.340163  1.773209  0.379780 -0.503198  1.800499  0.791461   \n",
      "3   1.0 -0.966272 -0.185226  1.792993 -0.863291 -0.010309  1.247203  0.237609   \n",
      "4   2.0 -1.158233  0.877737  1.548718  0.403034 -0.407193  0.095921  0.592941   \n",
      "\n",
      "         V8        V9  ...       V21       V22       V23       V24       V25  \\\n",
      "0  0.098698  0.363787  ... -0.018307  0.277838 -0.110474  0.066928  0.128539   \n",
      "1  0.085102 -0.255425  ... -0.225775 -0.638672  0.101288 -0.339846  0.167170   \n",
      "2  0.247676 -1.514654  ...  0.247998  0.771679  0.909412 -0.689281 -0.327642   \n",
      "3  0.377436 -1.387024  ... -0.108300  0.005274 -0.190321 -1.175575  0.647376   \n",
      "4 -0.270533  0.817739  ... -0.009431  0.798278 -0.137458  0.141267 -0.206010   \n",
      "\n",
      "        V26       V27       V28  Amount  Class  \n",
      "0 -0.189115  0.133558 -0.021053  149.62      0  \n",
      "1  0.125895 -0.008983  0.014724    2.69      0  \n",
      "2 -0.139097 -0.055353 -0.059752  378.66      0  \n",
      "3 -0.221929  0.062723  0.061458  123.50      0  \n",
      "4  0.502292  0.219422  0.215153   69.99      0  \n",
      "\n",
      "[5 rows x 31 columns]\n",
      "describe: \n",
      "                Time            V1            V2            V3            V4  \\\n",
      "count  284807.000000  2.848070e+05  2.848070e+05  2.848070e+05  2.848070e+05   \n",
      "mean    94813.859575  1.168375e-15  3.416908e-16 -1.379537e-15  2.074095e-15   \n",
      "std     47488.145955  1.958696e+00  1.651309e+00  1.516255e+00  1.415869e+00   \n",
      "min         0.000000 -5.640751e+01 -7.271573e+01 -4.832559e+01 -5.683171e+00   \n",
      "25%     54201.500000 -9.203734e-01 -5.985499e-01 -8.903648e-01 -8.486401e-01   \n",
      "50%     84692.000000  1.810880e-02  6.548556e-02  1.798463e-01 -1.984653e-02   \n",
      "75%    139320.500000  1.315642e+00  8.037239e-01  1.027196e+00  7.433413e-01   \n",
      "max    172792.000000  2.454930e+00  2.205773e+01  9.382558e+00  1.687534e+01   \n",
      "\n",
      "                 V5            V6            V7            V8            V9  \\\n",
      "count  2.848070e+05  2.848070e+05  2.848070e+05  2.848070e+05  2.848070e+05   \n",
      "mean   9.604066e-16  1.487313e-15 -5.556467e-16  1.213481e-16 -2.406331e-15   \n",
      "std    1.380247e+00  1.332271e+00  1.237094e+00  1.194353e+00  1.098632e+00   \n",
      "min   -1.137433e+02 -2.616051e+01 -4.355724e+01 -7.321672e+01 -1.343407e+01   \n",
      "25%   -6.915971e-01 -7.682956e-01 -5.540759e-01 -2.086297e-01 -6.430976e-01   \n",
      "50%   -5.433583e-02 -2.741871e-01  4.010308e-02  2.235804e-02 -5.142873e-02   \n",
      "75%    6.119264e-01  3.985649e-01  5.704361e-01  3.273459e-01  5.971390e-01   \n",
      "max    3.480167e+01  7.330163e+01  1.205895e+02  2.000721e+01  1.559499e+01   \n",
      "\n",
      "       ...           V21           V22           V23           V24  \\\n",
      "count  ...  2.848070e+05  2.848070e+05  2.848070e+05  2.848070e+05   \n",
      "mean   ...  1.654067e-16 -3.568593e-16  2.578648e-16  4.473266e-15   \n",
      "std    ...  7.345240e-01  7.257016e-01  6.244603e-01  6.056471e-01   \n",
      "min    ... -3.483038e+01 -1.093314e+01 -4.480774e+01 -2.836627e+00   \n",
      "25%    ... -2.283949e-01 -5.423504e-01 -1.618463e-01 -3.545861e-01   \n",
      "50%    ... -2.945017e-02  6.781943e-03 -1.119293e-02  4.097606e-02   \n",
      "75%    ...  1.863772e-01  5.285536e-01  1.476421e-01  4.395266e-01   \n",
      "max    ...  2.720284e+01  1.050309e+01  2.252841e+01  4.584549e+00   \n",
      "\n",
      "                V25           V26           V27           V28         Amount  \\\n",
      "count  2.848070e+05  2.848070e+05  2.848070e+05  2.848070e+05  284807.000000   \n",
      "mean   5.340915e-16  1.683437e-15 -3.660091e-16 -1.227390e-16      88.349619   \n",
      "std    5.212781e-01  4.822270e-01  4.036325e-01  3.300833e-01     250.120109   \n",
      "min   -1.029540e+01 -2.604551e+00 -2.256568e+01 -1.543008e+01       0.000000   \n",
      "25%   -3.171451e-01 -3.269839e-01 -7.083953e-02 -5.295979e-02       5.600000   \n",
      "50%    1.659350e-02 -5.213911e-02  1.342146e-03  1.124383e-02      22.000000   \n",
      "75%    3.507156e-01  2.409522e-01  9.104512e-02  7.827995e-02      77.165000   \n",
      "max    7.519589e+00  3.517346e+00  3.161220e+01  3.384781e+01   25691.160000   \n",
      "\n",
      "               Class  \n",
      "count  284807.000000  \n",
      "mean        0.001727  \n",
      "std         0.041527  \n",
      "min         0.000000  \n",
      "25%         0.000000  \n",
      "50%         0.000000  \n",
      "75%         0.000000  \n",
      "max         1.000000  \n",
      "\n",
      "[8 rows x 31 columns]\n",
      "info: \n",
      "<class 'pandas.core.frame.DataFrame'>\n",
      "RangeIndex: 284807 entries, 0 to 284806\n",
      "Data columns (total 31 columns):\n",
      " #   Column  Non-Null Count   Dtype  \n",
      "---  ------  --------------   -----  \n",
      " 0   Time    284807 non-null  float64\n",
      " 1   V1      284807 non-null  float64\n",
      " 2   V2      284807 non-null  float64\n",
      " 3   V3      284807 non-null  float64\n",
      " 4   V4      284807 non-null  float64\n",
      " 5   V5      284807 non-null  float64\n",
      " 6   V6      284807 non-null  float64\n",
      " 7   V7      284807 non-null  float64\n",
      " 8   V8      284807 non-null  float64\n",
      " 9   V9      284807 non-null  float64\n",
      " 10  V10     284807 non-null  float64\n",
      " 11  V11     284807 non-null  float64\n",
      " 12  V12     284807 non-null  float64\n",
      " 13  V13     284807 non-null  float64\n",
      " 14  V14     284807 non-null  float64\n",
      " 15  V15     284807 non-null  float64\n",
      " 16  V16     284807 non-null  float64\n",
      " 17  V17     284807 non-null  float64\n",
      " 18  V18     284807 non-null  float64\n",
      " 19  V19     284807 non-null  float64\n",
      " 20  V20     284807 non-null  float64\n",
      " 21  V21     284807 non-null  float64\n",
      " 22  V22     284807 non-null  float64\n",
      " 23  V23     284807 non-null  float64\n",
      " 24  V24     284807 non-null  float64\n",
      " 25  V25     284807 non-null  float64\n",
      " 26  V26     284807 non-null  float64\n",
      " 27  V27     284807 non-null  float64\n",
      " 28  V28     284807 non-null  float64\n",
      " 29  Amount  284807 non-null  float64\n",
      " 30  Class   284807 non-null  int64  \n",
      "dtypes: float64(30), int64(1)\n",
      "memory usage: 67.4 MB\n",
      "None\n"
     ]
    }
   ],
   "execution_count": 8
  },
  {
   "metadata": {
    "ExecuteTime": {
     "end_time": "2025-05-20T19:41:17.363964Z",
     "start_time": "2025-05-20T19:41:17.356124Z"
    }
   },
   "cell_type": "code",
   "source": "df.Class.value_counts()",
   "id": "733128f44919d6c6",
   "outputs": [
    {
     "data": {
      "text/plain": [
       "Class\n",
       "0    284315\n",
       "1       492\n",
       "Name: count, dtype: int64"
      ]
     },
     "execution_count": 48,
     "metadata": {},
     "output_type": "execute_result"
    }
   ],
   "execution_count": 48
  },
  {
   "metadata": {
    "ExecuteTime": {
     "end_time": "2025-05-20T19:41:17.373350Z",
     "start_time": "2025-05-20T19:41:17.364982Z"
    }
   },
   "cell_type": "code",
   "source": "df.iloc[0].to_frame()",
   "id": "f3070d61652ee7b2",
   "outputs": [
    {
     "data": {
      "text/plain": [
       "            0\n",
       "Time     0.00\n",
       "V1      -1.36\n",
       "V2      -0.07\n",
       "V3       2.54\n",
       "V4       1.38\n",
       "V5      -0.34\n",
       "V6       0.46\n",
       "V7       0.24\n",
       "V8       0.10\n",
       "V9       0.36\n",
       "V10      0.09\n",
       "V11     -0.55\n",
       "V12     -0.62\n",
       "V13     -0.99\n",
       "V14     -0.31\n",
       "V15      1.47\n",
       "V16     -0.47\n",
       "V17      0.21\n",
       "V18      0.03\n",
       "V19      0.40\n",
       "V20      0.25\n",
       "V21     -0.02\n",
       "V22      0.28\n",
       "V23     -0.11\n",
       "V24      0.07\n",
       "V25      0.13\n",
       "V26     -0.19\n",
       "V27      0.13\n",
       "V28     -0.02\n",
       "Amount 149.62\n",
       "Class    0.00"
      ],
      "text/html": [
       "<div>\n",
       "<style scoped>\n",
       "    .dataframe tbody tr th:only-of-type {\n",
       "        vertical-align: middle;\n",
       "    }\n",
       "\n",
       "    .dataframe tbody tr th {\n",
       "        vertical-align: top;\n",
       "    }\n",
       "\n",
       "    .dataframe thead th {\n",
       "        text-align: right;\n",
       "    }\n",
       "</style>\n",
       "<table border=\"1\" class=\"dataframe\">\n",
       "  <thead>\n",
       "    <tr style=\"text-align: right;\">\n",
       "      <th></th>\n",
       "      <th>0</th>\n",
       "    </tr>\n",
       "  </thead>\n",
       "  <tbody>\n",
       "    <tr>\n",
       "      <th>Time</th>\n",
       "      <td>0.00</td>\n",
       "    </tr>\n",
       "    <tr>\n",
       "      <th>V1</th>\n",
       "      <td>-1.36</td>\n",
       "    </tr>\n",
       "    <tr>\n",
       "      <th>V2</th>\n",
       "      <td>-0.07</td>\n",
       "    </tr>\n",
       "    <tr>\n",
       "      <th>V3</th>\n",
       "      <td>2.54</td>\n",
       "    </tr>\n",
       "    <tr>\n",
       "      <th>V4</th>\n",
       "      <td>1.38</td>\n",
       "    </tr>\n",
       "    <tr>\n",
       "      <th>V5</th>\n",
       "      <td>-0.34</td>\n",
       "    </tr>\n",
       "    <tr>\n",
       "      <th>V6</th>\n",
       "      <td>0.46</td>\n",
       "    </tr>\n",
       "    <tr>\n",
       "      <th>V7</th>\n",
       "      <td>0.24</td>\n",
       "    </tr>\n",
       "    <tr>\n",
       "      <th>V8</th>\n",
       "      <td>0.10</td>\n",
       "    </tr>\n",
       "    <tr>\n",
       "      <th>V9</th>\n",
       "      <td>0.36</td>\n",
       "    </tr>\n",
       "    <tr>\n",
       "      <th>V10</th>\n",
       "      <td>0.09</td>\n",
       "    </tr>\n",
       "    <tr>\n",
       "      <th>V11</th>\n",
       "      <td>-0.55</td>\n",
       "    </tr>\n",
       "    <tr>\n",
       "      <th>V12</th>\n",
       "      <td>-0.62</td>\n",
       "    </tr>\n",
       "    <tr>\n",
       "      <th>V13</th>\n",
       "      <td>-0.99</td>\n",
       "    </tr>\n",
       "    <tr>\n",
       "      <th>V14</th>\n",
       "      <td>-0.31</td>\n",
       "    </tr>\n",
       "    <tr>\n",
       "      <th>V15</th>\n",
       "      <td>1.47</td>\n",
       "    </tr>\n",
       "    <tr>\n",
       "      <th>V16</th>\n",
       "      <td>-0.47</td>\n",
       "    </tr>\n",
       "    <tr>\n",
       "      <th>V17</th>\n",
       "      <td>0.21</td>\n",
       "    </tr>\n",
       "    <tr>\n",
       "      <th>V18</th>\n",
       "      <td>0.03</td>\n",
       "    </tr>\n",
       "    <tr>\n",
       "      <th>V19</th>\n",
       "      <td>0.40</td>\n",
       "    </tr>\n",
       "    <tr>\n",
       "      <th>V20</th>\n",
       "      <td>0.25</td>\n",
       "    </tr>\n",
       "    <tr>\n",
       "      <th>V21</th>\n",
       "      <td>-0.02</td>\n",
       "    </tr>\n",
       "    <tr>\n",
       "      <th>V22</th>\n",
       "      <td>0.28</td>\n",
       "    </tr>\n",
       "    <tr>\n",
       "      <th>V23</th>\n",
       "      <td>-0.11</td>\n",
       "    </tr>\n",
       "    <tr>\n",
       "      <th>V24</th>\n",
       "      <td>0.07</td>\n",
       "    </tr>\n",
       "    <tr>\n",
       "      <th>V25</th>\n",
       "      <td>0.13</td>\n",
       "    </tr>\n",
       "    <tr>\n",
       "      <th>V26</th>\n",
       "      <td>-0.19</td>\n",
       "    </tr>\n",
       "    <tr>\n",
       "      <th>V27</th>\n",
       "      <td>0.13</td>\n",
       "    </tr>\n",
       "    <tr>\n",
       "      <th>V28</th>\n",
       "      <td>-0.02</td>\n",
       "    </tr>\n",
       "    <tr>\n",
       "      <th>Amount</th>\n",
       "      <td>149.62</td>\n",
       "    </tr>\n",
       "    <tr>\n",
       "      <th>Class</th>\n",
       "      <td>0.00</td>\n",
       "    </tr>\n",
       "  </tbody>\n",
       "</table>\n",
       "</div>"
      ]
     },
     "execution_count": 49,
     "metadata": {},
     "output_type": "execute_result"
    }
   ],
   "execution_count": 49
  },
  {
   "metadata": {
    "ExecuteTime": {
     "end_time": "2025-05-20T21:13:41.618331Z",
     "start_time": "2025-05-20T21:13:41.598183Z"
    }
   },
   "cell_type": "code",
   "source": [
    "from sklearn.preprocessing import StandardScaler\n",
    "\n",
    "df['scaled_Amount'] = StandardScaler().fit_transform(df['Amount'].values.reshape(-1,1))"
   ],
   "id": "c5b0338ff66a478f",
   "outputs": [],
   "execution_count": 9
  },
  {
   "metadata": {
    "ExecuteTime": {
     "end_time": "2025-05-20T21:13:43.674047Z",
     "start_time": "2025-05-20T21:13:43.649206Z"
    }
   },
   "cell_type": "code",
   "source": "df=df.drop('Amount',axis=1)",
   "id": "b16ff7c1d9ec45bd",
   "outputs": [],
   "execution_count": 10
  },
  {
   "metadata": {
    "ExecuteTime": {
     "end_time": "2025-05-20T19:41:17.555080Z",
     "start_time": "2025-05-20T19:41:17.407892Z"
    }
   },
   "cell_type": "code",
   "source": [
    "from sklearn.model_selection import train_test_split\n",
    "X = df.drop('Class',axis=1)\n",
    "y = df['Class'].values\n",
    "X_train, X_test, y_train, y_test = train_test_split(X, y, test_size = 0.2, random_state = 0,stratify=y)"
   ],
   "id": "8035c4eb18e9fce4",
   "outputs": [],
   "execution_count": 52
  },
  {
   "metadata": {
    "ExecuteTime": {
     "end_time": "2025-05-20T21:13:47.444050Z",
     "start_time": "2025-05-20T21:13:47.424982Z"
    }
   },
   "cell_type": "code",
   "source": [
    "import seaborn as sns\n",
    "def com_confusion_matrix(target_values,predicted_values,x_label,y_label):\n",
    "    cm = pd.crosstab(target_values, predicted_values, rownames=['Actual'], colnames=['Predicted'])\n",
    "    fig, (ax1) = plt.subplots(ncols=1, figsize=(5,5))\n",
    "    sns.heatmap(cm,\n",
    "                xticklabels=[x_label, y_label],\n",
    "                yticklabels=[x_label, y_label],\n",
    "                annot=True,ax=ax1,\n",
    "                linewidths=.2,linecolor=\"Darkblue\", cmap=\"Blues\",fmt='g')\n",
    "    plt.title('Confusion Matrix', fontsize=14)\n",
    "    plt.show()"
   ],
   "id": "5216a841a5315b9f",
   "outputs": [],
   "execution_count": 11
  },
  {
   "metadata": {
    "ExecuteTime": {
     "end_time": "2025-05-20T21:13:48.350948Z",
     "start_time": "2025-05-20T21:13:48.338071Z"
    }
   },
   "cell_type": "code",
   "source": [
    "def get_predictions(clf,x_tr,y_tr,x_tst):\n",
    "    clf=clf\n",
    "    clf.fit(x_tr,y_tr)\n",
    "    y_prd = clf.predict(x_tst)\n",
    "    y_pred_prob = clf.predict_proba(x_tst)\n",
    "    \n",
    "    tr_pred = clf.predict(x_tr)\n",
    "    # print(f'train-set confusion matrix:\\n {confusion_matrix(y_tr,tr_pred)}')\n",
    "    print(f'train-set confusion matrix:\\n {com_confusion_matrix(y_tr,tr_pred,'Non Fraud','Fraud')}')\n",
    "    return y_prd,y_pred_prob"
   ],
   "id": "de324e4f2c694a05",
   "outputs": [],
   "execution_count": 12
  },
  {
   "metadata": {
    "ExecuteTime": {
     "end_time": "2025-05-20T21:13:49.383384Z",
     "start_time": "2025-05-20T21:13:49.377781Z"
    }
   },
   "cell_type": "code",
   "source": [
    "def print_scores(y_test,y_pred,y_pred_prob):\n",
    "    print('test-set confusion matrix:\\n', confusion_matrix(y_test,y_pred))\n",
    "    print(\"recall score: \", recall_score(y_test,y_pred))\n",
    "    print(\"precision score: \", precision_score(y_test,y_pred))\n",
    "    print(\"f1 score: \", f1_score(y_test,y_pred))\n",
    "    print(\"accuracy score: \", accuracy_score(y_test,y_pred))\n",
    "    print(\"ROC AUC: {}\".format(roc_auc_score(y_test, y_pred_prob[:,1])))"
   ],
   "id": "b2f03217bfc78621",
   "outputs": [],
   "execution_count": 13
  },
  {
   "metadata": {
    "ExecuteTime": {
     "end_time": "2025-05-20T21:14:05.694197Z",
     "start_time": "2025-05-20T21:14:05.689420Z"
    }
   },
   "cell_type": "code",
   "source": [
    "def split_data(df, drop_list):\n",
    "    df = df.drop(drop_list,axis=1)\n",
    "    print(df.columns)\n",
    "    #test train split time\n",
    "    from sklearn.model_selection import train_test_split\n",
    "    y = df['Class'].values #target\n",
    "    X = df.drop(['Class'],axis=1).values #features\n",
    "    X_train, X_test, y_train, y_test = train_test_split(X, y, test_size=0.2,\n",
    "                                                        random_state=42, stratify=y)\n",
    "\n",
    "    print(\"train-set size: \", len(y_train),\n",
    "          \"\\ntest-set size: \", len(y_test))\n",
    "    print(\"fraud cases in test-set: \", sum(y_test))\n",
    "    return X_train, X_test, y_train, y_test"
   ],
   "id": "b7a6945875bf36ac",
   "outputs": [],
   "execution_count": 14
  },
  {
   "metadata": {
    "ExecuteTime": {
     "end_time": "2025-05-20T21:14:11.810442Z",
     "start_time": "2025-05-20T21:14:11.665937Z"
    }
   },
   "cell_type": "code",
   "source": [
    "from sklearn.naive_bayes import  GaussianNB\n",
    "from sklearn.linear_model import LogisticRegression"
   ],
   "id": "4b71147b1f85be8d",
   "outputs": [],
   "execution_count": 15
  },
  {
   "metadata": {
    "ExecuteTime": {
     "end_time": "2025-05-20T19:41:18.736342Z",
     "start_time": "2025-05-20T19:41:17.592771Z"
    }
   },
   "cell_type": "code",
   "source": [
    "# Case-NB-1 : do not drop anything\n",
    "drop_list = []\n",
    "X_train, X_test, y_train, y_test = split_data(df, drop_list)\n",
    "y_pred, y_pred_prob = get_predictions(GaussianNB(), X_train, y_train, X_test)\n",
    "print_scores(y_test,y_pred,y_pred_prob)\n",
    "\n"
   ],
   "id": "bf2c4c7f50147e80",
   "outputs": [
    {
     "name": "stdout",
     "output_type": "stream",
     "text": [
      "Index(['Time', 'V1', 'V2', 'V3', 'V4', 'V5', 'V6', 'V7', 'V8', 'V9', 'V10',\n",
      "       'V11', 'V12', 'V13', 'V14', 'V15', 'V16', 'V17', 'V18', 'V19', 'V20',\n",
      "       'V21', 'V22', 'V23', 'V24', 'V25', 'V26', 'V27', 'V28', 'Class',\n",
      "       'scaled_Amount'],\n",
      "      dtype='object')\n",
      "train-set size:  227845 \n",
      "test-set size:  56962\n",
      "fraud cases in test-set:  98\n"
     ]
    },
    {
     "data": {
      "text/plain": [
       "<Figure size 500x500 with 2 Axes>"
      ],
      "image/png": "[encoded data removed]"
     },
     "metadata": {},
     "output_type": "display_data"
    },
    {
     "name": "stdout",
     "output_type": "stream",
     "text": [
      "train-set confusion matrix:\n",
      " None\n",
      "test-set confusion matrix:\n",
      " [[56473   391]\n",
      " [   33    65]]\n",
      "recall score:  0.6632653061224489\n",
      "precision score:  0.1425438596491228\n",
      "f1 score:  0.23465703971119134\n",
      "accuracy score:  0.992556441136196\n",
      "ROC AUC: 0.9679048937385871\n"
     ]
    }
   ],
   "execution_count": 58
  },
  {
   "metadata": {
    "ExecuteTime": {
     "end_time": "2025-05-20T19:41:19.329718Z",
     "start_time": "2025-05-20T19:41:18.736342Z"
    }
   },
   "cell_type": "code",
   "source": [
    "drop_list = ['V28','V27','V26','V25','V24','V23','V22','V20','V15','V13','V8']\n",
    "X_train, X_test, y_train, y_test = split_data(df, drop_list)\n",
    "y_pred, y_pred_prob = get_predictions(GaussianNB(), X_train, y_train, X_test)\n",
    "print_scores(y_test,y_pred,y_pred_prob)"
   ],
   "id": "eb70aff3a93d5614",
   "outputs": [
    {
     "name": "stdout",
     "output_type": "stream",
     "text": [
      "Index(['Time', 'V1', 'V2', 'V3', 'V4', 'V5', 'V6', 'V7', 'V9', 'V10', 'V11',\n",
      "       'V12', 'V14', 'V16', 'V17', 'V18', 'V19', 'V21', 'Class',\n",
      "       'scaled_Amount'],\n",
      "      dtype='object')\n",
      "train-set size:  227845 \n",
      "test-set size:  56962\n",
      "fraud cases in test-set:  98\n"
     ]
    },
    {
     "data": {
      "text/plain": [
       "<Figure size 500x500 with 2 Axes>"
      ],
      "image/png": "[encoded data removed]"
     },
     "metadata": {},
     "output_type": "display_data"
    },
    {
     "name": "stdout",
     "output_type": "stream",
     "text": [
      "train-set confusion matrix:\n",
      " None\n",
      "test-set confusion matrix:\n",
      " [[56541   323]\n",
      " [   31    67]]\n",
      "recall score:  0.6836734693877551\n",
      "precision score:  0.1717948717948718\n",
      "f1 score:  0.27459016393442626\n",
      "accuracy score:  0.9937853305712581\n",
      "ROC AUC: 0.9683951432993007\n"
     ]
    }
   ],
   "execution_count": 59
  },
  {
   "metadata": {
    "ExecuteTime": {
     "end_time": "2025-05-20T19:41:19.966728Z",
     "start_time": "2025-05-20T19:41:19.329718Z"
    }
   },
   "cell_type": "code",
   "source": [
    "# Case-NB-3 : drop some of principle components + Time \n",
    "drop_list = ['Time','V28','V27','V26','V25','V24','V23','V22','V20','V15','V13','V8']\n",
    "X_train, X_test, y_train, y_test = split_data(df, drop_list)\n",
    "y_pred, y_pred_prob = get_predictions(GaussianNB(), X_train, y_train, X_test)\n",
    "print_scores(y_test,y_pred,y_pred_prob)"
   ],
   "id": "2e1ed0ae20f9f29e",
   "outputs": [
    {
     "name": "stdout",
     "output_type": "stream",
     "text": [
      "Index(['V1', 'V2', 'V3', 'V4', 'V5', 'V6', 'V7', 'V9', 'V10', 'V11', 'V12',\n",
      "       'V14', 'V16', 'V17', 'V18', 'V19', 'V21', 'Class', 'scaled_Amount'],\n",
      "      dtype='object')\n",
      "train-set size:  227845 \n",
      "test-set size:  56962\n",
      "fraud cases in test-set:  98\n"
     ]
    },
    {
     "data": {
      "text/plain": [
       "<Figure size 500x500 with 2 Axes>"
      ],
      "image/png": "[encoded data removed]"
     },
     "metadata": {},
     "output_type": "display_data"
    },
    {
     "name": "stdout",
     "output_type": "stream",
     "text": [
      "train-set confusion matrix:\n",
      " None\n",
      "test-set confusion matrix:\n",
      " [[55936   928]\n",
      " [   12    86]]\n",
      "recall score:  0.8775510204081632\n",
      "precision score:  0.08481262327416174\n",
      "f1 score:  0.15467625899280577\n",
      "accuracy score:  0.9834977704434535\n",
      "ROC AUC: 0.9613612643988377\n"
     ]
    }
   ],
   "execution_count": 60
  },
  {
   "metadata": {
    "ExecuteTime": {
     "end_time": "2025-05-20T19:41:20.600773Z",
     "start_time": "2025-05-20T19:41:19.966728Z"
    }
   },
   "cell_type": "code",
   "source": [
    "from sklearn.naive_bayes import  GaussianNB\n",
    "# Case-NB-4 : drop some of principle components + Time + 'scaled_Amount'\n",
    "drop_list = ['Time','V28','V27','V26','V25','V24','V23','V22','V20','V15','V13','V8']\n",
    "X_train, X_test, y_train, y_test = split_data(df, drop_list)\n",
    "y_pred, y_pred_prob = get_predictions(GaussianNB(), X_train, y_train, X_test)\n",
    "print_scores(y_test,y_pred,y_pred_prob)"
   ],
   "id": "ef0c6e89f598ef36",
   "outputs": [
    {
     "name": "stdout",
     "output_type": "stream",
     "text": [
      "Index(['V1', 'V2', 'V3', 'V4', 'V5', 'V6', 'V7', 'V9', 'V10', 'V11', 'V12',\n",
      "       'V14', 'V16', 'V17', 'V18', 'V19', 'V21', 'Class', 'scaled_Amount'],\n",
      "      dtype='object')\n",
      "train-set size:  227845 \n",
      "test-set size:  56962\n",
      "fraud cases in test-set:  98\n"
     ]
    },
    {
     "data": {
      "text/plain": [
       "<Figure size 500x500 with 2 Axes>"
      ],
      "image/png": "[encoded data removed]"
     },
     "metadata": {},
     "output_type": "display_data"
    },
    {
     "name": "stdout",
     "output_type": "stream",
     "text": [
      "train-set confusion matrix:\n",
      " None\n",
      "test-set confusion matrix:\n",
      " [[55936   928]\n",
      " [   12    86]]\n",
      "recall score:  0.8775510204081632\n",
      "precision score:  0.08481262327416174\n",
      "f1 score:  0.15467625899280577\n",
      "accuracy score:  0.9834977704434535\n",
      "ROC AUC: 0.9613612643988377\n"
     ]
    }
   ],
   "execution_count": 61
  },
  {
   "metadata": {
    "ExecuteTime": {
     "end_time": "2025-05-20T19:41:20.937022Z",
     "start_time": "2025-05-20T19:41:20.600773Z"
    }
   },
   "cell_type": "code",
   "source": [
    "y_pred, y_pred_prob = get_predictions(LogisticRegression(C = 0.01, penalty = 'l2')\n",
    "                                      , X_train, y_train, X_test)\n",
    "print_scores(y_test,y_pred,y_pred_prob)"
   ],
   "id": "eab56a6ac8c11207",
   "outputs": [
    {
     "data": {
      "text/plain": [
       "<Figure size 500x500 with 2 Axes>"
      ],
      "image/png": "[encoded data removed]"
     },
     "metadata": {},
     "output_type": "display_data"
    },
    {
     "name": "stdout",
     "output_type": "stream",
     "text": [
      "train-set confusion matrix:\n",
      " None\n",
      "test-set confusion matrix:\n",
      " [[56851    13]\n",
      " [   39    59]]\n",
      "recall score:  0.6020408163265306\n",
      "precision score:  0.8194444444444444\n",
      "f1 score:  0.6941176470588235\n",
      "accuracy score:  0.9990871107053826\n",
      "ROC AUC: 0.9740648651131809\n"
     ]
    }
   ],
   "execution_count": 62
  },
  {
   "metadata": {
    "ExecuteTime": {
     "end_time": "2025-05-20T19:41:20.939976Z",
     "start_time": "2025-05-20T19:41:20.937022Z"
    }
   },
   "cell_type": "code",
   "source": "",
   "id": "e94ae4c20c4a8fa",
   "outputs": [],
   "execution_count": 62
  },
  {
   "metadata": {
    "ExecuteTime": {
     "end_time": "2025-05-20T19:41:20.942700Z",
     "start_time": "2025-05-20T19:41:20.939976Z"
    }
   },
   "cell_type": "code",
   "source": "",
   "id": "c7531e9845188a52",
   "outputs": [],
   "execution_count": 62
  },
  {
   "metadata": {
    "ExecuteTime": {
     "end_time": "2025-05-20T19:41:20.945136Z",
     "start_time": "2025-05-20T19:41:20.942700Z"
    }
   },
   "cell_type": "code",
   "source": "",
   "id": "ea2be839d0a7f71d",
   "outputs": [],
   "execution_count": 62
  },
  {
   "metadata": {
    "ExecuteTime": {
     "end_time": "2025-05-20T19:41:20.948272Z",
     "start_time": "2025-05-20T19:41:20.945136Z"
    }
   },
   "cell_type": "code",
   "source": "",
   "id": "85e6f4c57889997d",
   "outputs": [],
   "execution_count": 62
  },
  {
   "metadata": {
    "ExecuteTime": {
     "end_time": "2025-05-20T19:41:20.951110Z",
     "start_time": "2025-05-20T19:41:20.948272Z"
    }
   },
   "cell_type": "code",
   "source": "",
   "id": "94bdbcedfa4dec0f",
   "outputs": [],
   "execution_count": 62
  },
  {
   "metadata": {
    "ExecuteTime": {
     "end_time": "2025-05-20T19:41:20.954034Z",
     "start_time": "2025-05-20T19:41:20.951110Z"
    }
   },
   "cell_type": "code",
   "source": "",
   "id": "b603614f6f4dca5",
   "outputs": [],
   "execution_count": 62
  },
  {
   "metadata": {
    "ExecuteTime": {
     "end_time": "2025-05-20T19:41:20.956756Z",
     "start_time": "2025-05-20T19:41:20.954034Z"
    }
   },
   "cell_type": "code",
   "source": "",
   "id": "ad2ad6af6bd64f94",
   "outputs": [],
   "execution_count": 62
  },
  {
   "metadata": {
    "ExecuteTime": {
     "end_time": "2025-05-20T19:41:20.959166Z",
     "start_time": "2025-05-20T19:41:20.956756Z"
    }
   },
   "cell_type": "code",
   "source": "",
   "id": "994381a25eee7f31",
   "outputs": [],
   "execution_count": 62
  },
  {
   "metadata": {
    "ExecuteTime": {
     "end_time": "2025-05-20T19:41:20.961505Z",
     "start_time": "2025-05-20T19:41:20.959166Z"
    }
   },
   "cell_type": "code",
   "source": "",
   "id": "45f99dc6876e4fa0",
   "outputs": [],
   "execution_count": 62
  },
  {
   "metadata": {
    "ExecuteTime": {
     "end_time": "2025-05-20T19:41:20.963915Z",
     "start_time": "2025-05-20T19:41:20.961505Z"
    }
   },
   "cell_type": "code",
   "source": "",
   "id": "3febfa50cfaa0f00",
   "outputs": [],
   "execution_count": 62
  },
  {
   "metadata": {
    "ExecuteTime": {
     "end_time": "2025-05-20T19:41:20.967179Z",
     "start_time": "2025-05-20T19:41:20.964939Z"
    }
   },
   "cell_type": "code",
   "source": "",
   "id": "609481bd8903d562",
   "outputs": [],
   "execution_count": 62
  },
  {
   "metadata": {
    "ExecuteTime": {
     "end_time": "2025-05-20T19:41:20.972823Z",
     "start_time": "2025-05-20T19:41:20.968931Z"
    }
   },
   "cell_type": "code",
   "source": "",
   "id": "f5dda3cc4f017a96",
   "outputs": [],
   "execution_count": 62
  },
  {
   "metadata": {
    "ExecuteTime": {
     "end_time": "2025-05-20T19:41:20.975537Z",
     "start_time": "2025-05-20T19:41:20.972823Z"
    }
   },
   "cell_type": "code",
   "source": "",
   "id": "57adeaeddd1adb74",
   "outputs": [],
   "execution_count": 62
  },
  {
   "metadata": {
    "ExecuteTime": {
     "end_time": "2025-05-20T19:41:20.978091Z",
     "start_time": "2025-05-20T19:41:20.975537Z"
    }
   },
   "cell_type": "code",
   "source": "",
   "id": "960d0613dd82ee7f",
   "outputs": [],
   "execution_count": 62
  },
  {
   "metadata": {
    "ExecuteTime": {
     "end_time": "2025-05-20T19:41:20.981613Z",
     "start_time": "2025-05-20T19:41:20.978091Z"
    }
   },
   "cell_type": "code",
   "source": "",
   "id": "ddc81a0afa8db7a",
   "outputs": [],
   "execution_count": 62
  },
  {
   "metadata": {
    "ExecuteTime": {
     "end_time": "2025-05-20T19:41:20.984293Z",
     "start_time": "2025-05-20T19:41:20.981613Z"
    }
   },
   "cell_type": "code",
   "source": "",
   "id": "403cf5f69a8aca4",
   "outputs": [],
   "execution_count": 62
  },
  {
   "metadata": {
    "ExecuteTime": {
     "end_time": "2025-05-20T19:41:20.987145Z",
     "start_time": "2025-05-20T19:41:20.984293Z"
    }
   },
   "cell_type": "code",
   "source": "",
   "id": "beffc85098930fb5",
   "outputs": [],
   "execution_count": 62
  },
  {
   "metadata": {
    "ExecuteTime": {
     "end_time": "2025-05-20T19:41:20.989843Z",
     "start_time": "2025-05-20T19:41:20.987145Z"
    }
   },
   "cell_type": "code",
   "source": "",
   "id": "66abfc68a5d7fd5c",
   "outputs": [],
   "execution_count": 62
  },
  {
   "metadata": {
    "ExecuteTime": {
     "end_time": "2025-05-20T19:41:20.992238Z",
     "start_time": "2025-05-20T19:41:20.989843Z"
    }
   },
   "cell_type": "code",
   "source": "",
   "id": "91609ca75e172bf",
   "outputs": [],
   "execution_count": 62
  },
  {
   "metadata": {
    "ExecuteTime": {
     "end_time": "2025-05-20T19:41:20.995308Z",
     "start_time": "2025-05-20T19:41:20.992238Z"
    }
   },
   "cell_type": "code",
   "source": "",
   "id": "1d3caf5917387af5",
   "outputs": [],
   "execution_count": 62
  },
  {
   "metadata": {
    "ExecuteTime": {
     "end_time": "2025-05-20T19:41:20.998337Z",
     "start_time": "2025-05-20T19:41:20.995308Z"
    }
   },
   "cell_type": "code",
   "source": "",
   "id": "1dd2e2ef8c579129",
   "outputs": [],
   "execution_count": 62
  },
  {
   "metadata": {
    "ExecuteTime": {
     "end_time": "2025-05-20T19:41:21.001564Z",
     "start_time": "2025-05-20T19:41:20.998337Z"
    }
   },
   "cell_type": "code",
   "source": "",
   "id": "1dbb20cb658a6a05",
   "outputs": [],
   "execution_count": 62
  },
  {
   "metadata": {
    "ExecuteTime": {
     "end_time": "2025-05-20T19:41:21.003961Z",
     "start_time": "2025-05-20T19:41:21.001564Z"
    }
   },
   "cell_type": "code",
   "source": "",
   "id": "4c581c5c751c8b45",
   "outputs": [],
   "execution_count": 62
  },
  {
   "metadata": {
    "ExecuteTime": {
     "end_time": "2025-05-20T19:41:21.006390Z",
     "start_time": "2025-05-20T19:41:21.003961Z"
    }
   },
   "cell_type": "code",
   "source": "",
   "id": "2feb02adfc8af843",
   "outputs": [],
   "execution_count": 62
  },
  {
   "metadata": {
    "ExecuteTime": {
     "end_time": "2025-05-20T19:41:21.008654Z",
     "start_time": "2025-05-20T19:41:21.006390Z"
    }
   },
   "cell_type": "code",
   "source": "",
   "id": "ecc2cd39bb549df7",
   "outputs": [],
   "execution_count": 62
  },
  {
   "metadata": {
    "ExecuteTime": {
     "end_time": "2025-05-20T19:41:21.012134Z",
     "start_time": "2025-05-20T19:41:21.008654Z"
    }
   },
   "cell_type": "code",
   "source": "",
   "id": "bcfc1c27ae1a4fbb",
   "outputs": [],
   "execution_count": 62
  },
  {
   "metadata": {
    "ExecuteTime": {
     "end_time": "2025-05-20T19:41:21.015192Z",
     "start_time": "2025-05-20T19:41:21.012134Z"
    }
   },
   "cell_type": "code",
   "source": "",
   "id": "2ab053c2a352cadf",
   "outputs": [],
   "execution_count": 62
  },
  {
   "metadata": {
    "ExecuteTime": {
     "end_time": "2025-05-20T19:41:21.018432Z",
     "start_time": "2025-05-20T19:41:21.015192Z"
    }
   },
   "cell_type": "code",
   "source": "",
   "id": "1ace7415a384512f",
   "outputs": [],
   "execution_count": 62
  },
  {
   "metadata": {
    "ExecuteTime": {
     "end_time": "2025-05-20T19:41:21.022099Z",
     "start_time": "2025-05-20T19:41:21.018432Z"
    }
   },
   "cell_type": "code",
   "source": "",
   "id": "3311dd81e75a37c0",
   "outputs": [],
   "execution_count": 62
  },
  {
   "metadata": {
    "ExecuteTime": {
     "end_time": "2025-05-20T19:41:21.025005Z",
     "start_time": "2025-05-20T19:41:21.022099Z"
    }
   },
   "cell_type": "code",
   "source": "",
   "id": "7b34b67011d08d40",
   "outputs": [],
   "execution_count": 62
  },
  {
   "metadata": {
    "ExecuteTime": {
     "end_time": "2025-05-20T19:41:21.027643Z",
     "start_time": "2025-05-20T19:41:21.025005Z"
    }
   },
   "cell_type": "code",
   "source": "",
   "id": "54e2b381f17ef7d2",
   "outputs": [],
   "execution_count": 62
  },
  {
   "metadata": {
    "ExecuteTime": {
     "end_time": "2025-05-20T19:41:21.031701Z",
     "start_time": "2025-05-20T19:41:21.027643Z"
    }
   },
   "cell_type": "code",
   "source": "",
   "id": "104754b846a1bd8",
   "outputs": [],
   "execution_count": 62
  },
  {
   "metadata": {
    "ExecuteTime": {
     "end_time": "2025-05-20T19:41:21.034525Z",
     "start_time": "2025-05-20T19:41:21.031701Z"
    }
   },
   "cell_type": "code",
   "source": "",
   "id": "b6da80c9b9a1c311",
   "outputs": [],
   "execution_count": 62
  },
  {
   "metadata": {
    "ExecuteTime": {
     "end_time": "2025-05-20T19:41:21.037198Z",
     "start_time": "2025-05-20T19:41:21.034525Z"
    }
   },
   "cell_type": "code",
   "source": "",
   "id": "f35d304bffff8f76",
   "outputs": [],
   "execution_count": 62
  },
  {
   "metadata": {
    "ExecuteTime": {
     "end_time": "2025-05-20T19:41:21.039768Z",
     "start_time": "2025-05-20T19:41:21.037198Z"
    }
   },
   "cell_type": "code",
   "source": "",
   "id": "110903e16d297588",
   "outputs": [],
   "execution_count": 62
  },
  {
   "metadata": {
    "ExecuteTime": {
     "end_time": "2025-05-20T19:41:21.042421Z",
     "start_time": "2025-05-20T19:41:21.039768Z"
    }
   },
   "cell_type": "code",
   "source": "",
   "id": "51b1cd136fcb8722",
   "outputs": [],
   "execution_count": 62
  },
  {
   "metadata": {
    "ExecuteTime": {
     "end_time": "2025-05-20T19:41:21.045051Z",
     "start_time": "2025-05-20T19:41:21.042421Z"
    }
   },
   "cell_type": "code",
   "source": "",
   "id": "468502f432dfeabd",
   "outputs": [],
   "execution_count": 62
  },
  {
   "metadata": {
    "ExecuteTime": {
     "end_time": "2025-05-20T19:41:21.047479Z",
     "start_time": "2025-05-20T19:41:21.045051Z"
    }
   },
   "cell_type": "code",
   "source": "",
   "id": "8418ba11800e0b42",
   "outputs": [],
   "execution_count": 62
  },
  {
   "metadata": {
    "ExecuteTime": {
     "end_time": "2025-05-20T19:41:21.050297Z",
     "start_time": "2025-05-20T19:41:21.047479Z"
    }
   },
   "cell_type": "code",
   "source": "",
   "id": "cc4b7ade61ae6b3c",
   "outputs": [],
   "execution_count": 62
  },
  {
   "metadata": {
    "ExecuteTime": {
     "end_time": "2025-05-20T19:41:21.053005Z",
     "start_time": "2025-05-20T19:41:21.050297Z"
    }
   },
   "cell_type": "code",
   "source": "",
   "id": "94dbe0bb0a1adc8f",
   "outputs": [],
   "execution_count": 62
  },
  {
   "metadata": {
    "ExecuteTime": {
     "end_time": "2025-05-20T19:41:21.055417Z",
     "start_time": "2025-05-20T19:41:21.053005Z"
    }
   },
   "cell_type": "code",
   "source": "",
   "id": "2090bdde01803f68",
   "outputs": [],
   "execution_count": 62
  },
  {
   "metadata": {
    "ExecuteTime": {
     "end_time": "2025-05-20T19:41:21.057762Z",
     "start_time": "2025-05-20T19:41:21.055417Z"
    }
   },
   "cell_type": "code",
   "source": "",
   "id": "d7666f933ca74139",
   "outputs": [],
   "execution_count": 62
  },
  {
   "metadata": {
    "ExecuteTime": {
     "end_time": "2025-05-20T19:41:21.061268Z",
     "start_time": "2025-05-20T19:41:21.057762Z"
    }
   },
   "cell_type": "code",
   "source": "",
   "id": "25b2bdf262190d11",
   "outputs": [],
   "execution_count": 62
  },
  {
   "metadata": {
    "ExecuteTime": {
     "end_time": "2025-05-20T19:41:21.064510Z",
     "start_time": "2025-05-20T19:41:21.061268Z"
    }
   },
   "cell_type": "code",
   "source": "",
   "id": "3a0058e85f1d1579",
   "outputs": [],
   "execution_count": 62
  },
  {
   "metadata": {
    "ExecuteTime": {
     "end_time": "2025-05-20T19:41:21.067187Z",
     "start_time": "2025-05-20T19:41:21.065031Z"
    }
   },
   "cell_type": "code",
   "source": "",
   "id": "ab8a4ee0ca06c9c9",
   "outputs": [],
   "execution_count": 62
  },
  {
   "metadata": {
    "ExecuteTime": {
     "end_time": "2025-05-20T19:41:21.070088Z",
     "start_time": "2025-05-20T19:41:21.067187Z"
    }
   },
   "cell_type": "code",
   "source": "",
   "id": "239c0367fd4399e9",
   "outputs": [],
   "execution_count": 62
  },
  {
   "metadata": {
    "ExecuteTime": {
     "end_time": "2025-05-20T19:41:21.072584Z",
     "start_time": "2025-05-20T19:41:21.070088Z"
    }
   },
   "cell_type": "code",
   "source": "",
   "id": "aff637745acd49a8",
   "outputs": [],
   "execution_count": 62
  },
  {
   "metadata": {
    "ExecuteTime": {
     "end_time": "2025-05-20T19:41:21.074925Z",
     "start_time": "2025-05-20T19:41:21.072584Z"
    }
   },
   "cell_type": "code",
   "source": "",
   "id": "efc15599afe6c400",
   "outputs": [],
   "execution_count": 62
  },
  {
   "metadata": {
    "ExecuteTime": {
     "end_time": "2025-05-20T19:41:21.077316Z",
     "start_time": "2025-05-20T19:41:21.074925Z"
    }
   },
   "cell_type": "code",
   "source": "",
   "id": "992daad6a97f8cc5",
   "outputs": [],
   "execution_count": 62
  },
  {
   "metadata": {
    "ExecuteTime": {
     "end_time": "2025-05-20T19:41:21.080216Z",
     "start_time": "2025-05-20T19:41:21.077316Z"
    }
   },
   "cell_type": "code",
   "source": "",
   "id": "e0808901c5588e8f",
   "outputs": [],
   "execution_count": 62
  },
  {
   "metadata": {
    "ExecuteTime": {
     "end_time": "2025-05-20T19:41:21.083213Z",
     "start_time": "2025-05-20T19:41:21.080216Z"
    }
   },
   "cell_type": "code",
   "source": "",
   "id": "59757513e5b9b4d8",
   "outputs": [],
   "execution_count": 62
  },
  {
   "metadata": {
    "ExecuteTime": {
     "end_time": "2025-05-20T19:41:21.085986Z",
     "start_time": "2025-05-20T19:41:21.083213Z"
    }
   },
   "cell_type": "code",
   "source": "",
   "id": "5614fbc6effc682b",
   "outputs": [],
   "execution_count": 62
  },
  {
   "metadata": {
    "ExecuteTime": {
     "end_time": "2025-05-20T19:41:21.088439Z",
     "start_time": "2025-05-20T19:41:21.085986Z"
    }
   },
   "cell_type": "code",
   "source": "",
   "id": "ef7d38ac56645771",
   "outputs": [],
   "execution_count": 62
  },
  {
   "metadata": {
    "ExecuteTime": {
     "end_time": "2025-05-20T19:41:21.091107Z",
     "start_time": "2025-05-20T19:41:21.088439Z"
    }
   },
   "cell_type": "code",
   "source": "",
   "id": "ac51de513e82137f",
   "outputs": [],
   "execution_count": 62
  },
  {
   "metadata": {
    "ExecuteTime": {
     "end_time": "2025-05-20T19:41:21.093893Z",
     "start_time": "2025-05-20T19:41:21.091107Z"
    }
   },
   "cell_type": "code",
   "source": "",
   "id": "496157d9115f1d44",
   "outputs": [],
   "execution_count": 62
  },
  {
   "metadata": {
    "ExecuteTime": {
     "end_time": "2025-05-20T19:41:21.096486Z",
     "start_time": "2025-05-20T19:41:21.093893Z"
    }
   },
   "cell_type": "code",
   "source": "",
   "id": "ed6ed73c416343d1",
   "outputs": [],
   "execution_count": 62
  },
  {
   "metadata": {
    "ExecuteTime": {
     "end_time": "2025-05-20T19:41:21.099541Z",
     "start_time": "2025-05-20T19:41:21.096486Z"
    }
   },
   "cell_type": "code",
   "source": "",
   "id": "7474688cef1e4477",
   "outputs": [],
   "execution_count": 62
  },
  {
   "metadata": {
    "ExecuteTime": {
     "end_time": "2025-05-20T19:41:21.102533Z",
     "start_time": "2025-05-20T19:41:21.099541Z"
    }
   },
   "cell_type": "code",
   "source": "",
   "id": "1862eb9173d8107e",
   "outputs": [],
   "execution_count": 62
  },
  {
   "metadata": {
    "ExecuteTime": {
     "end_time": "2025-05-20T19:41:21.104982Z",
     "start_time": "2025-05-20T19:41:21.102533Z"
    }
   },
   "cell_type": "code",
   "source": "",
   "id": "f9c70346c23fd51f",
   "outputs": [],
   "execution_count": 62
  },
  {
   "metadata": {
    "ExecuteTime": {
     "end_time": "2025-05-20T19:41:21.107471Z",
     "start_time": "2025-05-20T19:41:21.104982Z"
    }
   },
   "cell_type": "code",
   "source": "",
   "id": "c4f4e38ac52d2c5c",
   "outputs": [],
   "execution_count": 62
  },
  {
   "metadata": {
    "ExecuteTime": {
     "end_time": "2025-05-20T19:41:21.110060Z",
     "start_time": "2025-05-20T19:41:21.107471Z"
    }
   },
   "cell_type": "code",
   "source": "",
   "id": "899aac0c8d242ce5",
   "outputs": [],
   "execution_count": 62
  },
  {
   "metadata": {
    "ExecuteTime": {
     "end_time": "2025-05-20T19:41:21.112659Z",
     "start_time": "2025-05-20T19:41:21.110060Z"
    }
   },
   "cell_type": "code",
   "source": "",
   "id": "2072db8b8dbf5243",
   "outputs": [],
   "execution_count": 62
  },
  {
   "metadata": {
    "ExecuteTime": {
     "end_time": "2025-05-20T19:41:21.115700Z",
     "start_time": "2025-05-20T19:41:21.112659Z"
    }
   },
   "cell_type": "code",
   "source": "",
   "id": "310b147de0dac1c0",
   "outputs": [],
   "execution_count": 62
  },
  {
   "metadata": {
    "ExecuteTime": {
     "end_time": "2025-05-20T19:41:21.118306Z",
     "start_time": "2025-05-20T19:41:21.115700Z"
    }
   },
   "cell_type": "code",
   "source": "",
   "id": "fd4e17441fcce260",
   "outputs": [],
   "execution_count": 62
  },
  {
   "metadata": {
    "ExecuteTime": {
     "end_time": "2025-05-20T19:41:21.121073Z",
     "start_time": "2025-05-20T19:41:21.118306Z"
    }
   },
   "cell_type": "code",
   "source": "",
   "id": "36816ec95110565",
   "outputs": [],
   "execution_count": 62
  },
  {
   "metadata": {
    "ExecuteTime": {
     "end_time": "2025-05-20T19:41:21.126558Z",
     "start_time": "2025-05-20T19:41:21.121073Z"
    }
   },
   "cell_type": "code",
   "source": "",
   "id": "dc5849de950563f3",
   "outputs": [],
   "execution_count": 62
  },
  {
   "metadata": {
    "ExecuteTime": {
     "end_time": "2025-05-20T19:41:21.129056Z",
     "start_time": "2025-05-20T19:41:21.126558Z"
    }
   },
   "cell_type": "code",
   "source": "",
   "id": "c4856e7a03489efe",
   "outputs": [],
   "execution_count": 62
  }
 ],
 "metadata": {
  "kernelspec": {
   "display_name": "Python 3",
   "language": "python",
   "name": "python3"
  },
  "language_info": {
   "codemirror_mode": {
    "name": "ipython",
    "version": 2
   },
   "file_extension": ".py",
   "mimetype": "text/x-python",
   "name": "python",
   "nbconvert_exporter": "python",
   "pygments_lexer": "ipython2",
   "version": "2.7.6"
  }
 },
 "nbformat": 4,
 "nbformat_minor": 5
}
