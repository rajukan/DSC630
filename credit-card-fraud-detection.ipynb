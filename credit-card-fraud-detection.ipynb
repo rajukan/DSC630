{
 "cells": [
  {
   "cell_type": "markdown",
   "id": "e3b37cf7",
   "metadata": {
    "papermill": {
     "duration": 0.012192,
     "end_time": "2022-07-08T04:17:05.675056",
     "exception": false,
     "start_time": "2022-07-08T04:17:05.662864",
     "status": "completed"
    },
    "tags": []
   },
   "source": [
    "# DCS 630 Predictive Analytics\n",
    "## Bellevue University\n",
    "## Term Project - Credit Card Fraud Detection\n",
    "## Author: Gyan Kannur\n",
    "## Date: 09/03/2025"
   ]
  },
  {
   "cell_type": "markdown",
   "id": "8cdad317",
   "metadata": {
    "papermill": {
     "duration": 0.014405,
     "end_time": "2022-07-08T04:17:05.705483",
     "exception": false,
     "start_time": "2022-07-08T04:17:05.691078",
     "status": "completed"
    },
    "tags": []
   },
   "source": [
    "**Importing the necessary libraries**"
   ]
  },
  {
   "cell_type": "code",
   "id": "5966f0e1",
   "metadata": {
    "execution": {
     "iopub.execute_input": "2022-07-08T04:17:05.734155Z",
     "iopub.status.busy": "2022-07-08T04:17:05.733572Z",
     "iopub.status.idle": "2022-07-08T04:17:07.283748Z",
     "shell.execute_reply": "2022-07-08T04:17:07.282618Z"
    },
    "papermill": {
     "duration": 1.569901,
     "end_time": "2022-07-08T04:17:07.286978",
     "exception": false,
     "start_time": "2022-07-08T04:17:05.717077",
     "status": "completed"
    },
    "tags": [],
    "ExecuteTime": {
     "end_time": "2025-05-19T23:36:22.147499Z",
     "start_time": "2025-05-19T23:36:21.708083Z"
    }
   },
   "source": [
    "# data analysis and wrangling\n",
    "import pandas as pd\n",
    "import numpy as np\n",
    "import random as rnd\n",
    "\n",
    "# visualization\n",
    "import seaborn as sns\n",
    "import matplotlib.pyplot as plt\n",
    "%matplotlib inline\n",
    "from sklearn.model_selection import train_test_split\n",
    "from sklearn.preprocessing import LabelEncoder\n",
    "#machine learning\n",
    "from sklearn.ensemble import RandomForestClassifier\n",
    "from sklearn.linear_model import LogisticRegression\n",
    "from sklearn.svm import SVC, LinearSVC"
   ],
   "outputs": [],
   "execution_count": 1
  },
  {
   "cell_type": "markdown",
   "id": "2098fac8",
   "metadata": {
    "papermill": {
     "duration": 0.010564,
     "end_time": "2022-07-08T04:17:07.308277",
     "exception": false,
     "start_time": "2022-07-08T04:17:07.297713",
     "status": "completed"
    },
    "tags": []
   },
   "source": [
    "**Load the DataSet**"
   ]
  },
  {
   "cell_type": "code",
   "id": "57597be3",
   "metadata": {
    "execution": {
     "iopub.execute_input": "2022-07-08T04:17:07.332572Z",
     "iopub.status.busy": "2022-07-08T04:17:07.331529Z",
     "iopub.status.idle": "2022-07-08T04:17:13.202374Z",
     "shell.execute_reply": "2022-07-08T04:17:13.201301Z"
    },
    "id": "BuObPpqT7t3C",
    "papermill": {
     "duration": 5.885666,
     "end_time": "2022-07-08T04:17:13.204868",
     "exception": false,
     "start_time": "2022-07-08T04:17:07.319202",
     "status": "completed"
    },
    "tags": [],
    "ExecuteTime": {
     "end_time": "2025-05-20T00:08:16.098445Z",
     "start_time": "2025-05-20T00:08:13.839643Z"
    }
   },
   "source": "df_all=pd.read_csv('./datasets-project/application_data.csv')",
   "outputs": [],
   "execution_count": 79
  },
  {
   "metadata": {
    "ExecuteTime": {
     "end_time": "2025-05-20T00:12:16.926833Z",
     "start_time": "2025-05-20T00:12:16.757894Z"
    }
   },
   "cell_type": "code",
   "source": "df=df_all.copy()",
   "id": "65b90d2770d9cab5",
   "outputs": [],
   "execution_count": 106
  },
  {
   "metadata": {},
   "cell_type": "markdown",
   "source": "**EDA**",
   "id": "5ab4e270"
  },
  {
   "cell_type": "code",
   "id": "89dd7fd0",
   "metadata": {
    "execution": {
     "iopub.execute_input": "2022-07-08T04:17:13.249152Z",
     "iopub.status.busy": "2022-07-08T04:17:13.248489Z",
     "iopub.status.idle": "2022-07-08T04:17:13.282642Z",
     "shell.execute_reply": "2022-07-08T04:17:13.281522Z"
    },
    "id": "6cViZDTmemb4",
    "outputId": "d9e219fe-48a3-4952-c704-d75247d5d267",
    "papermill": {
     "duration": 0.048325,
     "end_time": "2022-07-08T04:17:13.284847",
     "exception": false,
     "start_time": "2022-07-08T04:17:13.236522",
     "status": "completed"
    },
    "tags": [],
    "ExecuteTime": {
     "end_time": "2025-05-20T00:08:20.114331Z",
     "start_time": "2025-05-20T00:08:20.099244Z"
    }
   },
   "source": [
    "df.head()"
   ],
   "outputs": [
    {
     "data": {
      "text/plain": [
       "   SK_ID_CURR  TARGET NAME_CONTRACT_TYPE CODE_GENDER FLAG_OWN_CAR  \\\n",
       "0      100002       1         Cash loans           M            N   \n",
       "1      100003       0         Cash loans           F            N   \n",
       "2      100004       0    Revolving loans           M            Y   \n",
       "3      100006       0         Cash loans           F            N   \n",
       "4      100007       0         Cash loans           M            N   \n",
       "\n",
       "  FLAG_OWN_REALTY  CNT_CHILDREN  AMT_INCOME_TOTAL  AMT_CREDIT  AMT_ANNUITY  \\\n",
       "0               Y             0          202500.0    406597.5      24700.5   \n",
       "1               N             0          270000.0   1293502.5      35698.5   \n",
       "2               Y             0           67500.0    135000.0       6750.0   \n",
       "3               Y             0          135000.0    312682.5      29686.5   \n",
       "4               Y             0          121500.0    513000.0      21865.5   \n",
       "\n",
       "   ...  FLAG_DOCUMENT_18 FLAG_DOCUMENT_19 FLAG_DOCUMENT_20 FLAG_DOCUMENT_21  \\\n",
       "0  ...                 0                0                0                0   \n",
       "1  ...                 0                0                0                0   \n",
       "2  ...                 0                0                0                0   \n",
       "3  ...                 0                0                0                0   \n",
       "4  ...                 0                0                0                0   \n",
       "\n",
       "  AMT_REQ_CREDIT_BUREAU_HOUR AMT_REQ_CREDIT_BUREAU_DAY  \\\n",
       "0                        0.0                       0.0   \n",
       "1                        0.0                       0.0   \n",
       "2                        0.0                       0.0   \n",
       "3                        NaN                       NaN   \n",
       "4                        0.0                       0.0   \n",
       "\n",
       "   AMT_REQ_CREDIT_BUREAU_WEEK  AMT_REQ_CREDIT_BUREAU_MON  \\\n",
       "0                         0.0                        0.0   \n",
       "1                         0.0                        0.0   \n",
       "2                         0.0                        0.0   \n",
       "3                         NaN                        NaN   \n",
       "4                         0.0                        0.0   \n",
       "\n",
       "   AMT_REQ_CREDIT_BUREAU_QRT  AMT_REQ_CREDIT_BUREAU_YEAR  \n",
       "0                        0.0                         1.0  \n",
       "1                        0.0                         0.0  \n",
       "2                        0.0                         0.0  \n",
       "3                        NaN                         NaN  \n",
       "4                        0.0                         0.0  \n",
       "\n",
       "[5 rows x 122 columns]"
      ],
      "text/html": [
       "<div>\n",
       "<style scoped>\n",
       "    .dataframe tbody tr th:only-of-type {\n",
       "        vertical-align: middle;\n",
       "    }\n",
       "\n",
       "    .dataframe tbody tr th {\n",
       "        vertical-align: top;\n",
       "    }\n",
       "\n",
       "    .dataframe thead th {\n",
       "        text-align: right;\n",
       "    }\n",
       "</style>\n",
       "<table border=\"1\" class=\"dataframe\">\n",
       "  <thead>\n",
       "    <tr style=\"text-align: right;\">\n",
       "      <th></th>\n",
       "      <th>SK_ID_CURR</th>\n",
       "      <th>TARGET</th>\n",
       "      <th>NAME_CONTRACT_TYPE</th>\n",
       "      <th>CODE_GENDER</th>\n",
       "      <th>FLAG_OWN_CAR</th>\n",
       "      <th>FLAG_OWN_REALTY</th>\n",
       "      <th>CNT_CHILDREN</th>\n",
       "      <th>AMT_INCOME_TOTAL</th>\n",
       "      <th>AMT_CREDIT</th>\n",
       "      <th>AMT_ANNUITY</th>\n",
       "      <th>...</th>\n",
       "      <th>FLAG_DOCUMENT_18</th>\n",
       "      <th>FLAG_DOCUMENT_19</th>\n",
       "      <th>FLAG_DOCUMENT_20</th>\n",
       "      <th>FLAG_DOCUMENT_21</th>\n",
       "      <th>AMT_REQ_CREDIT_BUREAU_HOUR</th>\n",
       "      <th>AMT_REQ_CREDIT_BUREAU_DAY</th>\n",
       "      <th>AMT_REQ_CREDIT_BUREAU_WEEK</th>\n",
       "      <th>AMT_REQ_CREDIT_BUREAU_MON</th>\n",
       "      <th>AMT_REQ_CREDIT_BUREAU_QRT</th>\n",
       "      <th>AMT_REQ_CREDIT_BUREAU_YEAR</th>\n",
       "    </tr>\n",
       "  </thead>\n",
       "  <tbody>\n",
       "    <tr>\n",
       "      <th>0</th>\n",
       "      <td>100002</td>\n",
       "      <td>1</td>\n",
       "      <td>Cash loans</td>\n",
       "      <td>M</td>\n",
       "      <td>N</td>\n",
       "      <td>Y</td>\n",
       "      <td>0</td>\n",
       "      <td>202500.0</td>\n",
       "      <td>406597.5</td>\n",
       "      <td>24700.5</td>\n",
       "      <td>...</td>\n",
       "      <td>0</td>\n",
       "      <td>0</td>\n",
       "      <td>0</td>\n",
       "      <td>0</td>\n",
       "      <td>0.0</td>\n",
       "      <td>0.0</td>\n",
       "      <td>0.0</td>\n",
       "      <td>0.0</td>\n",
       "      <td>0.0</td>\n",
       "      <td>1.0</td>\n",
       "    </tr>\n",
       "    <tr>\n",
       "      <th>1</th>\n",
       "      <td>100003</td>\n",
       "      <td>0</td>\n",
       "      <td>Cash loans</td>\n",
       "      <td>F</td>\n",
       "      <td>N</td>\n",
       "      <td>N</td>\n",
       "      <td>0</td>\n",
       "      <td>270000.0</td>\n",
       "      <td>1293502.5</td>\n",
       "      <td>35698.5</td>\n",
       "      <td>...</td>\n",
       "      <td>0</td>\n",
       "      <td>0</td>\n",
       "      <td>0</td>\n",
       "      <td>0</td>\n",
       "      <td>0.0</td>\n",
       "      <td>0.0</td>\n",
       "      <td>0.0</td>\n",
       "      <td>0.0</td>\n",
       "      <td>0.0</td>\n",
       "      <td>0.0</td>\n",
       "    </tr>\n",
       "    <tr>\n",
       "      <th>2</th>\n",
       "      <td>100004</td>\n",
       "      <td>0</td>\n",
       "      <td>Revolving loans</td>\n",
       "      <td>M</td>\n",
       "      <td>Y</td>\n",
       "      <td>Y</td>\n",
       "      <td>0</td>\n",
       "      <td>67500.0</td>\n",
       "      <td>135000.0</td>\n",
       "      <td>6750.0</td>\n",
       "      <td>...</td>\n",
       "      <td>0</td>\n",
       "      <td>0</td>\n",
       "      <td>0</td>\n",
       "      <td>0</td>\n",
       "      <td>0.0</td>\n",
       "      <td>0.0</td>\n",
       "      <td>0.0</td>\n",
       "      <td>0.0</td>\n",
       "      <td>0.0</td>\n",
       "      <td>0.0</td>\n",
       "    </tr>\n",
       "    <tr>\n",
       "      <th>3</th>\n",
       "      <td>100006</td>\n",
       "      <td>0</td>\n",
       "      <td>Cash loans</td>\n",
       "      <td>F</td>\n",
       "      <td>N</td>\n",
       "      <td>Y</td>\n",
       "      <td>0</td>\n",
       "      <td>135000.0</td>\n",
       "      <td>312682.5</td>\n",
       "      <td>29686.5</td>\n",
       "      <td>...</td>\n",
       "      <td>0</td>\n",
       "      <td>0</td>\n",
       "      <td>0</td>\n",
       "      <td>0</td>\n",
       "      <td>NaN</td>\n",
       "      <td>NaN</td>\n",
       "      <td>NaN</td>\n",
       "      <td>NaN</td>\n",
       "      <td>NaN</td>\n",
       "      <td>NaN</td>\n",
       "    </tr>\n",
       "    <tr>\n",
       "      <th>4</th>\n",
       "      <td>100007</td>\n",
       "      <td>0</td>\n",
       "      <td>Cash loans</td>\n",
       "      <td>M</td>\n",
       "      <td>N</td>\n",
       "      <td>Y</td>\n",
       "      <td>0</td>\n",
       "      <td>121500.0</td>\n",
       "      <td>513000.0</td>\n",
       "      <td>21865.5</td>\n",
       "      <td>...</td>\n",
       "      <td>0</td>\n",
       "      <td>0</td>\n",
       "      <td>0</td>\n",
       "      <td>0</td>\n",
       "      <td>0.0</td>\n",
       "      <td>0.0</td>\n",
       "      <td>0.0</td>\n",
       "      <td>0.0</td>\n",
       "      <td>0.0</td>\n",
       "      <td>0.0</td>\n",
       "    </tr>\n",
       "  </tbody>\n",
       "</table>\n",
       "<p>5 rows × 122 columns</p>\n",
       "</div>"
      ]
     },
     "execution_count": 81,
     "metadata": {},
     "output_type": "execute_result"
    }
   ],
   "execution_count": 81
  },
  {
   "metadata": {
    "ExecuteTime": {
     "end_time": "2025-05-20T00:08:20.903039Z",
     "start_time": "2025-05-20T00:08:20.897552Z"
    }
   },
   "cell_type": "code",
   "source": "df.iloc[1]",
   "id": "7ff03801e14b047",
   "outputs": [
    {
     "data": {
      "text/plain": [
       "SK_ID_CURR                        100003\n",
       "TARGET                                 0\n",
       "NAME_CONTRACT_TYPE            Cash loans\n",
       "CODE_GENDER                            F\n",
       "FLAG_OWN_CAR                           N\n",
       "                                 ...    \n",
       "AMT_REQ_CREDIT_BUREAU_DAY            0.0\n",
       "AMT_REQ_CREDIT_BUREAU_WEEK           0.0\n",
       "AMT_REQ_CREDIT_BUREAU_MON            0.0\n",
       "AMT_REQ_CREDIT_BUREAU_QRT            0.0\n",
       "AMT_REQ_CREDIT_BUREAU_YEAR           0.0\n",
       "Name: 1, Length: 122, dtype: object"
      ]
     },
     "execution_count": 82,
     "metadata": {},
     "output_type": "execute_result"
    }
   ],
   "execution_count": 82
  },
  {
   "metadata": {
    "ExecuteTime": {
     "end_time": "2025-05-20T00:08:21.679645Z",
     "start_time": "2025-05-20T00:08:21.673416Z"
    }
   },
   "cell_type": "code",
   "source": "df.shape",
   "id": "ccc995d5",
   "outputs": [
    {
     "data": {
      "text/plain": [
       "(307511, 122)"
      ]
     },
     "execution_count": 83,
     "metadata": {},
     "output_type": "execute_result"
    }
   ],
   "execution_count": 83
  },
  {
   "cell_type": "code",
   "id": "bb9cbb9b",
   "metadata": {
    "execution": {
     "iopub.execute_input": "2022-07-08T04:17:13.341140Z",
     "iopub.status.busy": "2022-07-08T04:17:13.339976Z",
     "iopub.status.idle": "2022-07-08T04:17:13.345830Z",
     "shell.execute_reply": "2022-07-08T04:17:13.345169Z"
    },
    "papermill": {
     "duration": 0.019691,
     "end_time": "2022-07-08T04:17:13.347663",
     "exception": false,
     "start_time": "2022-07-08T04:17:13.327972",
     "status": "completed"
    },
    "tags": [],
    "ExecuteTime": {
     "end_time": "2025-05-20T00:08:22.268691Z",
     "start_time": "2025-05-20T00:08:22.264725Z"
    }
   },
   "source": [
    "df.size"
   ],
   "outputs": [
    {
     "data": {
      "text/plain": [
       "37516342"
      ]
     },
     "execution_count": 84,
     "metadata": {},
     "output_type": "execute_result"
    }
   ],
   "execution_count": 84
  },
  {
   "cell_type": "code",
   "id": "5d58c2b9",
   "metadata": {
    "execution": {
     "iopub.execute_input": "2022-07-08T04:17:13.371901Z",
     "iopub.status.busy": "2022-07-08T04:17:13.371197Z",
     "iopub.status.idle": "2022-07-08T04:17:13.378748Z",
     "shell.execute_reply": "2022-07-08T04:17:13.377999Z"
    },
    "papermill": {
     "duration": 0.021947,
     "end_time": "2022-07-08T04:17:13.380547",
     "exception": false,
     "start_time": "2022-07-08T04:17:13.358600",
     "status": "completed"
    },
    "tags": [],
    "ExecuteTime": {
     "end_time": "2025-05-20T00:08:22.979691Z",
     "start_time": "2025-05-20T00:08:22.973401Z"
    }
   },
   "source": [
    "df.dtypes"
   ],
   "outputs": [
    {
     "data": {
      "text/plain": [
       "SK_ID_CURR                      int64\n",
       "TARGET                          int64\n",
       "NAME_CONTRACT_TYPE             object\n",
       "CODE_GENDER                    object\n",
       "FLAG_OWN_CAR                   object\n",
       "                               ...   \n",
       "AMT_REQ_CREDIT_BUREAU_DAY     float64\n",
       "AMT_REQ_CREDIT_BUREAU_WEEK    float64\n",
       "AMT_REQ_CREDIT_BUREAU_MON     float64\n",
       "AMT_REQ_CREDIT_BUREAU_QRT     float64\n",
       "AMT_REQ_CREDIT_BUREAU_YEAR    float64\n",
       "Length: 122, dtype: object"
      ]
     },
     "execution_count": 85,
     "metadata": {},
     "output_type": "execute_result"
    }
   ],
   "execution_count": 85
  },
  {
   "cell_type": "code",
   "id": "4f67da35",
   "metadata": {
    "execution": {
     "iopub.execute_input": "2022-07-08T04:17:13.404765Z",
     "iopub.status.busy": "2022-07-08T04:17:13.404078Z",
     "iopub.status.idle": "2022-07-08T04:17:13.481879Z",
     "shell.execute_reply": "2022-07-08T04:17:13.480797Z"
    },
    "id": "oSlus6HGem8n",
    "papermill": {
     "duration": 0.093199,
     "end_time": "2022-07-08T04:17:13.484616",
     "exception": false,
     "start_time": "2022-07-08T04:17:13.391417",
     "status": "completed"
    },
    "tags": [],
    "ExecuteTime": {
     "end_time": "2025-05-20T00:12:21.587404Z",
     "start_time": "2025-05-20T00:12:21.353754Z"
    }
   },
   "source": [
    "df.drop([\"SK_ID_CURR\",\"CODE_GENDER\",\"FLAG_OWN_CAR\",\"FLAG_OWN_REALTY\",\"CNT_CHILDREN\",\"NAME_EDUCATION_TYPE\",\"NAME_FAMILY_STATUS\",\n",
    "         \"NAME_HOUSING_TYPE\",\"REGION_POPULATION_RELATIVE\",\"DAYS_BIRTH\",\"DAYS_EMPLOYED\",\"DAYS_REGISTRATION\",\"DAYS_ID_PUBLISH\",\"OWN_CAR_AGE\",\"FLAG_MOBIL\",\n",
    "         \"FLAG_EMP_PHONE\",\"FLAG_WORK_PHONE\",\"FLAG_CONT_MOBILE\",\"FLAG_PHONE\",\"FLAG_EMAIL\",\"FLAG_EMAIL\",\"CNT_FAM_MEMBERS\",\"REGION_RATING_CLIENT\",\n",
    "         \"REGION_RATING_CLIENT_W_CITY\",\"REG_REGION_NOT_LIVE_REGION\",\"REG_REGION_NOT_WORK_REGION\",\"NAME_TYPE_SUITE\",\n",
    "         \"LIVE_REGION_NOT_WORK_REGION\",\"REG_CITY_NOT_LIVE_CITY\",\"REG_CITY_NOT_WORK_CITY\",\"LIVE_CITY_NOT_WORK_CITY\"],axis=1,inplace=True)"
   ],
   "outputs": [],
   "execution_count": 107
  },
  {
   "cell_type": "code",
   "id": "3a8dff28",
   "metadata": {
    "execution": {
     "iopub.execute_input": "2022-07-08T04:17:13.509626Z",
     "iopub.status.busy": "2022-07-08T04:17:13.508553Z",
     "iopub.status.idle": "2022-07-08T04:17:13.584521Z",
     "shell.execute_reply": "2022-07-08T04:17:13.583149Z"
    },
    "id": "Q9XAHlkIna3v",
    "papermill": {
     "duration": 0.091371,
     "end_time": "2022-07-08T04:17:13.587304",
     "exception": false,
     "start_time": "2022-07-08T04:17:13.495933",
     "status": "completed"
    },
    "tags": [],
    "ExecuteTime": {
     "end_time": "2025-05-20T00:12:22.515911Z",
     "start_time": "2025-05-20T00:12:22.442454Z"
    }
   },
   "source": [
    "df.drop(['FONDKAPREMONT_MODE', 'HOUSETYPE_MODE',\n",
    "       'WALLSMATERIAL_MODE', 'EMERGENCYSTATE_MODE', 'OBS_30_CNT_SOCIAL_CIRCLE',\n",
    "       'DEF_30_CNT_SOCIAL_CIRCLE', 'OBS_60_CNT_SOCIAL_CIRCLE',\n",
    "       'DEF_60_CNT_SOCIAL_CIRCLE', 'DAYS_LAST_PHONE_CHANGE', 'FLAG_DOCUMENT_2',\n",
    "       'FLAG_DOCUMENT_3', 'FLAG_DOCUMENT_4', 'FLAG_DOCUMENT_5',\n",
    "       'FLAG_DOCUMENT_6', 'FLAG_DOCUMENT_7', 'FLAG_DOCUMENT_8',\n",
    "       'FLAG_DOCUMENT_9', 'FLAG_DOCUMENT_10', 'FLAG_DOCUMENT_11',\n",
    "       'FLAG_DOCUMENT_12', 'FLAG_DOCUMENT_13', 'FLAG_DOCUMENT_14',\n",
    "       'FLAG_DOCUMENT_15', 'FLAG_DOCUMENT_16', 'FLAG_DOCUMENT_17',\n",
    "       'FLAG_DOCUMENT_18', 'FLAG_DOCUMENT_19', 'FLAG_DOCUMENT_20',\n",
    "       'FLAG_DOCUMENT_21', 'AMT_REQ_CREDIT_BUREAU_HOUR','AMT_REQ_CREDIT_BUREAU_DAY', 'AMT_REQ_CREDIT_BUREAU_WEEK',\n",
    "       'AMT_REQ_CREDIT_BUREAU_MON', 'AMT_REQ_CREDIT_BUREAU_QRT',\n",
    "'AMT_REQ_CREDIT_BUREAU_YEAR'],axis=1,inplace=True)"
   ],
   "outputs": [],
   "execution_count": 108
  },
  {
   "cell_type": "code",
   "id": "ff74099a",
   "metadata": {
    "execution": {
     "iopub.execute_input": "2022-07-08T04:17:13.612450Z",
     "iopub.status.busy": "2022-07-08T04:17:13.611776Z",
     "iopub.status.idle": "2022-07-08T04:17:13.639224Z",
     "shell.execute_reply": "2022-07-08T04:17:13.638117Z"
    },
    "id": "HtFFbgWxenKw",
    "outputId": "59e9dd09-5f1c-4d80-8b75-d019ad1a36f5",
    "papermill": {
     "duration": 0.043018,
     "end_time": "2022-07-08T04:17:13.641761",
     "exception": false,
     "start_time": "2022-07-08T04:17:13.598743",
     "status": "completed"
    },
    "tags": [],
    "ExecuteTime": {
     "end_time": "2025-05-20T00:08:25.365221Z",
     "start_time": "2025-05-20T00:08:25.350716Z"
    }
   },
   "source": [
    "df.tail()"
   ],
   "outputs": [
    {
     "data": {
      "text/plain": [
       "        TARGET NAME_CONTRACT_TYPE  AMT_INCOME_TOTAL  AMT_CREDIT  AMT_ANNUITY  \\\n",
       "307506       0         Cash loans          157500.0    254700.0      27558.0   \n",
       "307507       0         Cash loans           72000.0    269550.0      12001.5   \n",
       "307508       0         Cash loans          153000.0    677664.0      29979.0   \n",
       "307509       1         Cash loans          171000.0    370107.0      20205.0   \n",
       "307510       0         Cash loans          157500.0    675000.0      49117.5   \n",
       "\n",
       "        AMT_GOODS_PRICE      NAME_INCOME_TYPE OCCUPATION_TYPE  \\\n",
       "307506         225000.0               Working     Sales staff   \n",
       "307507         225000.0             Pensioner             NaN   \n",
       "307508         585000.0               Working        Managers   \n",
       "307509         319500.0  Commercial associate        Laborers   \n",
       "307510         675000.0  Commercial associate        Laborers   \n",
       "\n",
       "       WEEKDAY_APPR_PROCESS_START  HOUR_APPR_PROCESS_START  ...  \\\n",
       "307506                   THURSDAY                       15  ...   \n",
       "307507                     MONDAY                        8  ...   \n",
       "307508                   THURSDAY                        9  ...   \n",
       "307509                  WEDNESDAY                        9  ...   \n",
       "307510                   THURSDAY                       20  ...   \n",
       "\n",
       "       ELEVATORS_MEDI  ENTRANCES_MEDI  FLOORSMAX_MEDI  FLOORSMIN_MEDI  \\\n",
       "307506           0.22          0.1034          0.6042          0.2708   \n",
       "307507           0.00          0.1034          0.0833          0.1250   \n",
       "307508           0.00          0.2069          0.1667          0.2083   \n",
       "307509            NaN          0.0690          0.0417             NaN   \n",
       "307510           0.08          0.0690          0.3750             NaN   \n",
       "\n",
       "        LANDAREA_MEDI  LIVINGAPARTMENTS_MEDI  LIVINGAREA_MEDI  \\\n",
       "307506         0.0605                 0.1509           0.2001   \n",
       "307507         0.0589                 0.0205           0.0261   \n",
       "307508            NaN                 0.0855           0.9445   \n",
       "307509            NaN                    NaN           0.0062   \n",
       "307510            NaN                    NaN           0.0805   \n",
       "\n",
       "        NONLIVINGAPARTMENTS_MEDI  NONLIVINGAREA_MEDI  TOTALAREA_MODE  \n",
       "307506                    0.0757              0.1118          0.2898  \n",
       "307507                    0.0000              0.0000          0.0214  \n",
       "307508                    0.0000              0.0000          0.7970  \n",
       "307509                       NaN                 NaN          0.0086  \n",
       "307510                       NaN              0.0000          0.0718  \n",
       "\n",
       "[5 rows x 57 columns]"
      ],
      "text/html": [
       "<div>\n",
       "<style scoped>\n",
       "    .dataframe tbody tr th:only-of-type {\n",
       "        vertical-align: middle;\n",
       "    }\n",
       "\n",
       "    .dataframe tbody tr th {\n",
       "        vertical-align: top;\n",
       "    }\n",
       "\n",
       "    .dataframe thead th {\n",
       "        text-align: right;\n",
       "    }\n",
       "</style>\n",
       "<table border=\"1\" class=\"dataframe\">\n",
       "  <thead>\n",
       "    <tr style=\"text-align: right;\">\n",
       "      <th></th>\n",
       "      <th>TARGET</th>\n",
       "      <th>NAME_CONTRACT_TYPE</th>\n",
       "      <th>AMT_INCOME_TOTAL</th>\n",
       "      <th>AMT_CREDIT</th>\n",
       "      <th>AMT_ANNUITY</th>\n",
       "      <th>AMT_GOODS_PRICE</th>\n",
       "      <th>NAME_INCOME_TYPE</th>\n",
       "      <th>OCCUPATION_TYPE</th>\n",
       "      <th>WEEKDAY_APPR_PROCESS_START</th>\n",
       "      <th>HOUR_APPR_PROCESS_START</th>\n",
       "      <th>...</th>\n",
       "      <th>ELEVATORS_MEDI</th>\n",
       "      <th>ENTRANCES_MEDI</th>\n",
       "      <th>FLOORSMAX_MEDI</th>\n",
       "      <th>FLOORSMIN_MEDI</th>\n",
       "      <th>LANDAREA_MEDI</th>\n",
       "      <th>LIVINGAPARTMENTS_MEDI</th>\n",
       "      <th>LIVINGAREA_MEDI</th>\n",
       "      <th>NONLIVINGAPARTMENTS_MEDI</th>\n",
       "      <th>NONLIVINGAREA_MEDI</th>\n",
       "      <th>TOTALAREA_MODE</th>\n",
       "    </tr>\n",
       "  </thead>\n",
       "  <tbody>\n",
       "    <tr>\n",
       "      <th>307506</th>\n",
       "      <td>0</td>\n",
       "      <td>Cash loans</td>\n",
       "      <td>157500.0</td>\n",
       "      <td>254700.0</td>\n",
       "      <td>27558.0</td>\n",
       "      <td>225000.0</td>\n",
       "      <td>Working</td>\n",
       "      <td>Sales staff</td>\n",
       "      <td>THURSDAY</td>\n",
       "      <td>15</td>\n",
       "      <td>...</td>\n",
       "      <td>0.22</td>\n",
       "      <td>0.1034</td>\n",
       "      <td>0.6042</td>\n",
       "      <td>0.2708</td>\n",
       "      <td>0.0605</td>\n",
       "      <td>0.1509</td>\n",
       "      <td>0.2001</td>\n",
       "      <td>0.0757</td>\n",
       "      <td>0.1118</td>\n",
       "      <td>0.2898</td>\n",
       "    </tr>\n",
       "    <tr>\n",
       "      <th>307507</th>\n",
       "      <td>0</td>\n",
       "      <td>Cash loans</td>\n",
       "      <td>72000.0</td>\n",
       "      <td>269550.0</td>\n",
       "      <td>12001.5</td>\n",
       "      <td>225000.0</td>\n",
       "      <td>Pensioner</td>\n",
       "      <td>NaN</td>\n",
       "      <td>MONDAY</td>\n",
       "      <td>8</td>\n",
       "      <td>...</td>\n",
       "      <td>0.00</td>\n",
       "      <td>0.1034</td>\n",
       "      <td>0.0833</td>\n",
       "      <td>0.1250</td>\n",
       "      <td>0.0589</td>\n",
       "      <td>0.0205</td>\n",
       "      <td>0.0261</td>\n",
       "      <td>0.0000</td>\n",
       "      <td>0.0000</td>\n",
       "      <td>0.0214</td>\n",
       "    </tr>\n",
       "    <tr>\n",
       "      <th>307508</th>\n",
       "      <td>0</td>\n",
       "      <td>Cash loans</td>\n",
       "      <td>153000.0</td>\n",
       "      <td>677664.0</td>\n",
       "      <td>29979.0</td>\n",
       "      <td>585000.0</td>\n",
       "      <td>Working</td>\n",
       "      <td>Managers</td>\n",
       "      <td>THURSDAY</td>\n",
       "      <td>9</td>\n",
       "      <td>...</td>\n",
       "      <td>0.00</td>\n",
       "      <td>0.2069</td>\n",
       "      <td>0.1667</td>\n",
       "      <td>0.2083</td>\n",
       "      <td>NaN</td>\n",
       "      <td>0.0855</td>\n",
       "      <td>0.9445</td>\n",
       "      <td>0.0000</td>\n",
       "      <td>0.0000</td>\n",
       "      <td>0.7970</td>\n",
       "    </tr>\n",
       "    <tr>\n",
       "      <th>307509</th>\n",
       "      <td>1</td>\n",
       "      <td>Cash loans</td>\n",
       "      <td>171000.0</td>\n",
       "      <td>370107.0</td>\n",
       "      <td>20205.0</td>\n",
       "      <td>319500.0</td>\n",
       "      <td>Commercial associate</td>\n",
       "      <td>Laborers</td>\n",
       "      <td>WEDNESDAY</td>\n",
       "      <td>9</td>\n",
       "      <td>...</td>\n",
       "      <td>NaN</td>\n",
       "      <td>0.0690</td>\n",
       "      <td>0.0417</td>\n",
       "      <td>NaN</td>\n",
       "      <td>NaN</td>\n",
       "      <td>NaN</td>\n",
       "      <td>0.0062</td>\n",
       "      <td>NaN</td>\n",
       "      <td>NaN</td>\n",
       "      <td>0.0086</td>\n",
       "    </tr>\n",
       "    <tr>\n",
       "      <th>307510</th>\n",
       "      <td>0</td>\n",
       "      <td>Cash loans</td>\n",
       "      <td>157500.0</td>\n",
       "      <td>675000.0</td>\n",
       "      <td>49117.5</td>\n",
       "      <td>675000.0</td>\n",
       "      <td>Commercial associate</td>\n",
       "      <td>Laborers</td>\n",
       "      <td>THURSDAY</td>\n",
       "      <td>20</td>\n",
       "      <td>...</td>\n",
       "      <td>0.08</td>\n",
       "      <td>0.0690</td>\n",
       "      <td>0.3750</td>\n",
       "      <td>NaN</td>\n",
       "      <td>NaN</td>\n",
       "      <td>NaN</td>\n",
       "      <td>0.0805</td>\n",
       "      <td>NaN</td>\n",
       "      <td>0.0000</td>\n",
       "      <td>0.0718</td>\n",
       "    </tr>\n",
       "  </tbody>\n",
       "</table>\n",
       "<p>5 rows × 57 columns</p>\n",
       "</div>"
      ]
     },
     "execution_count": 88,
     "metadata": {},
     "output_type": "execute_result"
    }
   ],
   "execution_count": 88
  },
  {
   "cell_type": "code",
   "id": "489abae4",
   "metadata": {
    "execution": {
     "iopub.execute_input": "2022-07-08T04:17:13.667294Z",
     "iopub.status.busy": "2022-07-08T04:17:13.666358Z",
     "iopub.status.idle": "2022-07-08T04:17:13.672263Z",
     "shell.execute_reply": "2022-07-08T04:17:13.671610Z"
    },
    "id": "McPYYbxypYAi",
    "outputId": "176b0ebd-39af-499c-e0c8-f109b09089f3",
    "papermill": {
     "duration": 0.02049,
     "end_time": "2022-07-08T04:17:13.674075",
     "exception": false,
     "start_time": "2022-07-08T04:17:13.653585",
     "status": "completed"
    },
    "tags": [],
    "ExecuteTime": {
     "end_time": "2025-05-20T00:08:26.148540Z",
     "start_time": "2025-05-20T00:08:26.143098Z"
    }
   },
   "source": [
    "df.columns"
   ],
   "outputs": [
    {
     "data": {
      "text/plain": [
       "Index(['TARGET', 'NAME_CONTRACT_TYPE', 'AMT_INCOME_TOTAL', 'AMT_CREDIT',\n",
       "       'AMT_ANNUITY', 'AMT_GOODS_PRICE', 'NAME_INCOME_TYPE', 'OCCUPATION_TYPE',\n",
       "       'WEEKDAY_APPR_PROCESS_START', 'HOUR_APPR_PROCESS_START',\n",
       "       'ORGANIZATION_TYPE', 'EXT_SOURCE_1', 'EXT_SOURCE_2', 'EXT_SOURCE_3',\n",
       "       'APARTMENTS_AVG', 'BASEMENTAREA_AVG', 'YEARS_BEGINEXPLUATATION_AVG',\n",
       "       'YEARS_BUILD_AVG', 'COMMONAREA_AVG', 'ELEVATORS_AVG', 'ENTRANCES_AVG',\n",
       "       'FLOORSMAX_AVG', 'FLOORSMIN_AVG', 'LANDAREA_AVG',\n",
       "       'LIVINGAPARTMENTS_AVG', 'LIVINGAREA_AVG', 'NONLIVINGAPARTMENTS_AVG',\n",
       "       'NONLIVINGAREA_AVG', 'APARTMENTS_MODE', 'BASEMENTAREA_MODE',\n",
       "       'YEARS_BEGINEXPLUATATION_MODE', 'YEARS_BUILD_MODE', 'COMMONAREA_MODE',\n",
       "       'ELEVATORS_MODE', 'ENTRANCES_MODE', 'FLOORSMAX_MODE', 'FLOORSMIN_MODE',\n",
       "       'LANDAREA_MODE', 'LIVINGAPARTMENTS_MODE', 'LIVINGAREA_MODE',\n",
       "       'NONLIVINGAPARTMENTS_MODE', 'NONLIVINGAREA_MODE', 'APARTMENTS_MEDI',\n",
       "       'BASEMENTAREA_MEDI', 'YEARS_BEGINEXPLUATATION_MEDI', 'YEARS_BUILD_MEDI',\n",
       "       'COMMONAREA_MEDI', 'ELEVATORS_MEDI', 'ENTRANCES_MEDI', 'FLOORSMAX_MEDI',\n",
       "       'FLOORSMIN_MEDI', 'LANDAREA_MEDI', 'LIVINGAPARTMENTS_MEDI',\n",
       "       'LIVINGAREA_MEDI', 'NONLIVINGAPARTMENTS_MEDI', 'NONLIVINGAREA_MEDI',\n",
       "       'TOTALAREA_MODE'],\n",
       "      dtype='object')"
      ]
     },
     "execution_count": 89,
     "metadata": {},
     "output_type": "execute_result"
    }
   ],
   "execution_count": 89
  },
  {
   "cell_type": "code",
   "id": "9c29e0ab",
   "metadata": {
    "execution": {
     "iopub.execute_input": "2022-07-08T04:17:13.701701Z",
     "iopub.status.busy": "2022-07-08T04:17:13.701009Z",
     "iopub.status.idle": "2022-07-08T04:17:13.715681Z",
     "shell.execute_reply": "2022-07-08T04:17:13.714897Z"
    },
    "id": "jSfhKaXhrABI",
    "papermill": {
     "duration": 0.030161,
     "end_time": "2022-07-08T04:17:13.717780",
     "exception": false,
     "start_time": "2022-07-08T04:17:13.687619",
     "status": "completed"
    },
    "tags": [],
    "ExecuteTime": {
     "end_time": "2025-05-20T00:12:25.618150Z",
     "start_time": "2025-05-20T00:12:25.597004Z"
    }
   },
   "source": [
    "df.drop(['EXT_SOURCE_1', 'EXT_SOURCE_2', 'EXT_SOURCE_3', 'APARTMENTS_AVG',\n",
    "       'BASEMENTAREA_AVG', 'YEARS_BEGINEXPLUATATION_AVG', 'YEARS_BUILD_AVG',\n",
    "       'COMMONAREA_AVG', 'ELEVATORS_AVG', 'ENTRANCES_AVG', 'FLOORSMAX_AVG',\n",
    "       'FLOORSMIN_AVG', 'LANDAREA_AVG', 'LIVINGAPARTMENTS_AVG','NAME_CONTRACT_TYPE',\n",
    "       'LIVINGAREA_AVG', 'NONLIVINGAPARTMENTS_AVG', 'NONLIVINGAREA_AVG',\n",
    "       'APARTMENTS_MODE', 'BASEMENTAREA_MODE', 'YEARS_BEGINEXPLUATATION_MODE',\n",
    "       'YEARS_BUILD_MODE', 'COMMONAREA_MODE', 'ELEVATORS_MODE','WEEKDAY_APPR_PROCESS_START',\n",
    "       'ENTRANCES_MODE', 'FLOORSMAX_MODE', 'FLOORSMIN_MODE', 'LANDAREA_MODE',\n",
    "       'LIVINGAPARTMENTS_MODE', 'LIVINGAREA_MODE', 'NONLIVINGAPARTMENTS_MODE',\n",
    "       'NONLIVINGAREA_MODE', 'APARTMENTS_MEDI', 'BASEMENTAREA_MEDI','OCCUPATION_TYPE',\n",
    "       'YEARS_BEGINEXPLUATATION_MEDI', 'YEARS_BUILD_MEDI', 'COMMONAREA_MEDI',\n",
    "       'ELEVATORS_MEDI', 'ENTRANCES_MEDI', 'FLOORSMAX_MEDI', 'FLOORSMIN_MEDI',\n",
    "       'LANDAREA_MEDI', 'LIVINGAPARTMENTS_MEDI', 'LIVINGAREA_MEDI',\n",
    "       'NONLIVINGAPARTMENTS_MEDI', 'NONLIVINGAREA_MEDI', 'TOTALAREA_MODE'],axis=1,inplace=True)"
   ],
   "outputs": [],
   "execution_count": 109
  },
  {
   "cell_type": "code",
   "id": "dcff81bd",
   "metadata": {
    "execution": {
     "iopub.execute_input": "2022-07-08T04:17:13.776546Z",
     "iopub.status.busy": "2022-07-08T04:17:13.775447Z",
     "iopub.status.idle": "2022-07-08T04:17:13.781644Z",
     "shell.execute_reply": "2022-07-08T04:17:13.780668Z"
    },
    "id": "XxbKo3CRr-LN",
    "outputId": "5b8a6240-62ad-4564-bcd2-22532ea44f30",
    "papermill": {
     "duration": 0.020796,
     "end_time": "2022-07-08T04:17:13.783682",
     "exception": false,
     "start_time": "2022-07-08T04:17:13.762886",
     "status": "completed"
    },
    "tags": [],
    "ExecuteTime": {
     "end_time": "2025-05-20T00:08:27.929998Z",
     "start_time": "2025-05-20T00:08:27.924921Z"
    }
   },
   "source": [
    "df.shape"
   ],
   "outputs": [
    {
     "data": {
      "text/plain": [
       "(307511, 8)"
      ]
     },
     "execution_count": 91,
     "metadata": {},
     "output_type": "execute_result"
    }
   ],
   "execution_count": 91
  },
  {
   "cell_type": "code",
   "id": "2fa3ee6f",
   "metadata": {
    "execution": {
     "iopub.execute_input": "2022-07-08T04:17:13.808926Z",
     "iopub.status.busy": "2022-07-08T04:17:13.808450Z",
     "iopub.status.idle": "2022-07-08T04:17:13.858216Z",
     "shell.execute_reply": "2022-07-08T04:17:13.856877Z"
    },
    "id": "CoUrEr78IdfW",
    "outputId": "2ff5fbd7-168d-43f2-96ae-8bd967f778db",
    "papermill": {
     "duration": 0.065924,
     "end_time": "2022-07-08T04:17:13.861364",
     "exception": false,
     "start_time": "2022-07-08T04:17:13.795440",
     "status": "completed"
    },
    "tags": [],
    "ExecuteTime": {
     "end_time": "2025-05-20T00:08:28.873362Z",
     "start_time": "2025-05-20T00:08:28.842137Z"
    }
   },
   "source": [
    "df.info()"
   ],
   "outputs": [
    {
     "name": "stdout",
     "output_type": "stream",
     "text": [
      "<class 'pandas.core.frame.DataFrame'>\n",
      "RangeIndex: 307511 entries, 0 to 307510\n",
      "Data columns (total 8 columns):\n",
      " #   Column                   Non-Null Count   Dtype  \n",
      "---  ------                   --------------   -----  \n",
      " 0   TARGET                   307511 non-null  int64  \n",
      " 1   AMT_INCOME_TOTAL         307511 non-null  float64\n",
      " 2   AMT_CREDIT               307511 non-null  float64\n",
      " 3   AMT_ANNUITY              307499 non-null  float64\n",
      " 4   AMT_GOODS_PRICE          307233 non-null  float64\n",
      " 5   NAME_INCOME_TYPE         307511 non-null  object \n",
      " 6   HOUR_APPR_PROCESS_START  307511 non-null  int64  \n",
      " 7   ORGANIZATION_TYPE        307511 non-null  object \n",
      "dtypes: float64(4), int64(2), object(2)\n",
      "memory usage: 18.8+ MB\n"
     ]
    }
   ],
   "execution_count": 92
  },
  {
   "cell_type": "code",
   "id": "3fccbafb",
   "metadata": {
    "execution": {
     "iopub.execute_input": "2022-07-08T04:17:13.886976Z",
     "iopub.status.busy": "2022-07-08T04:17:13.886592Z",
     "iopub.status.idle": "2022-07-08T04:17:14.019516Z",
     "shell.execute_reply": "2022-07-08T04:17:14.018336Z"
    },
    "papermill": {
     "duration": 0.148731,
     "end_time": "2022-07-08T04:17:14.022281",
     "exception": false,
     "start_time": "2022-07-08T04:17:13.873550",
     "status": "completed"
    },
    "tags": [],
    "ExecuteTime": {
     "end_time": "2025-05-20T00:08:29.756165Z",
     "start_time": "2025-05-20T00:08:29.668819Z"
    }
   },
   "source": [
    "df.describe()"
   ],
   "outputs": [
    {
     "data": {
      "text/plain": [
       "              TARGET  AMT_INCOME_TOTAL    AMT_CREDIT    AMT_ANNUITY  \\\n",
       "count  307511.000000      3.075110e+05  3.075110e+05  307499.000000   \n",
       "mean        0.080729      1.687979e+05  5.990260e+05   27108.573909   \n",
       "std         0.272419      2.371231e+05  4.024908e+05   14493.737315   \n",
       "min         0.000000      2.565000e+04  4.500000e+04    1615.500000   \n",
       "25%         0.000000      1.125000e+05  2.700000e+05   16524.000000   \n",
       "50%         0.000000      1.471500e+05  5.135310e+05   24903.000000   \n",
       "75%         0.000000      2.025000e+05  8.086500e+05   34596.000000   \n",
       "max         1.000000      1.170000e+08  4.050000e+06  258025.500000   \n",
       "\n",
       "       AMT_GOODS_PRICE  HOUR_APPR_PROCESS_START  \n",
       "count     3.072330e+05            307511.000000  \n",
       "mean      5.383962e+05                12.063419  \n",
       "std       3.694465e+05                 3.265832  \n",
       "min       4.050000e+04                 0.000000  \n",
       "25%       2.385000e+05                10.000000  \n",
       "50%       4.500000e+05                12.000000  \n",
       "75%       6.795000e+05                14.000000  \n",
       "max       4.050000e+06                23.000000  "
      ],
      "text/html": [
       "<div>\n",
       "<style scoped>\n",
       "    .dataframe tbody tr th:only-of-type {\n",
       "        vertical-align: middle;\n",
       "    }\n",
       "\n",
       "    .dataframe tbody tr th {\n",
       "        vertical-align: top;\n",
       "    }\n",
       "\n",
       "    .dataframe thead th {\n",
       "        text-align: right;\n",
       "    }\n",
       "</style>\n",
       "<table border=\"1\" class=\"dataframe\">\n",
       "  <thead>\n",
       "    <tr style=\"text-align: right;\">\n",
       "      <th></th>\n",
       "      <th>TARGET</th>\n",
       "      <th>AMT_INCOME_TOTAL</th>\n",
       "      <th>AMT_CREDIT</th>\n",
       "      <th>AMT_ANNUITY</th>\n",
       "      <th>AMT_GOODS_PRICE</th>\n",
       "      <th>HOUR_APPR_PROCESS_START</th>\n",
       "    </tr>\n",
       "  </thead>\n",
       "  <tbody>\n",
       "    <tr>\n",
       "      <th>count</th>\n",
       "      <td>307511.000000</td>\n",
       "      <td>3.075110e+05</td>\n",
       "      <td>3.075110e+05</td>\n",
       "      <td>307499.000000</td>\n",
       "      <td>3.072330e+05</td>\n",
       "      <td>307511.000000</td>\n",
       "    </tr>\n",
       "    <tr>\n",
       "      <th>mean</th>\n",
       "      <td>0.080729</td>\n",
       "      <td>1.687979e+05</td>\n",
       "      <td>5.990260e+05</td>\n",
       "      <td>27108.573909</td>\n",
       "      <td>5.383962e+05</td>\n",
       "      <td>12.063419</td>\n",
       "    </tr>\n",
       "    <tr>\n",
       "      <th>std</th>\n",
       "      <td>0.272419</td>\n",
       "      <td>2.371231e+05</td>\n",
       "      <td>4.024908e+05</td>\n",
       "      <td>14493.737315</td>\n",
       "      <td>3.694465e+05</td>\n",
       "      <td>3.265832</td>\n",
       "    </tr>\n",
       "    <tr>\n",
       "      <th>min</th>\n",
       "      <td>0.000000</td>\n",
       "      <td>2.565000e+04</td>\n",
       "      <td>4.500000e+04</td>\n",
       "      <td>1615.500000</td>\n",
       "      <td>4.050000e+04</td>\n",
       "      <td>0.000000</td>\n",
       "    </tr>\n",
       "    <tr>\n",
       "      <th>25%</th>\n",
       "      <td>0.000000</td>\n",
       "      <td>1.125000e+05</td>\n",
       "      <td>2.700000e+05</td>\n",
       "      <td>16524.000000</td>\n",
       "      <td>2.385000e+05</td>\n",
       "      <td>10.000000</td>\n",
       "    </tr>\n",
       "    <tr>\n",
       "      <th>50%</th>\n",
       "      <td>0.000000</td>\n",
       "      <td>1.471500e+05</td>\n",
       "      <td>5.135310e+05</td>\n",
       "      <td>24903.000000</td>\n",
       "      <td>4.500000e+05</td>\n",
       "      <td>12.000000</td>\n",
       "    </tr>\n",
       "    <tr>\n",
       "      <th>75%</th>\n",
       "      <td>0.000000</td>\n",
       "      <td>2.025000e+05</td>\n",
       "      <td>8.086500e+05</td>\n",
       "      <td>34596.000000</td>\n",
       "      <td>6.795000e+05</td>\n",
       "      <td>14.000000</td>\n",
       "    </tr>\n",
       "    <tr>\n",
       "      <th>max</th>\n",
       "      <td>1.000000</td>\n",
       "      <td>1.170000e+08</td>\n",
       "      <td>4.050000e+06</td>\n",
       "      <td>258025.500000</td>\n",
       "      <td>4.050000e+06</td>\n",
       "      <td>23.000000</td>\n",
       "    </tr>\n",
       "  </tbody>\n",
       "</table>\n",
       "</div>"
      ]
     },
     "execution_count": 93,
     "metadata": {},
     "output_type": "execute_result"
    }
   ],
   "execution_count": 93
  },
  {
   "cell_type": "markdown",
   "id": "50c5c489",
   "metadata": {
    "papermill": {
     "duration": 0.012635,
     "end_time": "2022-07-08T04:17:14.047039",
     "exception": false,
     "start_time": "2022-07-08T04:17:14.034404",
     "status": "completed"
    },
    "tags": []
   },
   "source": [
    "**Missing Numbes**"
   ]
  },
  {
   "cell_type": "code",
   "id": "1beeed2d",
   "metadata": {
    "execution": {
     "iopub.execute_input": "2022-07-08T04:17:14.083148Z",
     "iopub.status.busy": "2022-07-08T04:17:14.073415Z",
     "iopub.status.idle": "2022-07-08T04:17:14.090569Z",
     "shell.execute_reply": "2022-07-08T04:17:14.089789Z"
    },
    "papermill": {
     "duration": 0.033354,
     "end_time": "2022-07-08T04:17:14.092922",
     "exception": false,
     "start_time": "2022-07-08T04:17:14.059568",
     "status": "completed"
    },
    "tags": [],
    "ExecuteTime": {
     "end_time": "2025-05-20T00:12:31.124640Z",
     "start_time": "2025-05-20T00:12:31.120638Z"
    }
   },
   "source": [
    "def missing (df1):\n",
    "    missing_number = df1.isnull().sum().sort_values(ascending=False)\n",
    "    missing_percent = ((df1.isnull().sum()/df1.isnull().count())*100).sort_values(ascending=False)\n",
    "    missing_values = pd.concat([missing_number, missing_percent], axis=1, keys=['Missing_Number', 'Missing_Percent'])\n",
    "    return missing_values"
   ],
   "outputs": [],
   "execution_count": 110
  },
  {
   "cell_type": "markdown",
   "id": "238196ef",
   "metadata": {
    "papermill": {
     "duration": 0.011419,
     "end_time": "2022-07-08T04:17:14.116450",
     "exception": false,
     "start_time": "2022-07-08T04:17:14.105031",
     "status": "completed"
    },
    "tags": []
   },
   "source": [
    "**Fill Null values with Mean, median and Mode**"
   ]
  },
  {
   "cell_type": "code",
   "id": "01e348f9",
   "metadata": {
    "execution": {
     "iopub.execute_input": "2022-07-08T04:17:14.142113Z",
     "iopub.status.busy": "2022-07-08T04:17:14.141591Z",
     "iopub.status.idle": "2022-07-08T04:17:14.182104Z",
     "shell.execute_reply": "2022-07-08T04:17:14.180885Z"
    },
    "id": "wCXiYutGskFD",
    "outputId": "9235ce4a-cc66-4654-f3cb-1de25f10ce0d",
    "papermill": {
     "duration": 0.056174,
     "end_time": "2022-07-08T04:17:14.184447",
     "exception": false,
     "start_time": "2022-07-08T04:17:14.128273",
     "status": "completed"
    },
    "tags": [],
    "ExecuteTime": {
     "end_time": "2025-05-20T00:08:33.868220Z",
     "start_time": "2025-05-20T00:08:33.842676Z"
    }
   },
   "source": [
    "df.isnull().sum()"
   ],
   "outputs": [
    {
     "data": {
      "text/plain": [
       "TARGET                       0\n",
       "AMT_INCOME_TOTAL             0\n",
       "AMT_CREDIT                   0\n",
       "AMT_ANNUITY                 12\n",
       "AMT_GOODS_PRICE            278\n",
       "NAME_INCOME_TYPE             0\n",
       "HOUR_APPR_PROCESS_START      0\n",
       "ORGANIZATION_TYPE            0\n",
       "dtype: int64"
      ]
     },
     "execution_count": 95,
     "metadata": {},
     "output_type": "execute_result"
    }
   ],
   "execution_count": 95
  },
  {
   "cell_type": "code",
   "id": "ce5e4385",
   "metadata": {
    "execution": {
     "iopub.execute_input": "2022-07-08T04:17:14.220994Z",
     "iopub.status.busy": "2022-07-08T04:17:14.220541Z",
     "iopub.status.idle": "2022-07-08T04:17:14.378112Z",
     "shell.execute_reply": "2022-07-08T04:17:14.376832Z"
    },
    "papermill": {
     "duration": 0.17874,
     "end_time": "2022-07-08T04:17:14.381318",
     "exception": false,
     "start_time": "2022-07-08T04:17:14.202578",
     "status": "completed"
    },
    "tags": [],
    "ExecuteTime": {
     "end_time": "2025-05-20T00:08:34.926593Z",
     "start_time": "2025-05-20T00:08:34.837956Z"
    }
   },
   "source": [
    "#fill null values with mean,median ,mode\n",
    "for i in df.columns:\n",
    "    if df[i].dtypes == 'object':\n",
    "        df[i].fillna(df[i].mode()[0], inplace=True)\n",
    "    else:\n",
    "        df[i].fillna(df[i].median(), inplace=True)\n",
    "print(df)"
   ],
   "outputs": [
    {
     "name": "stdout",
     "output_type": "stream",
     "text": [
      "        TARGET  AMT_INCOME_TOTAL  AMT_CREDIT  AMT_ANNUITY  AMT_GOODS_PRICE  \\\n",
      "0            1          202500.0    406597.5      24700.5         351000.0   \n",
      "1            0          270000.0   1293502.5      35698.5        1129500.0   \n",
      "2            0           67500.0    135000.0       6750.0         135000.0   \n",
      "3            0          135000.0    312682.5      29686.5         297000.0   \n",
      "4            0          121500.0    513000.0      21865.5         513000.0   \n",
      "...        ...               ...         ...          ...              ...   \n",
      "307506       0          157500.0    254700.0      27558.0         225000.0   \n",
      "307507       0           72000.0    269550.0      12001.5         225000.0   \n",
      "307508       0          153000.0    677664.0      29979.0         585000.0   \n",
      "307509       1          171000.0    370107.0      20205.0         319500.0   \n",
      "307510       0          157500.0    675000.0      49117.5         675000.0   \n",
      "\n",
      "            NAME_INCOME_TYPE  HOUR_APPR_PROCESS_START       ORGANIZATION_TYPE  \n",
      "0                    Working                       10  Business Entity Type 3  \n",
      "1              State servant                       11                  School  \n",
      "2                    Working                        9              Government  \n",
      "3                    Working                       17  Business Entity Type 3  \n",
      "4                    Working                       11                Religion  \n",
      "...                      ...                      ...                     ...  \n",
      "307506               Working                       15                Services  \n",
      "307507             Pensioner                        8                     XNA  \n",
      "307508               Working                        9                  School  \n",
      "307509  Commercial associate                        9  Business Entity Type 1  \n",
      "307510  Commercial associate                       20  Business Entity Type 3  \n",
      "\n",
      "[307511 rows x 8 columns]\n"
     ]
    },
    {
     "name": "stderr",
     "output_type": "stream",
     "text": [
      "C:\\Users\\gyanr\\AppData\\Local\\Temp\\ipykernel_42084\\2933836453.py:6: FutureWarning: A value is trying to be set on a copy of a DataFrame or Series through chained assignment using an inplace method.\n",
      "The behavior will change in pandas 3.0. This inplace method will never work because the intermediate object on which we are setting values always behaves as a copy.\n",
      "\n",
      "For example, when doing 'df[col].method(value, inplace=True)', try using 'df.method({col: value}, inplace=True)' or df[col] = df[col].method(value) instead, to perform the operation inplace on the original object.\n",
      "\n",
      "\n",
      "  df[i].fillna(df[i].median(), inplace=True)\n",
      "C:\\Users\\gyanr\\AppData\\Local\\Temp\\ipykernel_42084\\2933836453.py:6: FutureWarning: A value is trying to be set on a copy of a DataFrame or Series through chained assignment using an inplace method.\n",
      "The behavior will change in pandas 3.0. This inplace method will never work because the intermediate object on which we are setting values always behaves as a copy.\n",
      "\n",
      "For example, when doing 'df[col].method(value, inplace=True)', try using 'df.method({col: value}, inplace=True)' or df[col] = df[col].method(value) instead, to perform the operation inplace on the original object.\n",
      "\n",
      "\n",
      "  df[i].fillna(df[i].median(), inplace=True)\n",
      "C:\\Users\\gyanr\\AppData\\Local\\Temp\\ipykernel_42084\\2933836453.py:6: FutureWarning: A value is trying to be set on a copy of a DataFrame or Series through chained assignment using an inplace method.\n",
      "The behavior will change in pandas 3.0. This inplace method will never work because the intermediate object on which we are setting values always behaves as a copy.\n",
      "\n",
      "For example, when doing 'df[col].method(value, inplace=True)', try using 'df.method({col: value}, inplace=True)' or df[col] = df[col].method(value) instead, to perform the operation inplace on the original object.\n",
      "\n",
      "\n",
      "  df[i].fillna(df[i].median(), inplace=True)\n",
      "C:\\Users\\gyanr\\AppData\\Local\\Temp\\ipykernel_42084\\2933836453.py:6: FutureWarning: A value is trying to be set on a copy of a DataFrame or Series through chained assignment using an inplace method.\n",
      "The behavior will change in pandas 3.0. This inplace method will never work because the intermediate object on which we are setting values always behaves as a copy.\n",
      "\n",
      "For example, when doing 'df[col].method(value, inplace=True)', try using 'df.method({col: value}, inplace=True)' or df[col] = df[col].method(value) instead, to perform the operation inplace on the original object.\n",
      "\n",
      "\n",
      "  df[i].fillna(df[i].median(), inplace=True)\n",
      "C:\\Users\\gyanr\\AppData\\Local\\Temp\\ipykernel_42084\\2933836453.py:6: FutureWarning: A value is trying to be set on a copy of a DataFrame or Series through chained assignment using an inplace method.\n",
      "The behavior will change in pandas 3.0. This inplace method will never work because the intermediate object on which we are setting values always behaves as a copy.\n",
      "\n",
      "For example, when doing 'df[col].method(value, inplace=True)', try using 'df.method({col: value}, inplace=True)' or df[col] = df[col].method(value) instead, to perform the operation inplace on the original object.\n",
      "\n",
      "\n",
      "  df[i].fillna(df[i].median(), inplace=True)\n",
      "C:\\Users\\gyanr\\AppData\\Local\\Temp\\ipykernel_42084\\2933836453.py:4: FutureWarning: A value is trying to be set on a copy of a DataFrame or Series through chained assignment using an inplace method.\n",
      "The behavior will change in pandas 3.0. This inplace method will never work because the intermediate object on which we are setting values always behaves as a copy.\n",
      "\n",
      "For example, when doing 'df[col].method(value, inplace=True)', try using 'df.method({col: value}, inplace=True)' or df[col] = df[col].method(value) instead, to perform the operation inplace on the original object.\n",
      "\n",
      "\n",
      "  df[i].fillna(df[i].mode()[0], inplace=True)\n",
      "C:\\Users\\gyanr\\AppData\\Local\\Temp\\ipykernel_42084\\2933836453.py:6: FutureWarning: A value is trying to be set on a copy of a DataFrame or Series through chained assignment using an inplace method.\n",
      "The behavior will change in pandas 3.0. This inplace method will never work because the intermediate object on which we are setting values always behaves as a copy.\n",
      "\n",
      "For example, when doing 'df[col].method(value, inplace=True)', try using 'df.method({col: value}, inplace=True)' or df[col] = df[col].method(value) instead, to perform the operation inplace on the original object.\n",
      "\n",
      "\n",
      "  df[i].fillna(df[i].median(), inplace=True)\n",
      "C:\\Users\\gyanr\\AppData\\Local\\Temp\\ipykernel_42084\\2933836453.py:4: FutureWarning: A value is trying to be set on a copy of a DataFrame or Series through chained assignment using an inplace method.\n",
      "The behavior will change in pandas 3.0. This inplace method will never work because the intermediate object on which we are setting values always behaves as a copy.\n",
      "\n",
      "For example, when doing 'df[col].method(value, inplace=True)', try using 'df.method({col: value}, inplace=True)' or df[col] = df[col].method(value) instead, to perform the operation inplace on the original object.\n",
      "\n",
      "\n",
      "  df[i].fillna(df[i].mode()[0], inplace=True)\n"
     ]
    }
   ],
   "execution_count": 96
  },
  {
   "cell_type": "code",
   "id": "8f7303fe",
   "metadata": {
    "execution": {
     "iopub.execute_input": "2022-07-08T04:17:14.410221Z",
     "iopub.status.busy": "2022-07-08T04:17:14.409152Z",
     "iopub.status.idle": "2022-07-08T04:17:14.453517Z",
     "shell.execute_reply": "2022-07-08T04:17:14.451262Z"
    },
    "id": "FDw_vuI-3Y8p",
    "outputId": "ea04c75e-247d-4420-85bf-f716999e04cb",
    "papermill": {
     "duration": 0.061971,
     "end_time": "2022-07-08T04:17:14.456231",
     "exception": false,
     "start_time": "2022-07-08T04:17:14.394260",
     "status": "completed"
    },
    "tags": [],
    "ExecuteTime": {
     "end_time": "2025-05-20T00:08:36.717926Z",
     "start_time": "2025-05-20T00:08:36.691922Z"
    }
   },
   "source": [
    "df.isnull().sum()"
   ],
   "outputs": [
    {
     "data": {
      "text/plain": [
       "TARGET                     0\n",
       "AMT_INCOME_TOTAL           0\n",
       "AMT_CREDIT                 0\n",
       "AMT_ANNUITY                0\n",
       "AMT_GOODS_PRICE            0\n",
       "NAME_INCOME_TYPE           0\n",
       "HOUR_APPR_PROCESS_START    0\n",
       "ORGANIZATION_TYPE          0\n",
       "dtype: int64"
      ]
     },
     "execution_count": 97,
     "metadata": {},
     "output_type": "execute_result"
    }
   ],
   "execution_count": 97
  },
  {
   "cell_type": "code",
   "id": "1cbfbadb",
   "metadata": {
    "execution": {
     "iopub.execute_input": "2022-07-08T04:17:14.484145Z",
     "iopub.status.busy": "2022-07-08T04:17:14.483269Z",
     "iopub.status.idle": "2022-07-08T04:17:14.501519Z",
     "shell.execute_reply": "2022-07-08T04:17:14.500583Z"
    },
    "id": "2wW9dzmES9zf",
    "outputId": "6a785756-e1a7-4d91-9eb0-aa38ddc1cc71",
    "papermill": {
     "duration": 0.034949,
     "end_time": "2022-07-08T04:17:14.503915",
     "exception": false,
     "start_time": "2022-07-08T04:17:14.468966",
     "status": "completed"
    },
    "tags": [],
    "ExecuteTime": {
     "end_time": "2025-05-20T00:08:38.020066Z",
     "start_time": "2025-05-20T00:08:38.012258Z"
    }
   },
   "source": [
    "df.head()"
   ],
   "outputs": [
    {
     "data": {
      "text/plain": [
       "   TARGET  AMT_INCOME_TOTAL  AMT_CREDIT  AMT_ANNUITY  AMT_GOODS_PRICE  \\\n",
       "0       1          202500.0    406597.5      24700.5         351000.0   \n",
       "1       0          270000.0   1293502.5      35698.5        1129500.0   \n",
       "2       0           67500.0    135000.0       6750.0         135000.0   \n",
       "3       0          135000.0    312682.5      29686.5         297000.0   \n",
       "4       0          121500.0    513000.0      21865.5         513000.0   \n",
       "\n",
       "  NAME_INCOME_TYPE  HOUR_APPR_PROCESS_START       ORGANIZATION_TYPE  \n",
       "0          Working                       10  Business Entity Type 3  \n",
       "1    State servant                       11                  School  \n",
       "2          Working                        9              Government  \n",
       "3          Working                       17  Business Entity Type 3  \n",
       "4          Working                       11                Religion  "
      ],
      "text/html": [
       "<div>\n",
       "<style scoped>\n",
       "    .dataframe tbody tr th:only-of-type {\n",
       "        vertical-align: middle;\n",
       "    }\n",
       "\n",
       "    .dataframe tbody tr th {\n",
       "        vertical-align: top;\n",
       "    }\n",
       "\n",
       "    .dataframe thead th {\n",
       "        text-align: right;\n",
       "    }\n",
       "</style>\n",
       "<table border=\"1\" class=\"dataframe\">\n",
       "  <thead>\n",
       "    <tr style=\"text-align: right;\">\n",
       "      <th></th>\n",
       "      <th>TARGET</th>\n",
       "      <th>AMT_INCOME_TOTAL</th>\n",
       "      <th>AMT_CREDIT</th>\n",
       "      <th>AMT_ANNUITY</th>\n",
       "      <th>AMT_GOODS_PRICE</th>\n",
       "      <th>NAME_INCOME_TYPE</th>\n",
       "      <th>HOUR_APPR_PROCESS_START</th>\n",
       "      <th>ORGANIZATION_TYPE</th>\n",
       "    </tr>\n",
       "  </thead>\n",
       "  <tbody>\n",
       "    <tr>\n",
       "      <th>0</th>\n",
       "      <td>1</td>\n",
       "      <td>202500.0</td>\n",
       "      <td>406597.5</td>\n",
       "      <td>24700.5</td>\n",
       "      <td>351000.0</td>\n",
       "      <td>Working</td>\n",
       "      <td>10</td>\n",
       "      <td>Business Entity Type 3</td>\n",
       "    </tr>\n",
       "    <tr>\n",
       "      <th>1</th>\n",
       "      <td>0</td>\n",
       "      <td>270000.0</td>\n",
       "      <td>1293502.5</td>\n",
       "      <td>35698.5</td>\n",
       "      <td>1129500.0</td>\n",
       "      <td>State servant</td>\n",
       "      <td>11</td>\n",
       "      <td>School</td>\n",
       "    </tr>\n",
       "    <tr>\n",
       "      <th>2</th>\n",
       "      <td>0</td>\n",
       "      <td>67500.0</td>\n",
       "      <td>135000.0</td>\n",
       "      <td>6750.0</td>\n",
       "      <td>135000.0</td>\n",
       "      <td>Working</td>\n",
       "      <td>9</td>\n",
       "      <td>Government</td>\n",
       "    </tr>\n",
       "    <tr>\n",
       "      <th>3</th>\n",
       "      <td>0</td>\n",
       "      <td>135000.0</td>\n",
       "      <td>312682.5</td>\n",
       "      <td>29686.5</td>\n",
       "      <td>297000.0</td>\n",
       "      <td>Working</td>\n",
       "      <td>17</td>\n",
       "      <td>Business Entity Type 3</td>\n",
       "    </tr>\n",
       "    <tr>\n",
       "      <th>4</th>\n",
       "      <td>0</td>\n",
       "      <td>121500.0</td>\n",
       "      <td>513000.0</td>\n",
       "      <td>21865.5</td>\n",
       "      <td>513000.0</td>\n",
       "      <td>Working</td>\n",
       "      <td>11</td>\n",
       "      <td>Religion</td>\n",
       "    </tr>\n",
       "  </tbody>\n",
       "</table>\n",
       "</div>"
      ]
     },
     "execution_count": 98,
     "metadata": {},
     "output_type": "execute_result"
    }
   ],
   "execution_count": 98
  },
  {
   "cell_type": "markdown",
   "id": "e0088180",
   "metadata": {
    "papermill": {
     "duration": 0.013472,
     "end_time": "2022-07-08T04:17:14.530323",
     "exception": false,
     "start_time": "2022-07-08T04:17:14.516851",
     "status": "completed"
    },
    "tags": []
   },
   "source": [
    "**Split the Numeric and Catagorical Data**"
   ]
  },
  {
   "metadata": {
    "ExecuteTime": {
     "end_time": "2025-05-20T00:08:42.683700Z",
     "start_time": "2025-05-20T00:08:40.317456Z"
    }
   },
   "cell_type": "code",
   "source": [
    "sns.histplot(df,bins=25)\n",
    "plt.show()"
   ],
   "id": "a941c930ef39c981",
   "outputs": [
    {
     "data": {
      "text/plain": [
       "<Figure size 640x480 with 1 Axes>"
      ],
      "image/png": "[encoded data removed]"
     },
     "metadata": {},
     "output_type": "display_data"
    }
   ],
   "execution_count": 99
  },
  {
   "metadata": {},
   "cell_type": "code",
   "outputs": [
    {
     "name": "stdout",
     "output_type": "stream",
     "text": [
      "Numerical Columns:  Index(['AMT_INCOME_TOTAL', 'AMT_CREDIT', 'AMT_ANNUITY', 'AMT_GOODS_PRICE',\n",
      "       'HOUR_APPR_PROCESS_START'],\n",
      "      dtype='object')\n",
      "\n",
      "\n",
      "Categorical Columns: Index(['NAME_INCOME_TYPE', 'ORGANIZATION_TYPE'], dtype='object')\n"
     ]
    }
   ],
   "execution_count": 30,
   "source": [
    "# finding numerical data and categorical data in dataset\n",
    "numerical= df.drop(['TARGET'], axis=1).select_dtypes('number').columns\n",
    "\n",
    "categorical = df.select_dtypes('object').columns\n",
    "\n",
    "print(f'Numerical Columns:  {df[numerical].columns}')\n",
    "print('\\n')\n",
    "print(f'Categorical Columns: {df[categorical].columns}')"
   ],
   "id": "9ac54dbc"
  },
  {
   "cell_type": "markdown",
   "id": "ebdf135c",
   "metadata": {
    "papermill": {
     "duration": 0.014585,
     "end_time": "2022-07-08T04:17:14.639000",
     "exception": false,
     "start_time": "2022-07-08T04:17:14.624415",
     "status": "completed"
    },
    "tags": []
   },
   "source": [
    "**Count Plot**"
   ]
  },
  {
   "metadata": {
    "ExecuteTime": {
     "end_time": "2025-05-19T23:52:56.478938Z",
     "start_time": "2025-05-19T23:52:55.843054Z"
    }
   },
   "cell_type": "code",
   "source": [
    "# Select only object-type columns\n",
    "for col in df.select_dtypes(include='object').columns:\n",
    "    # Skip columns with too many unique values (optional)\n",
    "    if df[col].nunique() > 35:\n",
    "        print(f\"Skipping column '{col}' — too many unique values ({df[col].nunique()})\")\n",
    "        continue\n",
    "\n",
    "    plt.figure(figsize=(10, 5))\n",
    "    sns.countplot(data=df, x=col, order=df[col].value_counts().index)\n",
    "\n",
    "    plt.title(f'Value Counts for Column: {col}')\n",
    "    plt.xticks(rotation=45, ha='right', fontsize=10)\n",
    "    plt.xlabel(col)\n",
    "    plt.ylabel('Count')\n",
    "    plt.tight_layout()\n",
    "    plt.show()"
   ],
   "id": "e684aea7ceedf600",
   "outputs": [
    {
     "data": {
      "text/plain": [
       "<Figure size 1000x500 with 1 Axes>"
      ],
      "image/png": "[encoded data removed]"
     },
     "metadata": {},
     "output_type": "display_data"
    },
    {
     "name": "stdout",
     "output_type": "stream",
     "text": [
      "Skipping column 'ORGANIZATION_TYPE' — too many unique values (58)\n"
     ]
    }
   ],
   "execution_count": 43
  },
  {
   "metadata": {
    "ExecuteTime": {
     "end_time": "2025-05-19T23:53:06.779146Z",
     "start_time": "2025-05-19T23:53:06.656620Z"
    }
   },
   "cell_type": "code",
   "source": [
    "# Convert data types to strings and count them\n",
    "dtype_counts = df.dtypes.astype(str).value_counts().reset_index()\n",
    "dtype_counts.columns = ['dtype', 'count']\n",
    "\n",
    "# Plot using seaborn\n",
    "sns.barplot(data=dtype_counts, x='dtype', y='count')\n",
    "plt.title('Count of Data Types in DataFrame')\n",
    "plt.xlabel('Data Type')\n",
    "plt.ylabel('Count')\n",
    "plt.show()"
   ],
   "id": "a9d52430b167fea5",
   "outputs": [
    {
     "data": {
      "text/plain": [
       "<Figure size 640x480 with 1 Axes>"
      ],
      "image/png": "[encoded data removed]"
     },
     "metadata": {},
     "output_type": "display_data"
    }
   ],
   "execution_count": 44
  },
  {
   "cell_type": "markdown",
   "id": "29d4598d",
   "metadata": {
    "papermill": {
     "duration": 0.013559,
     "end_time": "2022-07-08T04:17:14.899189",
     "exception": false,
     "start_time": "2022-07-08T04:17:14.885630",
     "status": "completed"
    },
    "tags": []
   },
   "source": [
    "**Apply the Label Encoding**"
   ]
  },
  {
   "cell_type": "markdown",
   "id": "e62bd691",
   "metadata": {
    "papermill": {
     "duration": 0.012488,
     "end_time": "2022-07-08T04:17:14.925347",
     "exception": false,
     "start_time": "2022-07-08T04:17:14.912859",
     "status": "completed"
    },
    "tags": []
   },
   "source": [
    "Label encoding is the process of transforming labels into a numeric form so that they may be read by machines. The operation of those labels can then be better determined by machine learning techniques. It is a significant supervised learning pre-processing step for the structured dataset."
   ]
  },
  {
   "cell_type": "code",
   "id": "228a73d7",
   "metadata": {
    "execution": {
     "iopub.execute_input": "2022-07-08T04:17:14.953677Z",
     "iopub.status.busy": "2022-07-08T04:17:14.952839Z",
     "iopub.status.idle": "2022-07-08T04:17:15.029225Z",
     "shell.execute_reply": "2022-07-08T04:17:15.027816Z"
    },
    "id": "zpna9Ox-SmXg",
    "outputId": "4fa94dd8-1fd7-47a0-bb01-15e59eb7101d",
    "papermill": {
     "duration": 0.093723,
     "end_time": "2022-07-08T04:17:15.031907",
     "exception": false,
     "start_time": "2022-07-08T04:17:14.938184",
     "status": "completed"
    },
    "tags": [],
    "ExecuteTime": {
     "end_time": "2025-05-20T00:12:42.354876Z",
     "start_time": "2025-05-20T00:12:42.248130Z"
    }
   },
   "source": [
    "# Import label encoder\n",
    "from sklearn import preprocessing\n",
    "\n",
    "# label_encoder object knows how to understand word labels.\n",
    "label_encoder = preprocessing.LabelEncoder()\n",
    "col = ['NAME_INCOME_TYPE', 'ORGANIZATION_TYPE']\n",
    "\n",
    "for i in col:\n",
    "    df[i] =label_encoder.fit_transform(df[i] )\n",
    "df.head()\n",
    "\n"
   ],
   "outputs": [
    {
     "data": {
      "text/plain": [
       "   TARGET  AMT_INCOME_TOTAL  AMT_CREDIT  AMT_ANNUITY  AMT_GOODS_PRICE  \\\n",
       "0       1          202500.0    406597.5      24700.5         351000.0   \n",
       "1       0          270000.0   1293502.5      35698.5        1129500.0   \n",
       "2       0           67500.0    135000.0       6750.0         135000.0   \n",
       "3       0          135000.0    312682.5      29686.5         297000.0   \n",
       "4       0          121500.0    513000.0      21865.5         513000.0   \n",
       "\n",
       "   NAME_INCOME_TYPE  HOUR_APPR_PROCESS_START  ORGANIZATION_TYPE  \n",
       "0                 7                       10                  5  \n",
       "1                 4                       11                 39  \n",
       "2                 7                        9                 11  \n",
       "3                 7                       17                  5  \n",
       "4                 7                       11                 37  "
      ],
      "text/html": [
       "<div>\n",
       "<style scoped>\n",
       "    .dataframe tbody tr th:only-of-type {\n",
       "        vertical-align: middle;\n",
       "    }\n",
       "\n",
       "    .dataframe tbody tr th {\n",
       "        vertical-align: top;\n",
       "    }\n",
       "\n",
       "    .dataframe thead th {\n",
       "        text-align: right;\n",
       "    }\n",
       "</style>\n",
       "<table border=\"1\" class=\"dataframe\">\n",
       "  <thead>\n",
       "    <tr style=\"text-align: right;\">\n",
       "      <th></th>\n",
       "      <th>TARGET</th>\n",
       "      <th>AMT_INCOME_TOTAL</th>\n",
       "      <th>AMT_CREDIT</th>\n",
       "      <th>AMT_ANNUITY</th>\n",
       "      <th>AMT_GOODS_PRICE</th>\n",
       "      <th>NAME_INCOME_TYPE</th>\n",
       "      <th>HOUR_APPR_PROCESS_START</th>\n",
       "      <th>ORGANIZATION_TYPE</th>\n",
       "    </tr>\n",
       "  </thead>\n",
       "  <tbody>\n",
       "    <tr>\n",
       "      <th>0</th>\n",
       "      <td>1</td>\n",
       "      <td>202500.0</td>\n",
       "      <td>406597.5</td>\n",
       "      <td>24700.5</td>\n",
       "      <td>351000.0</td>\n",
       "      <td>7</td>\n",
       "      <td>10</td>\n",
       "      <td>5</td>\n",
       "    </tr>\n",
       "    <tr>\n",
       "      <th>1</th>\n",
       "      <td>0</td>\n",
       "      <td>270000.0</td>\n",
       "      <td>1293502.5</td>\n",
       "      <td>35698.5</td>\n",
       "      <td>1129500.0</td>\n",
       "      <td>4</td>\n",
       "      <td>11</td>\n",
       "      <td>39</td>\n",
       "    </tr>\n",
       "    <tr>\n",
       "      <th>2</th>\n",
       "      <td>0</td>\n",
       "      <td>67500.0</td>\n",
       "      <td>135000.0</td>\n",
       "      <td>6750.0</td>\n",
       "      <td>135000.0</td>\n",
       "      <td>7</td>\n",
       "      <td>9</td>\n",
       "      <td>11</td>\n",
       "    </tr>\n",
       "    <tr>\n",
       "      <th>3</th>\n",
       "      <td>0</td>\n",
       "      <td>135000.0</td>\n",
       "      <td>312682.5</td>\n",
       "      <td>29686.5</td>\n",
       "      <td>297000.0</td>\n",
       "      <td>7</td>\n",
       "      <td>17</td>\n",
       "      <td>5</td>\n",
       "    </tr>\n",
       "    <tr>\n",
       "      <th>4</th>\n",
       "      <td>0</td>\n",
       "      <td>121500.0</td>\n",
       "      <td>513000.0</td>\n",
       "      <td>21865.5</td>\n",
       "      <td>513000.0</td>\n",
       "      <td>7</td>\n",
       "      <td>11</td>\n",
       "      <td>37</td>\n",
       "    </tr>\n",
       "  </tbody>\n",
       "</table>\n",
       "</div>"
      ]
     },
     "execution_count": 111,
     "metadata": {},
     "output_type": "execute_result"
    }
   ],
   "execution_count": 111
  },
  {
   "cell_type": "markdown",
   "id": "9cbf8155",
   "metadata": {
    "papermill": {
     "duration": 0.013208,
     "end_time": "2022-07-08T04:17:15.166520",
     "exception": false,
     "start_time": "2022-07-08T04:17:15.153312",
     "status": "completed"
    },
    "tags": []
   },
   "source": [
    "**Find out Statistical values**"
   ]
  },
  {
   "cell_type": "code",
   "id": "3dbc719a",
   "metadata": {
    "execution": {
     "iopub.execute_input": "2022-07-08T04:17:15.195976Z",
     "iopub.status.busy": "2022-07-08T04:17:15.194747Z",
     "iopub.status.idle": "2022-07-08T04:17:15.465758Z",
     "shell.execute_reply": "2022-07-08T04:17:15.464500Z"
    },
    "papermill": {
     "duration": 0.289507,
     "end_time": "2022-07-08T04:17:15.469424",
     "exception": false,
     "start_time": "2022-07-08T04:17:15.179917",
     "status": "completed"
    },
    "tags": [],
    "ExecuteTime": {
     "end_time": "2025-05-19T23:54:02.927823Z",
     "start_time": "2025-05-19T23:54:02.723300Z"
    }
   },
   "source": [
    "for col in df.columns:\n",
    "    if df[col].dtypes != object:\n",
    "        q1 = df[col].quantile(0.25)\n",
    "        q3 = df[col].quantile(0.75)\n",
    "        IQR = q3 - q1\n",
    "        llp = q1-1.5*IQR\n",
    "        ulp = q3+1.5*IQR\n",
    "        print('column name',col)\n",
    "        print('mean:',df[col].mean())\n",
    "        print('mode:',df[col].mode()[0])\n",
    "        print('median:',df[col].median())\n",
    "        print('skewness:',df[col].skew())\n",
    "        print('kurtosis:',df[col].kurtosis())\n",
    "        print('null_value count:',df[col].isnull().sum())\n",
    "        print('\\n')"
   ],
   "outputs": [
    {
     "name": "stdout",
     "output_type": "stream",
     "text": [
      "column name TARGET\n",
      "mean: 0.08072881945686496\n",
      "mode: 0\n",
      "median: 0.0\n",
      "skewness: 3.0781586659196685\n",
      "kurtosis: 7.475109389392569\n",
      "null_value count: 0\n",
      "\n",
      "\n",
      "column name AMT_INCOME_TOTAL\n",
      "mean: 168797.9192969845\n",
      "mode: 135000.0\n",
      "median: 147150.0\n",
      "skewness: 391.5596541041876\n",
      "kurtosis: 191786.55438080415\n",
      "null_value count: 0\n",
      "\n",
      "\n",
      "column name AMT_CREDIT\n",
      "mean: 599025.9997057016\n",
      "mode: 450000.0\n",
      "median: 513531.0\n",
      "skewness: 1.2347784971349398\n",
      "kurtosis: 1.9340413008324937\n",
      "null_value count: 0\n",
      "\n",
      "\n",
      "column name AMT_ANNUITY\n",
      "mean: 27108.48784108536\n",
      "mode: 9000.0\n",
      "median: 24903.0\n",
      "skewness: 1.5798237246955467\n",
      "kurtosis: 7.7077559537369025\n",
      "null_value count: 0\n",
      "\n",
      "\n",
      "column name AMT_GOODS_PRICE\n",
      "mean: 538316.2943667056\n",
      "mode: 450000.0\n",
      "median: 450000.0\n",
      "skewness: 1.350142549635089\n",
      "kurtosis: 2.4374401731304225\n",
      "null_value count: 0\n",
      "\n",
      "\n",
      "column name NAME_INCOME_TYPE\n",
      "mean: 4.670288217332063\n",
      "mode: 7\n",
      "median: 7.0\n",
      "skewness: -0.3550757581538051\n",
      "kurtosis: -1.5948494738474766\n",
      "null_value count: 0\n",
      "\n",
      "\n",
      "column name HOUR_APPR_PROCESS_START\n",
      "mean: 12.063418869568894\n",
      "mode: 10\n",
      "median: 12.0\n",
      "skewness: -0.02802445946067513\n",
      "kurtosis: -0.19417286553041757\n",
      "null_value count: 0\n",
      "\n",
      "\n",
      "column name ORGANIZATION_TYPE\n",
      "mean: 29.450429415533105\n",
      "mode: 5\n",
      "median: 33.0\n",
      "skewness: -0.022512675713170067\n",
      "kurtosis: -1.5467897462757254\n",
      "null_value count: 0\n",
      "\n",
      "\n"
     ]
    }
   ],
   "execution_count": 47
  },
  {
   "cell_type": "markdown",
   "id": "8b49af79",
   "metadata": {
    "papermill": {
     "duration": 0.012873,
     "end_time": "2022-07-08T04:17:15.496458",
     "exception": false,
     "start_time": "2022-07-08T04:17:15.483585",
     "status": "completed"
    },
    "tags": []
   },
   "source": [
    "**Outliers**"
   ]
  },
  {
   "cell_type": "markdown",
   "id": "f5df0078",
   "metadata": {
    "papermill": {
     "duration": 0.012945,
     "end_time": "2022-07-08T04:17:15.522885",
     "exception": false,
     "start_time": "2022-07-08T04:17:15.509940",
     "status": "completed"
    },
    "tags": []
   },
   "source": [
    "A data point that is an outlier in a data graph or dataset you are dealing with is one that is extraordinarily high or extraordinarily low in comparison to the nearest data point and the rest of the nearby coexisting values. Outliers in a dataset or graph are extreme values that stand out significantly from the main pattern of values."
   ]
  },
  {
   "cell_type": "code",
   "id": "33e0d12e",
   "metadata": {
    "execution": {
     "iopub.execute_input": "2022-07-08T04:17:15.551636Z",
     "iopub.status.busy": "2022-07-08T04:17:15.550908Z",
     "iopub.status.idle": "2022-07-08T04:17:16.663742Z",
     "shell.execute_reply": "2022-07-08T04:17:16.662559Z"
    },
    "papermill": {
     "duration": 1.130249,
     "end_time": "2022-07-08T04:17:16.666389",
     "exception": false,
     "start_time": "2022-07-08T04:17:15.536140",
     "status": "completed"
    },
    "tags": [],
    "ExecuteTime": {
     "end_time": "2025-05-19T23:55:07.231551Z",
     "start_time": "2025-05-19T23:55:06.520867Z"
    }
   },
   "source": [
    "#checking outliers\n",
    "#Outlier Search: This helps you to get some insights about the outliers in the data.\n",
    "df.plot(kind='box', layout=(3,3),subplots=True,figsize=(25,11))\n",
    "plt.show()"
   ],
   "outputs": [
    {
     "data": {
      "text/plain": [
       "<Figure size 2500x1100 with 9 Axes>"
      ],
      "image/png": "[encoded data removed]"
     },
     "metadata": {},
     "output_type": "display_data"
    }
   ],
   "execution_count": 49
  },
  {
   "cell_type": "code",
   "id": "6d36ebbb",
   "metadata": {
    "execution": {
     "iopub.execute_input": "2022-07-08T04:17:16.697713Z",
     "iopub.status.busy": "2022-07-08T04:17:16.696875Z",
     "iopub.status.idle": "2022-07-08T04:17:16.706023Z",
     "shell.execute_reply": "2022-07-08T04:17:16.705113Z"
    },
    "papermill": {
     "duration": 0.028152,
     "end_time": "2022-07-08T04:17:16.708648",
     "exception": false,
     "start_time": "2022-07-08T04:17:16.680496",
     "status": "completed"
    },
    "tags": [],
    "ExecuteTime": {
     "end_time": "2025-05-19T23:57:09.420120Z",
     "start_time": "2025-05-19T23:57:09.416113Z"
    }
   },
   "source": [
    "def out_to_null(out_df):\n",
    "    Q1 = out_df.quantile(0.25)\n",
    "    Q3 = out_df.quantile(0.75)\n",
    "    IQR = Q3 - Q1\n",
    "    \n",
    "    outliers = ((out_df < (Q1 - 1.5 * IQR)) | (out_df > (Q3 + 1.5 * IQR)))\n",
    "    outlier_counts = outliers.sum()\n",
    "    print(\"Outlier count per column:\\n\", outlier_counts)"
   ],
   "outputs": [],
   "execution_count": 51
  },
  {
   "cell_type": "markdown",
   "id": "5f09119b",
   "metadata": {
    "papermill": {
     "duration": 0.022133,
     "end_time": "2022-07-08T04:17:16.745550",
     "exception": false,
     "start_time": "2022-07-08T04:17:16.723417",
     "status": "completed"
    },
    "tags": []
   },
   "source": [
    "**PairPlot**"
   ]
  },
  {
   "cell_type": "code",
   "id": "644e2622",
   "metadata": {
    "execution": {
     "iopub.execute_input": "2022-07-08T04:17:16.781682Z",
     "iopub.status.busy": "2022-07-08T04:17:16.780553Z",
     "iopub.status.idle": "2022-07-08T04:17:29.367400Z",
     "shell.execute_reply": "2022-07-08T04:17:29.365895Z"
    },
    "papermill": {
     "duration": 12.607149,
     "end_time": "2022-07-08T04:17:29.370427",
     "exception": false,
     "start_time": "2022-07-08T04:17:16.763278",
     "status": "completed"
    },
    "tags": [],
    "ExecuteTime": {
     "end_time": "2025-05-19T23:59:13.512470Z",
     "start_time": "2025-05-19T23:58:44.392335Z"
    }
   },
   "source": [
    "count=1\n",
    "plt.subplots(figsize=(10,5))\n",
    "for i in df.columns:\n",
    "    if df[i].dtypes!='object':\n",
    "        plt.subplot(3,4,count)\n",
    "        sns.histplot(df[i])\n",
    "        count+=1\n",
    "\n",
    "plt.show()"
   ],
   "outputs": [
    {
     "data": {
      "text/plain": [
       "<Figure size 1000x500 with 9 Axes>"
      ],
      "image/png": "[encoded data removed]"
     },
     "metadata": {},
     "output_type": "display_data"
    }
   ],
   "execution_count": 55
  },
  {
   "cell_type": "markdown",
   "id": "c9a70d6c",
   "metadata": {
    "papermill": {
     "duration": 0.016198,
     "end_time": "2022-07-08T04:17:29.403162",
     "exception": false,
     "start_time": "2022-07-08T04:17:29.386964",
     "status": "completed"
    },
    "tags": []
   },
   "source": [
    "**Correlation**"
   ]
  },
  {
   "cell_type": "markdown",
   "id": "c4f27d8a",
   "metadata": {
    "papermill": {
     "duration": 0.015898,
     "end_time": "2022-07-08T04:17:29.435485",
     "exception": false,
     "start_time": "2022-07-08T04:17:29.419587",
     "status": "completed"
    },
    "tags": []
   },
   "source": [
    "Correlation is the relationship between target variable and feature variables."
   ]
  },
  {
   "cell_type": "code",
   "id": "1b2e8efa",
   "metadata": {
    "execution": {
     "iopub.execute_input": "2022-07-08T04:17:29.472033Z",
     "iopub.status.busy": "2022-07-08T04:17:29.470593Z",
     "iopub.status.idle": "2022-07-08T04:17:29.588900Z",
     "shell.execute_reply": "2022-07-08T04:17:29.587547Z"
    },
    "papermill": {
     "duration": 0.139002,
     "end_time": "2022-07-08T04:17:29.591357",
     "exception": false,
     "start_time": "2022-07-08T04:17:29.452355",
     "status": "completed"
    },
    "tags": [],
    "ExecuteTime": {
     "end_time": "2025-05-19T23:58:32.446631Z",
     "start_time": "2025-05-19T23:58:32.396938Z"
    }
   },
   "source": [
    "cor = df.corr()\n",
    "cor"
   ],
   "outputs": [
    {
     "data": {
      "text/plain": [
       "                           TARGET  AMT_INCOME_TOTAL  AMT_CREDIT  AMT_ANNUITY  \\\n",
       "TARGET                   1.000000         -0.003982   -0.030369    -0.012815   \n",
       "AMT_INCOME_TOTAL        -0.003982          1.000000    0.156870     0.191657   \n",
       "AMT_CREDIT              -0.030369          0.156870    1.000000     0.770127   \n",
       "AMT_ANNUITY             -0.012815          0.191657    0.770127     1.000000   \n",
       "AMT_GOODS_PRICE         -0.039623          0.159632    0.986734     0.774837   \n",
       "NAME_INCOME_TYPE         0.046829         -0.044451   -0.071794    -0.073018   \n",
       "HOUR_APPR_PROCESS_START -0.024166          0.036459    0.052738     0.052265   \n",
       "ORGANIZATION_TYPE       -0.030765         -0.058272   -0.052620    -0.077215   \n",
       "\n",
       "                         AMT_GOODS_PRICE  NAME_INCOME_TYPE  \\\n",
       "TARGET                         -0.039623          0.046829   \n",
       "AMT_INCOME_TOTAL                0.159632         -0.044451   \n",
       "AMT_CREDIT                      0.986734         -0.071794   \n",
       "AMT_ANNUITY                     0.774837         -0.073018   \n",
       "AMT_GOODS_PRICE                 1.000000         -0.072458   \n",
       "NAME_INCOME_TYPE               -0.072458          1.000000   \n",
       "HOUR_APPR_PROCESS_START         0.062269         -0.029674   \n",
       "ORGANIZATION_TYPE              -0.052060         -0.176226   \n",
       "\n",
       "                         HOUR_APPR_PROCESS_START  ORGANIZATION_TYPE  \n",
       "TARGET                                 -0.024166          -0.030765  \n",
       "AMT_INCOME_TOTAL                        0.036459          -0.058272  \n",
       "AMT_CREDIT                              0.052738          -0.052620  \n",
       "AMT_ANNUITY                             0.052265          -0.077215  \n",
       "AMT_GOODS_PRICE                         0.062269          -0.052060  \n",
       "NAME_INCOME_TYPE                       -0.029674          -0.176226  \n",
       "HOUR_APPR_PROCESS_START                 1.000000          -0.083595  \n",
       "ORGANIZATION_TYPE                      -0.083595           1.000000  "
      ],
      "text/html": [
       "<div>\n",
       "<style scoped>\n",
       "    .dataframe tbody tr th:only-of-type {\n",
       "        vertical-align: middle;\n",
       "    }\n",
       "\n",
       "    .dataframe tbody tr th {\n",
       "        vertical-align: top;\n",
       "    }\n",
       "\n",
       "    .dataframe thead th {\n",
       "        text-align: right;\n",
       "    }\n",
       "</style>\n",
       "<table border=\"1\" class=\"dataframe\">\n",
       "  <thead>\n",
       "    <tr style=\"text-align: right;\">\n",
       "      <th></th>\n",
       "      <th>TARGET</th>\n",
       "      <th>AMT_INCOME_TOTAL</th>\n",
       "      <th>AMT_CREDIT</th>\n",
       "      <th>AMT_ANNUITY</th>\n",
       "      <th>AMT_GOODS_PRICE</th>\n",
       "      <th>NAME_INCOME_TYPE</th>\n",
       "      <th>HOUR_APPR_PROCESS_START</th>\n",
       "      <th>ORGANIZATION_TYPE</th>\n",
       "    </tr>\n",
       "  </thead>\n",
       "  <tbody>\n",
       "    <tr>\n",
       "      <th>TARGET</th>\n",
       "      <td>1.000000</td>\n",
       "      <td>-0.003982</td>\n",
       "      <td>-0.030369</td>\n",
       "      <td>-0.012815</td>\n",
       "      <td>-0.039623</td>\n",
       "      <td>0.046829</td>\n",
       "      <td>-0.024166</td>\n",
       "      <td>-0.030765</td>\n",
       "    </tr>\n",
       "    <tr>\n",
       "      <th>AMT_INCOME_TOTAL</th>\n",
       "      <td>-0.003982</td>\n",
       "      <td>1.000000</td>\n",
       "      <td>0.156870</td>\n",
       "      <td>0.191657</td>\n",
       "      <td>0.159632</td>\n",
       "      <td>-0.044451</td>\n",
       "      <td>0.036459</td>\n",
       "      <td>-0.058272</td>\n",
       "    </tr>\n",
       "    <tr>\n",
       "      <th>AMT_CREDIT</th>\n",
       "      <td>-0.030369</td>\n",
       "      <td>0.156870</td>\n",
       "      <td>1.000000</td>\n",
       "      <td>0.770127</td>\n",
       "      <td>0.986734</td>\n",
       "      <td>-0.071794</td>\n",
       "      <td>0.052738</td>\n",
       "      <td>-0.052620</td>\n",
       "    </tr>\n",
       "    <tr>\n",
       "      <th>AMT_ANNUITY</th>\n",
       "      <td>-0.012815</td>\n",
       "      <td>0.191657</td>\n",
       "      <td>0.770127</td>\n",
       "      <td>1.000000</td>\n",
       "      <td>0.774837</td>\n",
       "      <td>-0.073018</td>\n",
       "      <td>0.052265</td>\n",
       "      <td>-0.077215</td>\n",
       "    </tr>\n",
       "    <tr>\n",
       "      <th>AMT_GOODS_PRICE</th>\n",
       "      <td>-0.039623</td>\n",
       "      <td>0.159632</td>\n",
       "      <td>0.986734</td>\n",
       "      <td>0.774837</td>\n",
       "      <td>1.000000</td>\n",
       "      <td>-0.072458</td>\n",
       "      <td>0.062269</td>\n",
       "      <td>-0.052060</td>\n",
       "    </tr>\n",
       "    <tr>\n",
       "      <th>NAME_INCOME_TYPE</th>\n",
       "      <td>0.046829</td>\n",
       "      <td>-0.044451</td>\n",
       "      <td>-0.071794</td>\n",
       "      <td>-0.073018</td>\n",
       "      <td>-0.072458</td>\n",
       "      <td>1.000000</td>\n",
       "      <td>-0.029674</td>\n",
       "      <td>-0.176226</td>\n",
       "    </tr>\n",
       "    <tr>\n",
       "      <th>HOUR_APPR_PROCESS_START</th>\n",
       "      <td>-0.024166</td>\n",
       "      <td>0.036459</td>\n",
       "      <td>0.052738</td>\n",
       "      <td>0.052265</td>\n",
       "      <td>0.062269</td>\n",
       "      <td>-0.029674</td>\n",
       "      <td>1.000000</td>\n",
       "      <td>-0.083595</td>\n",
       "    </tr>\n",
       "    <tr>\n",
       "      <th>ORGANIZATION_TYPE</th>\n",
       "      <td>-0.030765</td>\n",
       "      <td>-0.058272</td>\n",
       "      <td>-0.052620</td>\n",
       "      <td>-0.077215</td>\n",
       "      <td>-0.052060</td>\n",
       "      <td>-0.176226</td>\n",
       "      <td>-0.083595</td>\n",
       "      <td>1.000000</td>\n",
       "    </tr>\n",
       "  </tbody>\n",
       "</table>\n",
       "</div>"
      ]
     },
     "execution_count": 54,
     "metadata": {},
     "output_type": "execute_result"
    }
   ],
   "execution_count": 54
  },
  {
   "cell_type": "markdown",
   "id": "409283ca",
   "metadata": {
    "papermill": {
     "duration": 0.017099,
     "end_time": "2022-07-08T04:17:29.625111",
     "exception": false,
     "start_time": "2022-07-08T04:17:29.608012",
     "status": "completed"
    },
    "tags": []
   },
   "source": [
    "**HeatMap**"
   ]
  },
  {
   "cell_type": "code",
   "id": "ce2e0a0f",
   "metadata": {
    "execution": {
     "iopub.execute_input": "2022-07-08T04:17:29.661420Z",
     "iopub.status.busy": "2022-07-08T04:17:29.660651Z",
     "iopub.status.idle": "2022-07-08T04:17:30.343958Z",
     "shell.execute_reply": "2022-07-08T04:17:30.342695Z"
    },
    "papermill": {
     "duration": 0.704175,
     "end_time": "2022-07-08T04:17:30.346488",
     "exception": false,
     "start_time": "2022-07-08T04:17:29.642313",
     "status": "completed"
    },
    "tags": [],
    "ExecuteTime": {
     "end_time": "2025-05-19T23:59:28.270125Z",
     "start_time": "2025-05-19T23:59:27.965733Z"
    }
   },
   "source": [
    "ax = sns.heatmap(df.corr(), annot=True)\n",
    "plt.show()"
   ],
   "outputs": [
    {
     "data": {
      "text/plain": [
       "<Figure size 640x480 with 2 Axes>"
      ],
      "image/png": "[encoded data removed]"
     },
     "metadata": {},
     "output_type": "display_data"
    }
   ],
   "execution_count": 56
  },
  {
   "cell_type": "markdown",
   "id": "149c319d",
   "metadata": {
    "papermill": {
     "duration": 0.017792,
     "end_time": "2022-07-08T04:17:30.441293",
     "exception": false,
     "start_time": "2022-07-08T04:17:30.423501",
     "status": "completed"
    },
    "tags": []
   },
   "source": [
    "**Feature Selection**"
   ]
  },
  {
   "cell_type": "markdown",
   "id": "562fe4e8",
   "metadata": {
    "papermill": {
     "duration": 0.017547,
     "end_time": "2022-07-08T04:17:30.476860",
     "exception": false,
     "start_time": "2022-07-08T04:17:30.459313",
     "status": "completed"
    },
    "tags": []
   },
   "source": [
    "Feature selection is the process of reducing the number of input variables when developing a predictive model. It is desirable to reduce the number of input variables to both reduce the computational cost of modeling and, in some cases, to improve the performance of the model."
   ]
  },
  {
   "metadata": {
    "ExecuteTime": {
     "end_time": "2025-05-20T00:12:54.172573Z",
     "start_time": "2025-05-20T00:12:54.163378Z"
    }
   },
   "cell_type": "code",
   "source": [
    "X = df.drop(\"TARGET\",axis=1)\n",
    "y = df.TARGET"
   ],
   "id": "708d7f7e",
   "outputs": [],
   "execution_count": 112
  },
  {
   "metadata": {
    "ExecuteTime": {
     "end_time": "2025-05-20T00:13:33.165059Z",
     "start_time": "2025-05-20T00:13:33.158926Z"
    }
   },
   "cell_type": "code",
   "source": "y",
   "id": "e8d7761198a7e454",
   "outputs": [
    {
     "data": {
      "text/plain": [
       "0         1\n",
       "1         0\n",
       "2         0\n",
       "3         0\n",
       "4         0\n",
       "         ..\n",
       "307506    0\n",
       "307507    0\n",
       "307508    0\n",
       "307509    1\n",
       "307510    0\n",
       "Name: TARGET, Length: 307511, dtype: int64"
      ]
     },
     "execution_count": 114,
     "metadata": {},
     "output_type": "execute_result"
    }
   ],
   "execution_count": 114
  },
  {
   "metadata": {
    "ExecuteTime": {
     "end_time": "2025-05-20T00:13:15.778252Z",
     "start_time": "2025-05-20T00:13:15.716696Z"
    }
   },
   "cell_type": "code",
   "source": [
    "from sklearn.preprocessing import StandardScaler\n",
    "\n",
    "std_scaler = StandardScaler()\n",
    "df_scaled = pd.DataFrame(std_scaler.fit_transform(X),columns=X.columns)\n",
    "df_scaled.head()"
   ],
   "id": "4b57634b0a6bfa84",
   "outputs": [
    {
     "data": {
      "text/plain": [
       "   AMT_INCOME_TOTAL  AMT_CREDIT  AMT_ANNUITY  AMT_GOODS_PRICE  \\\n",
       "0          0.142129   -0.478095    -0.166146        -0.507236   \n",
       "1          0.426792    1.725450     0.592666         1.599974   \n",
       "2         -0.427196   -1.152888    -1.404649        -1.091895   \n",
       "3         -0.142533   -0.711430     0.177865        -0.653401   \n",
       "4         -0.199466   -0.213734    -0.361748        -0.068741   \n",
       "\n",
       "   NAME_INCOME_TYPE  HOUR_APPR_PROCESS_START  ORGANIZATION_TYPE  \n",
       "0          0.915580                -0.631821          -1.194830  \n",
       "1         -0.263424                -0.325620           0.466663  \n",
       "2          0.915580                -0.938022          -0.901625  \n",
       "3          0.915580                 1.511587          -1.194830  \n",
       "4          0.915580                -0.325620           0.368928  "
      ],
      "text/html": [
       "<div>\n",
       "<style scoped>\n",
       "    .dataframe tbody tr th:only-of-type {\n",
       "        vertical-align: middle;\n",
       "    }\n",
       "\n",
       "    .dataframe tbody tr th {\n",
       "        vertical-align: top;\n",
       "    }\n",
       "\n",
       "    .dataframe thead th {\n",
       "        text-align: right;\n",
       "    }\n",
       "</style>\n",
       "<table border=\"1\" class=\"dataframe\">\n",
       "  <thead>\n",
       "    <tr style=\"text-align: right;\">\n",
       "      <th></th>\n",
       "      <th>AMT_INCOME_TOTAL</th>\n",
       "      <th>AMT_CREDIT</th>\n",
       "      <th>AMT_ANNUITY</th>\n",
       "      <th>AMT_GOODS_PRICE</th>\n",
       "      <th>NAME_INCOME_TYPE</th>\n",
       "      <th>HOUR_APPR_PROCESS_START</th>\n",
       "      <th>ORGANIZATION_TYPE</th>\n",
       "    </tr>\n",
       "  </thead>\n",
       "  <tbody>\n",
       "    <tr>\n",
       "      <th>0</th>\n",
       "      <td>0.142129</td>\n",
       "      <td>-0.478095</td>\n",
       "      <td>-0.166146</td>\n",
       "      <td>-0.507236</td>\n",
       "      <td>0.915580</td>\n",
       "      <td>-0.631821</td>\n",
       "      <td>-1.194830</td>\n",
       "    </tr>\n",
       "    <tr>\n",
       "      <th>1</th>\n",
       "      <td>0.426792</td>\n",
       "      <td>1.725450</td>\n",
       "      <td>0.592666</td>\n",
       "      <td>1.599974</td>\n",
       "      <td>-0.263424</td>\n",
       "      <td>-0.325620</td>\n",
       "      <td>0.466663</td>\n",
       "    </tr>\n",
       "    <tr>\n",
       "      <th>2</th>\n",
       "      <td>-0.427196</td>\n",
       "      <td>-1.152888</td>\n",
       "      <td>-1.404649</td>\n",
       "      <td>-1.091895</td>\n",
       "      <td>0.915580</td>\n",
       "      <td>-0.938022</td>\n",
       "      <td>-0.901625</td>\n",
       "    </tr>\n",
       "    <tr>\n",
       "      <th>3</th>\n",
       "      <td>-0.142533</td>\n",
       "      <td>-0.711430</td>\n",
       "      <td>0.177865</td>\n",
       "      <td>-0.653401</td>\n",
       "      <td>0.915580</td>\n",
       "      <td>1.511587</td>\n",
       "      <td>-1.194830</td>\n",
       "    </tr>\n",
       "    <tr>\n",
       "      <th>4</th>\n",
       "      <td>-0.199466</td>\n",
       "      <td>-0.213734</td>\n",
       "      <td>-0.361748</td>\n",
       "      <td>-0.068741</td>\n",
       "      <td>0.915580</td>\n",
       "      <td>-0.325620</td>\n",
       "      <td>0.368928</td>\n",
       "    </tr>\n",
       "  </tbody>\n",
       "</table>\n",
       "</div>"
      ]
     },
     "execution_count": 113,
     "metadata": {},
     "output_type": "execute_result"
    }
   ],
   "execution_count": 113
  },
  {
   "cell_type": "markdown",
   "id": "01e03324",
   "metadata": {
    "papermill": {
     "duration": 0.017178,
     "end_time": "2022-07-08T04:17:30.617872",
     "exception": false,
     "start_time": "2022-07-08T04:17:30.600694",
     "status": "completed"
    },
    "tags": []
   },
   "source": [
    "**Train, Test and Split**"
   ]
  },
  {
   "cell_type": "code",
   "id": "ee1b654c",
   "metadata": {
    "execution": {
     "iopub.execute_input": "2022-07-08T04:17:30.655160Z",
     "iopub.status.busy": "2022-07-08T04:17:30.654348Z",
     "iopub.status.idle": "2022-07-08T04:17:30.717601Z",
     "shell.execute_reply": "2022-07-08T04:17:30.716523Z"
    },
    "id": "Vu8UrwyUQfUh",
    "outputId": "69d613bf-5c12-4943-e1b6-dc1f18cd5b5d",
    "papermill": {
     "duration": 0.084934,
     "end_time": "2022-07-08T04:17:30.720228",
     "exception": false,
     "start_time": "2022-07-08T04:17:30.635294",
     "status": "completed"
    },
    "tags": [],
    "ExecuteTime": {
     "end_time": "2025-05-20T00:13:37.068608Z",
     "start_time": "2025-05-20T00:13:37.031926Z"
    }
   },
   "source": [
    "from sklearn.model_selection import train_test_split \n",
    "X_train,X_test,y_train,y_test=train_test_split(X,y,test_size=0.3,random_state=1)\n",
    "\n",
    "X_train.shape,X_test.shape"
   ],
   "outputs": [
    {
     "data": {
      "text/plain": [
       "((215257, 7), (92254, 7))"
      ]
     },
     "execution_count": 115,
     "metadata": {},
     "output_type": "execute_result"
    }
   ],
   "execution_count": 115
  },
  {
   "cell_type": "code",
   "id": "2f379e9e",
   "metadata": {
    "execution": {
     "iopub.execute_input": "2022-07-08T04:17:30.758517Z",
     "iopub.status.busy": "2022-07-08T04:17:30.758080Z",
     "iopub.status.idle": "2022-07-08T04:17:30.776418Z",
     "shell.execute_reply": "2022-07-08T04:17:30.775526Z"
    },
    "papermill": {
     "duration": 0.04013,
     "end_time": "2022-07-08T04:17:30.778382",
     "exception": false,
     "start_time": "2022-07-08T04:17:30.738252",
     "status": "completed"
    },
    "tags": [],
    "ExecuteTime": {
     "end_time": "2025-05-20T00:13:41.636133Z",
     "start_time": "2025-05-20T00:13:41.626722Z"
    }
   },
   "source": [
    "X_train"
   ],
   "outputs": [
    {
     "data": {
      "text/plain": [
       "        AMT_INCOME_TOTAL  AMT_CREDIT  AMT_ANNUITY  AMT_GOODS_PRICE  \\\n",
       "208983          202500.0    585000.0      29250.0         585000.0   \n",
       "71687           112500.0    656811.0      30564.0         567000.0   \n",
       "301340          144000.0    450000.0      22500.0         450000.0   \n",
       "216927          450000.0   1483231.5      51687.0        1354500.0   \n",
       "109091          202500.0    454500.0      19255.5         454500.0   \n",
       "...                  ...         ...          ...              ...   \n",
       "21440           292500.0   2013840.0      53253.0        1800000.0   \n",
       "117583          157500.0    599778.0      32665.5         477000.0   \n",
       "73349           135000.0    270000.0      13500.0         270000.0   \n",
       "267336          135000.0    781920.0      47835.0         675000.0   \n",
       "128037          112500.0    315000.0      15448.5         315000.0   \n",
       "\n",
       "        NAME_INCOME_TYPE  HOUR_APPR_PROCESS_START  ORGANIZATION_TYPE  \n",
       "208983                 4                       10                 11  \n",
       "71687                  3                       11                 57  \n",
       "301340                 1                       10                  4  \n",
       "216927                 4                       18                 41  \n",
       "109091                 1                        9                  5  \n",
       "...                  ...                      ...                ...  \n",
       "21440                  7                       11                 55  \n",
       "117583                 7                        6                 11  \n",
       "73349                  1                       12                  5  \n",
       "267336                 7                       14                 40  \n",
       "128037                 1                       13                  5  \n",
       "\n",
       "[215257 rows x 7 columns]"
      ],
      "text/html": [
       "<div>\n",
       "<style scoped>\n",
       "    .dataframe tbody tr th:only-of-type {\n",
       "        vertical-align: middle;\n",
       "    }\n",
       "\n",
       "    .dataframe tbody tr th {\n",
       "        vertical-align: top;\n",
       "    }\n",
       "\n",
       "    .dataframe thead th {\n",
       "        text-align: right;\n",
       "    }\n",
       "</style>\n",
       "<table border=\"1\" class=\"dataframe\">\n",
       "  <thead>\n",
       "    <tr style=\"text-align: right;\">\n",
       "      <th></th>\n",
       "      <th>AMT_INCOME_TOTAL</th>\n",
       "      <th>AMT_CREDIT</th>\n",
       "      <th>AMT_ANNUITY</th>\n",
       "      <th>AMT_GOODS_PRICE</th>\n",
       "      <th>NAME_INCOME_TYPE</th>\n",
       "      <th>HOUR_APPR_PROCESS_START</th>\n",
       "      <th>ORGANIZATION_TYPE</th>\n",
       "    </tr>\n",
       "  </thead>\n",
       "  <tbody>\n",
       "    <tr>\n",
       "      <th>208983</th>\n",
       "      <td>202500.0</td>\n",
       "      <td>585000.0</td>\n",
       "      <td>29250.0</td>\n",
       "      <td>585000.0</td>\n",
       "      <td>4</td>\n",
       "      <td>10</td>\n",
       "      <td>11</td>\n",
       "    </tr>\n",
       "    <tr>\n",
       "      <th>71687</th>\n",
       "      <td>112500.0</td>\n",
       "      <td>656811.0</td>\n",
       "      <td>30564.0</td>\n",
       "      <td>567000.0</td>\n",
       "      <td>3</td>\n",
       "      <td>11</td>\n",
       "      <td>57</td>\n",
       "    </tr>\n",
       "    <tr>\n",
       "      <th>301340</th>\n",
       "      <td>144000.0</td>\n",
       "      <td>450000.0</td>\n",
       "      <td>22500.0</td>\n",
       "      <td>450000.0</td>\n",
       "      <td>1</td>\n",
       "      <td>10</td>\n",
       "      <td>4</td>\n",
       "    </tr>\n",
       "    <tr>\n",
       "      <th>216927</th>\n",
       "      <td>450000.0</td>\n",
       "      <td>1483231.5</td>\n",
       "      <td>51687.0</td>\n",
       "      <td>1354500.0</td>\n",
       "      <td>4</td>\n",
       "      <td>18</td>\n",
       "      <td>41</td>\n",
       "    </tr>\n",
       "    <tr>\n",
       "      <th>109091</th>\n",
       "      <td>202500.0</td>\n",
       "      <td>454500.0</td>\n",
       "      <td>19255.5</td>\n",
       "      <td>454500.0</td>\n",
       "      <td>1</td>\n",
       "      <td>9</td>\n",
       "      <td>5</td>\n",
       "    </tr>\n",
       "    <tr>\n",
       "      <th>...</th>\n",
       "      <td>...</td>\n",
       "      <td>...</td>\n",
       "      <td>...</td>\n",
       "      <td>...</td>\n",
       "      <td>...</td>\n",
       "      <td>...</td>\n",
       "      <td>...</td>\n",
       "    </tr>\n",
       "    <tr>\n",
       "      <th>21440</th>\n",
       "      <td>292500.0</td>\n",
       "      <td>2013840.0</td>\n",
       "      <td>53253.0</td>\n",
       "      <td>1800000.0</td>\n",
       "      <td>7</td>\n",
       "      <td>11</td>\n",
       "      <td>55</td>\n",
       "    </tr>\n",
       "    <tr>\n",
       "      <th>117583</th>\n",
       "      <td>157500.0</td>\n",
       "      <td>599778.0</td>\n",
       "      <td>32665.5</td>\n",
       "      <td>477000.0</td>\n",
       "      <td>7</td>\n",
       "      <td>6</td>\n",
       "      <td>11</td>\n",
       "    </tr>\n",
       "    <tr>\n",
       "      <th>73349</th>\n",
       "      <td>135000.0</td>\n",
       "      <td>270000.0</td>\n",
       "      <td>13500.0</td>\n",
       "      <td>270000.0</td>\n",
       "      <td>1</td>\n",
       "      <td>12</td>\n",
       "      <td>5</td>\n",
       "    </tr>\n",
       "    <tr>\n",
       "      <th>267336</th>\n",
       "      <td>135000.0</td>\n",
       "      <td>781920.0</td>\n",
       "      <td>47835.0</td>\n",
       "      <td>675000.0</td>\n",
       "      <td>7</td>\n",
       "      <td>14</td>\n",
       "      <td>40</td>\n",
       "    </tr>\n",
       "    <tr>\n",
       "      <th>128037</th>\n",
       "      <td>112500.0</td>\n",
       "      <td>315000.0</td>\n",
       "      <td>15448.5</td>\n",
       "      <td>315000.0</td>\n",
       "      <td>1</td>\n",
       "      <td>13</td>\n",
       "      <td>5</td>\n",
       "    </tr>\n",
       "  </tbody>\n",
       "</table>\n",
       "<p>215257 rows × 7 columns</p>\n",
       "</div>"
      ]
     },
     "execution_count": 116,
     "metadata": {},
     "output_type": "execute_result"
    }
   ],
   "execution_count": 116
  },
  {
   "cell_type": "code",
   "id": "cce58c64",
   "metadata": {
    "execution": {
     "iopub.execute_input": "2022-07-08T04:17:30.817160Z",
     "iopub.status.busy": "2022-07-08T04:17:30.816268Z",
     "iopub.status.idle": "2022-07-08T04:17:30.835660Z",
     "shell.execute_reply": "2022-07-08T04:17:30.834814Z"
    },
    "papermill": {
     "duration": 0.041322,
     "end_time": "2022-07-08T04:17:30.837951",
     "exception": false,
     "start_time": "2022-07-08T04:17:30.796629",
     "status": "completed"
    },
    "tags": [],
    "ExecuteTime": {
     "end_time": "2025-05-20T00:13:43.387649Z",
     "start_time": "2025-05-20T00:13:43.370648Z"
    }
   },
   "source": [
    "X_test"
   ],
   "outputs": [
    {
     "data": {
      "text/plain": [
       "        AMT_INCOME_TOTAL  AMT_CREDIT  AMT_ANNUITY  AMT_GOODS_PRICE  \\\n",
       "64282           135000.0    654498.0      31617.0         585000.0   \n",
       "94645           135000.0    234576.0      25393.5         202500.0   \n",
       "306349          112500.0    157914.0      16753.5         139500.0   \n",
       "258314          247500.0   1125000.0      36292.5        1125000.0   \n",
       "87597           202500.0    900000.0      35158.5         900000.0   \n",
       "...                  ...         ...          ...              ...   \n",
       "98497            81000.0    808650.0      26217.0         675000.0   \n",
       "205542           99000.0    135000.0      10822.5         135000.0   \n",
       "127474          157500.0    675000.0      38880.0         675000.0   \n",
       "46981           112500.0   1006920.0      42790.5         900000.0   \n",
       "194313           67500.0    104256.0      10287.0          90000.0   \n",
       "\n",
       "        NAME_INCOME_TYPE  HOUR_APPR_PROCESS_START  ORGANIZATION_TYPE  \n",
       "64282                  3                        9                 57  \n",
       "94645                  7                       17                 11  \n",
       "306349                 7                       14                 33  \n",
       "258314                 7                       16                 40  \n",
       "87597                  7                        8                 42  \n",
       "...                  ...                      ...                ...  \n",
       "98497                  7                       16                 40  \n",
       "205542                 7                       14                 42  \n",
       "127474                 7                       10                 42  \n",
       "46981                  3                       11                 57  \n",
       "194313                 3                       15                 57  \n",
       "\n",
       "[92254 rows x 7 columns]"
      ],
      "text/html": [
       "<div>\n",
       "<style scoped>\n",
       "    .dataframe tbody tr th:only-of-type {\n",
       "        vertical-align: middle;\n",
       "    }\n",
       "\n",
       "    .dataframe tbody tr th {\n",
       "        vertical-align: top;\n",
       "    }\n",
       "\n",
       "    .dataframe thead th {\n",
       "        text-align: right;\n",
       "    }\n",
       "</style>\n",
       "<table border=\"1\" class=\"dataframe\">\n",
       "  <thead>\n",
       "    <tr style=\"text-align: right;\">\n",
       "      <th></th>\n",
       "      <th>AMT_INCOME_TOTAL</th>\n",
       "      <th>AMT_CREDIT</th>\n",
       "      <th>AMT_ANNUITY</th>\n",
       "      <th>AMT_GOODS_PRICE</th>\n",
       "      <th>NAME_INCOME_TYPE</th>\n",
       "      <th>HOUR_APPR_PROCESS_START</th>\n",
       "      <th>ORGANIZATION_TYPE</th>\n",
       "    </tr>\n",
       "  </thead>\n",
       "  <tbody>\n",
       "    <tr>\n",
       "      <th>64282</th>\n",
       "      <td>135000.0</td>\n",
       "      <td>654498.0</td>\n",
       "      <td>31617.0</td>\n",
       "      <td>585000.0</td>\n",
       "      <td>3</td>\n",
       "      <td>9</td>\n",
       "      <td>57</td>\n",
       "    </tr>\n",
       "    <tr>\n",
       "      <th>94645</th>\n",
       "      <td>135000.0</td>\n",
       "      <td>234576.0</td>\n",
       "      <td>25393.5</td>\n",
       "      <td>202500.0</td>\n",
       "      <td>7</td>\n",
       "      <td>17</td>\n",
       "      <td>11</td>\n",
       "    </tr>\n",
       "    <tr>\n",
       "      <th>306349</th>\n",
       "      <td>112500.0</td>\n",
       "      <td>157914.0</td>\n",
       "      <td>16753.5</td>\n",
       "      <td>139500.0</td>\n",
       "      <td>7</td>\n",
       "      <td>14</td>\n",
       "      <td>33</td>\n",
       "    </tr>\n",
       "    <tr>\n",
       "      <th>258314</th>\n",
       "      <td>247500.0</td>\n",
       "      <td>1125000.0</td>\n",
       "      <td>36292.5</td>\n",
       "      <td>1125000.0</td>\n",
       "      <td>7</td>\n",
       "      <td>16</td>\n",
       "      <td>40</td>\n",
       "    </tr>\n",
       "    <tr>\n",
       "      <th>87597</th>\n",
       "      <td>202500.0</td>\n",
       "      <td>900000.0</td>\n",
       "      <td>35158.5</td>\n",
       "      <td>900000.0</td>\n",
       "      <td>7</td>\n",
       "      <td>8</td>\n",
       "      <td>42</td>\n",
       "    </tr>\n",
       "    <tr>\n",
       "      <th>...</th>\n",
       "      <td>...</td>\n",
       "      <td>...</td>\n",
       "      <td>...</td>\n",
       "      <td>...</td>\n",
       "      <td>...</td>\n",
       "      <td>...</td>\n",
       "      <td>...</td>\n",
       "    </tr>\n",
       "    <tr>\n",
       "      <th>98497</th>\n",
       "      <td>81000.0</td>\n",
       "      <td>808650.0</td>\n",
       "      <td>26217.0</td>\n",
       "      <td>675000.0</td>\n",
       "      <td>7</td>\n",
       "      <td>16</td>\n",
       "      <td>40</td>\n",
       "    </tr>\n",
       "    <tr>\n",
       "      <th>205542</th>\n",
       "      <td>99000.0</td>\n",
       "      <td>135000.0</td>\n",
       "      <td>10822.5</td>\n",
       "      <td>135000.0</td>\n",
       "      <td>7</td>\n",
       "      <td>14</td>\n",
       "      <td>42</td>\n",
       "    </tr>\n",
       "    <tr>\n",
       "      <th>127474</th>\n",
       "      <td>157500.0</td>\n",
       "      <td>675000.0</td>\n",
       "      <td>38880.0</td>\n",
       "      <td>675000.0</td>\n",
       "      <td>7</td>\n",
       "      <td>10</td>\n",
       "      <td>42</td>\n",
       "    </tr>\n",
       "    <tr>\n",
       "      <th>46981</th>\n",
       "      <td>112500.0</td>\n",
       "      <td>1006920.0</td>\n",
       "      <td>42790.5</td>\n",
       "      <td>900000.0</td>\n",
       "      <td>3</td>\n",
       "      <td>11</td>\n",
       "      <td>57</td>\n",
       "    </tr>\n",
       "    <tr>\n",
       "      <th>194313</th>\n",
       "      <td>67500.0</td>\n",
       "      <td>104256.0</td>\n",
       "      <td>10287.0</td>\n",
       "      <td>90000.0</td>\n",
       "      <td>3</td>\n",
       "      <td>15</td>\n",
       "      <td>57</td>\n",
       "    </tr>\n",
       "  </tbody>\n",
       "</table>\n",
       "<p>92254 rows × 7 columns</p>\n",
       "</div>"
      ]
     },
     "execution_count": 117,
     "metadata": {},
     "output_type": "execute_result"
    }
   ],
   "execution_count": 117
  },
  {
   "cell_type": "markdown",
   "id": "1b13df6b",
   "metadata": {
    "papermill": {
     "duration": 0.018389,
     "end_time": "2022-07-08T04:17:30.875061",
     "exception": false,
     "start_time": "2022-07-08T04:17:30.856672",
     "status": "completed"
    },
    "tags": []
   },
   "source": [
    "**Random forest Classifier**"
   ]
  },
  {
   "cell_type": "markdown",
   "id": "cc240b32",
   "metadata": {
    "papermill": {
     "duration": 0.018289,
     "end_time": "2022-07-08T04:17:30.911947",
     "exception": false,
     "start_time": "2022-07-08T04:17:30.893658",
     "status": "completed"
    },
    "tags": []
   },
   "source": [
    "Random forest is a type of Supervised Machine Learning Algorithm that is commonly used in classification and regression problems. It constructs decision trees from various samples and uses their majority vote for classification and average for regression."
   ]
  },
  {
   "cell_type": "code",
   "id": "961bba01",
   "metadata": {
    "execution": {
     "iopub.execute_input": "2022-07-08T04:17:30.951618Z",
     "iopub.status.busy": "2022-07-08T04:17:30.950521Z",
     "iopub.status.idle": "2022-07-08T04:17:35.232446Z",
     "shell.execute_reply": "2022-07-08T04:17:35.231295Z"
    },
    "papermill": {
     "duration": 4.304432,
     "end_time": "2022-07-08T04:17:35.234811",
     "exception": false,
     "start_time": "2022-07-08T04:17:30.930379",
     "status": "completed"
    },
    "tags": [],
    "ExecuteTime": {
     "end_time": "2025-05-20T00:13:50.670960Z",
     "start_time": "2025-05-20T00:13:48.011157Z"
    }
   },
   "source": [
    "# Applying random forest Classifier\n",
    "from sklearn.ensemble import RandomForestClassifier\n",
    "rf_Classifier = RandomForestClassifier(n_estimators = 10, random_state = 0,criterion='gini')\n",
    "rf_Classifier.fit(X_train, y_train)"
   ],
   "outputs": [
    {
     "data": {
      "text/plain": [
       "RandomForestClassifier(n_estimators=10, random_state=0)"
      ],
      "text/html": [
       "<style>#sk-container-id-2 {\n",
       "  /* Definition of color scheme common for light and dark mode */\n",
       "  --sklearn-color-text: black;\n",
       "  --sklearn-color-line: gray;\n",
       "  /* Definition of color scheme for unfitted estimators */\n",
       "  --sklearn-color-unfitted-level-0: #fff5e6;\n",
       "  --sklearn-color-unfitted-level-1: #f6e4d2;\n",
       "  --sklearn-color-unfitted-level-2: #ffe0b3;\n",
       "  --sklearn-color-unfitted-level-3: chocolate;\n",
       "  /* Definition of color scheme for fitted estimators */\n",
       "  --sklearn-color-fitted-level-0: #f0f8ff;\n",
       "  --sklearn-color-fitted-level-1: #d4ebff;\n",
       "  --sklearn-color-fitted-level-2: #b3dbfd;\n",
       "  --sklearn-color-fitted-level-3: cornflowerblue;\n",
       "\n",
       "  /* Specific color for light theme */\n",
       "  --sklearn-color-text-on-default-background: var(--sg-text-color, var(--theme-code-foreground, var(--jp-content-font-color1, black)));\n",
       "  --sklearn-color-background: var(--sg-background-color, var(--theme-background, var(--jp-layout-color0, white)));\n",
       "  --sklearn-color-border-box: var(--sg-text-color, var(--theme-code-foreground, var(--jp-content-font-color1, black)));\n",
       "  --sklearn-color-icon: #696969;\n",
       "\n",
       "  @media (prefers-color-scheme: dark) {\n",
       "    /* Redefinition of color scheme for dark theme */\n",
       "    --sklearn-color-text-on-default-background: var(--sg-text-color, var(--theme-code-foreground, var(--jp-content-font-color1, white)));\n",
       "    --sklearn-color-background: var(--sg-background-color, var(--theme-background, var(--jp-layout-color0, #111)));\n",
       "    --sklearn-color-border-box: var(--sg-text-color, var(--theme-code-foreground, var(--jp-content-font-color1, white)));\n",
       "    --sklearn-color-icon: #878787;\n",
       "  }\n",
       "}\n",
       "\n",
       "#sk-container-id-2 {\n",
       "  color: var(--sklearn-color-text);\n",
       "}\n",
       "\n",
       "#sk-container-id-2 pre {\n",
       "  padding: 0;\n",
       "}\n",
       "\n",
       "#sk-container-id-2 input.sk-hidden--visually {\n",
       "  border: 0;\n",
       "  clip: rect(1px 1px 1px 1px);\n",
       "  clip: rect(1px, 1px, 1px, 1px);\n",
       "  height: 1px;\n",
       "  margin: -1px;\n",
       "  overflow: hidden;\n",
       "  padding: 0;\n",
       "  position: absolute;\n",
       "  width: 1px;\n",
       "}\n",
       "\n",
       "#sk-container-id-2 div.sk-dashed-wrapped {\n",
       "  border: 1px dashed var(--sklearn-color-line);\n",
       "  margin: 0 0.4em 0.5em 0.4em;\n",
       "  box-sizing: border-box;\n",
       "  padding-bottom: 0.4em;\n",
       "  background-color: var(--sklearn-color-background);\n",
       "}\n",
       "\n",
       "#sk-container-id-2 div.sk-container {\n",
       "  /* jupyter's `normalize.less` sets `[hidden] { display: none; }`\n",
       "     but bootstrap.min.css set `[hidden] { display: none !important; }`\n",
       "     so we also need the `!important` here to be able to override the\n",
       "     default hidden behavior on the sphinx rendered scikit-learn.org.\n",
       "     See: https://github.com/scikit-learn/scikit-learn/issues/21755 */\n",
       "  display: inline-block !important;\n",
       "  position: relative;\n",
       "}\n",
       "\n",
       "#sk-container-id-2 div.sk-text-repr-fallback {\n",
       "  display: none;\n",
       "}\n",
       "\n",
       "div.sk-parallel-item,\n",
       "div.sk-serial,\n",
       "div.sk-item {\n",
       "  /* draw centered vertical line to link estimators */\n",
       "  background-image: linear-gradient(var(--sklearn-color-text-on-default-background), var(--sklearn-color-text-on-default-background));\n",
       "  background-size: 2px 100%;\n",
       "  background-repeat: no-repeat;\n",
       "  background-position: center center;\n",
       "}\n",
       "\n",
       "/* Parallel-specific style estimator block */\n",
       "\n",
       "#sk-container-id-2 div.sk-parallel-item::after {\n",
       "  content: \"\";\n",
       "  width: 100%;\n",
       "  border-bottom: 2px solid var(--sklearn-color-text-on-default-background);\n",
       "  flex-grow: 1;\n",
       "}\n",
       "\n",
       "#sk-container-id-2 div.sk-parallel {\n",
       "  display: flex;\n",
       "  align-items: stretch;\n",
       "  justify-content: center;\n",
       "  background-color: var(--sklearn-color-background);\n",
       "  position: relative;\n",
       "}\n",
       "\n",
       "#sk-container-id-2 div.sk-parallel-item {\n",
       "  display: flex;\n",
       "  flex-direction: column;\n",
       "}\n",
       "\n",
       "#sk-container-id-2 div.sk-parallel-item:first-child::after {\n",
       "  align-self: flex-end;\n",
       "  width: 50%;\n",
       "}\n",
       "\n",
       "#sk-container-id-2 div.sk-parallel-item:last-child::after {\n",
       "  align-self: flex-start;\n",
       "  width: 50%;\n",
       "}\n",
       "\n",
       "#sk-container-id-2 div.sk-parallel-item:only-child::after {\n",
       "  width: 0;\n",
       "}\n",
       "\n",
       "/* Serial-specific style estimator block */\n",
       "\n",
       "#sk-container-id-2 div.sk-serial {\n",
       "  display: flex;\n",
       "  flex-direction: column;\n",
       "  align-items: center;\n",
       "  background-color: var(--sklearn-color-background);\n",
       "  padding-right: 1em;\n",
       "  padding-left: 1em;\n",
       "}\n",
       "\n",
       "\n",
       "/* Toggleable style: style used for estimator/Pipeline/ColumnTransformer box that is\n",
       "clickable and can be expanded/collapsed.\n",
       "- Pipeline and ColumnTransformer use this feature and define the default style\n",
       "- Estimators will overwrite some part of the style using the `sk-estimator` class\n",
       "*/\n",
       "\n",
       "/* Pipeline and ColumnTransformer style (default) */\n",
       "\n",
       "#sk-container-id-2 div.sk-toggleable {\n",
       "  /* Default theme specific background. It is overwritten whether we have a\n",
       "  specific estimator or a Pipeline/ColumnTransformer */\n",
       "  background-color: var(--sklearn-color-background);\n",
       "}\n",
       "\n",
       "/* Toggleable label */\n",
       "#sk-container-id-2 label.sk-toggleable__label {\n",
       "  cursor: pointer;\n",
       "  display: block;\n",
       "  width: 100%;\n",
       "  margin-bottom: 0;\n",
       "  padding: 0.5em;\n",
       "  box-sizing: border-box;\n",
       "  text-align: center;\n",
       "}\n",
       "\n",
       "#sk-container-id-2 label.sk-toggleable__label-arrow:before {\n",
       "  /* Arrow on the left of the label */\n",
       "  content: \"▸\";\n",
       "  float: left;\n",
       "  margin-right: 0.25em;\n",
       "  color: var(--sklearn-color-icon);\n",
       "}\n",
       "\n",
       "#sk-container-id-2 label.sk-toggleable__label-arrow:hover:before {\n",
       "  color: var(--sklearn-color-text);\n",
       "}\n",
       "\n",
       "/* Toggleable content - dropdown */\n",
       "\n",
       "#sk-container-id-2 div.sk-toggleable__content {\n",
       "  max-height: 0;\n",
       "  max-width: 0;\n",
       "  overflow: hidden;\n",
       "  text-align: left;\n",
       "  /* unfitted */\n",
       "  background-color: var(--sklearn-color-unfitted-level-0);\n",
       "}\n",
       "\n",
       "#sk-container-id-2 div.sk-toggleable__content.fitted {\n",
       "  /* fitted */\n",
       "  background-color: var(--sklearn-color-fitted-level-0);\n",
       "}\n",
       "\n",
       "#sk-container-id-2 div.sk-toggleable__content pre {\n",
       "  margin: 0.2em;\n",
       "  border-radius: 0.25em;\n",
       "  color: var(--sklearn-color-text);\n",
       "  /* unfitted */\n",
       "  background-color: var(--sklearn-color-unfitted-level-0);\n",
       "}\n",
       "\n",
       "#sk-container-id-2 div.sk-toggleable__content.fitted pre {\n",
       "  /* unfitted */\n",
       "  background-color: var(--sklearn-color-fitted-level-0);\n",
       "}\n",
       "\n",
       "#sk-container-id-2 input.sk-toggleable__control:checked~div.sk-toggleable__content {\n",
       "  /* Expand drop-down */\n",
       "  max-height: 200px;\n",
       "  max-width: 100%;\n",
       "  overflow: auto;\n",
       "}\n",
       "\n",
       "#sk-container-id-2 input.sk-toggleable__control:checked~label.sk-toggleable__label-arrow:before {\n",
       "  content: \"▾\";\n",
       "}\n",
       "\n",
       "/* Pipeline/ColumnTransformer-specific style */\n",
       "\n",
       "#sk-container-id-2 div.sk-label input.sk-toggleable__control:checked~label.sk-toggleable__label {\n",
       "  color: var(--sklearn-color-text);\n",
       "  background-color: var(--sklearn-color-unfitted-level-2);\n",
       "}\n",
       "\n",
       "#sk-container-id-2 div.sk-label.fitted input.sk-toggleable__control:checked~label.sk-toggleable__label {\n",
       "  background-color: var(--sklearn-color-fitted-level-2);\n",
       "}\n",
       "\n",
       "/* Estimator-specific style */\n",
       "\n",
       "/* Colorize estimator box */\n",
       "#sk-container-id-2 div.sk-estimator input.sk-toggleable__control:checked~label.sk-toggleable__label {\n",
       "  /* unfitted */\n",
       "  background-color: var(--sklearn-color-unfitted-level-2);\n",
       "}\n",
       "\n",
       "#sk-container-id-2 div.sk-estimator.fitted input.sk-toggleable__control:checked~label.sk-toggleable__label {\n",
       "  /* fitted */\n",
       "  background-color: var(--sklearn-color-fitted-level-2);\n",
       "}\n",
       "\n",
       "#sk-container-id-2 div.sk-label label.sk-toggleable__label,\n",
       "#sk-container-id-2 div.sk-label label {\n",
       "  /* The background is the default theme color */\n",
       "  color: var(--sklearn-color-text-on-default-background);\n",
       "}\n",
       "\n",
       "/* On hover, darken the color of the background */\n",
       "#sk-container-id-2 div.sk-label:hover label.sk-toggleable__label {\n",
       "  color: var(--sklearn-color-text);\n",
       "  background-color: var(--sklearn-color-unfitted-level-2);\n",
       "}\n",
       "\n",
       "/* Label box, darken color on hover, fitted */\n",
       "#sk-container-id-2 div.sk-label.fitted:hover label.sk-toggleable__label.fitted {\n",
       "  color: var(--sklearn-color-text);\n",
       "  background-color: var(--sklearn-color-fitted-level-2);\n",
       "}\n",
       "\n",
       "/* Estimator label */\n",
       "\n",
       "#sk-container-id-2 div.sk-label label {\n",
       "  font-family: monospace;\n",
       "  font-weight: bold;\n",
       "  display: inline-block;\n",
       "  line-height: 1.2em;\n",
       "}\n",
       "\n",
       "#sk-container-id-2 div.sk-label-container {\n",
       "  text-align: center;\n",
       "}\n",
       "\n",
       "/* Estimator-specific */\n",
       "#sk-container-id-2 div.sk-estimator {\n",
       "  font-family: monospace;\n",
       "  border: 1px dotted var(--sklearn-color-border-box);\n",
       "  border-radius: 0.25em;\n",
       "  box-sizing: border-box;\n",
       "  margin-bottom: 0.5em;\n",
       "  /* unfitted */\n",
       "  background-color: var(--sklearn-color-unfitted-level-0);\n",
       "}\n",
       "\n",
       "#sk-container-id-2 div.sk-estimator.fitted {\n",
       "  /* fitted */\n",
       "  background-color: var(--sklearn-color-fitted-level-0);\n",
       "}\n",
       "\n",
       "/* on hover */\n",
       "#sk-container-id-2 div.sk-estimator:hover {\n",
       "  /* unfitted */\n",
       "  background-color: var(--sklearn-color-unfitted-level-2);\n",
       "}\n",
       "\n",
       "#sk-container-id-2 div.sk-estimator.fitted:hover {\n",
       "  /* fitted */\n",
       "  background-color: var(--sklearn-color-fitted-level-2);\n",
       "}\n",
       "\n",
       "/* Specification for estimator info (e.g. \"i\" and \"?\") */\n",
       "\n",
       "/* Common style for \"i\" and \"?\" */\n",
       "\n",
       ".sk-estimator-doc-link,\n",
       "a:link.sk-estimator-doc-link,\n",
       "a:visited.sk-estimator-doc-link {\n",
       "  float: right;\n",
       "  font-size: smaller;\n",
       "  line-height: 1em;\n",
       "  font-family: monospace;\n",
       "  background-color: var(--sklearn-color-background);\n",
       "  border-radius: 1em;\n",
       "  height: 1em;\n",
       "  width: 1em;\n",
       "  text-decoration: none !important;\n",
       "  margin-left: 1ex;\n",
       "  /* unfitted */\n",
       "  border: var(--sklearn-color-unfitted-level-1) 1pt solid;\n",
       "  color: var(--sklearn-color-unfitted-level-1);\n",
       "}\n",
       "\n",
       ".sk-estimator-doc-link.fitted,\n",
       "a:link.sk-estimator-doc-link.fitted,\n",
       "a:visited.sk-estimator-doc-link.fitted {\n",
       "  /* fitted */\n",
       "  border: var(--sklearn-color-fitted-level-1) 1pt solid;\n",
       "  color: var(--sklearn-color-fitted-level-1);\n",
       "}\n",
       "\n",
       "/* On hover */\n",
       "div.sk-estimator:hover .sk-estimator-doc-link:hover,\n",
       ".sk-estimator-doc-link:hover,\n",
       "div.sk-label-container:hover .sk-estimator-doc-link:hover,\n",
       ".sk-estimator-doc-link:hover {\n",
       "  /* unfitted */\n",
       "  background-color: var(--sklearn-color-unfitted-level-3);\n",
       "  color: var(--sklearn-color-background);\n",
       "  text-decoration: none;\n",
       "}\n",
       "\n",
       "div.sk-estimator.fitted:hover .sk-estimator-doc-link.fitted:hover,\n",
       ".sk-estimator-doc-link.fitted:hover,\n",
       "div.sk-label-container:hover .sk-estimator-doc-link.fitted:hover,\n",
       ".sk-estimator-doc-link.fitted:hover {\n",
       "  /* fitted */\n",
       "  background-color: var(--sklearn-color-fitted-level-3);\n",
       "  color: var(--sklearn-color-background);\n",
       "  text-decoration: none;\n",
       "}\n",
       "\n",
       "/* Span, style for the box shown on hovering the info icon */\n",
       ".sk-estimator-doc-link span {\n",
       "  display: none;\n",
       "  z-index: 9999;\n",
       "  position: relative;\n",
       "  font-weight: normal;\n",
       "  right: .2ex;\n",
       "  padding: .5ex;\n",
       "  margin: .5ex;\n",
       "  width: min-content;\n",
       "  min-width: 20ex;\n",
       "  max-width: 50ex;\n",
       "  color: var(--sklearn-color-text);\n",
       "  box-shadow: 2pt 2pt 4pt #999;\n",
       "  /* unfitted */\n",
       "  background: var(--sklearn-color-unfitted-level-0);\n",
       "  border: .5pt solid var(--sklearn-color-unfitted-level-3);\n",
       "}\n",
       "\n",
       ".sk-estimator-doc-link.fitted span {\n",
       "  /* fitted */\n",
       "  background: var(--sklearn-color-fitted-level-0);\n",
       "  border: var(--sklearn-color-fitted-level-3);\n",
       "}\n",
       "\n",
       ".sk-estimator-doc-link:hover span {\n",
       "  display: block;\n",
       "}\n",
       "\n",
       "/* \"?\"-specific style due to the `<a>` HTML tag */\n",
       "\n",
       "#sk-container-id-2 a.estimator_doc_link {\n",
       "  float: right;\n",
       "  font-size: 1rem;\n",
       "  line-height: 1em;\n",
       "  font-family: monospace;\n",
       "  background-color: var(--sklearn-color-background);\n",
       "  border-radius: 1rem;\n",
       "  height: 1rem;\n",
       "  width: 1rem;\n",
       "  text-decoration: none;\n",
       "  /* unfitted */\n",
       "  color: var(--sklearn-color-unfitted-level-1);\n",
       "  border: var(--sklearn-color-unfitted-level-1) 1pt solid;\n",
       "}\n",
       "\n",
       "#sk-container-id-2 a.estimator_doc_link.fitted {\n",
       "  /* fitted */\n",
       "  border: var(--sklearn-color-fitted-level-1) 1pt solid;\n",
       "  color: var(--sklearn-color-fitted-level-1);\n",
       "}\n",
       "\n",
       "/* On hover */\n",
       "#sk-container-id-2 a.estimator_doc_link:hover {\n",
       "  /* unfitted */\n",
       "  background-color: var(--sklearn-color-unfitted-level-3);\n",
       "  color: var(--sklearn-color-background);\n",
       "  text-decoration: none;\n",
       "}\n",
       "\n",
       "#sk-container-id-2 a.estimator_doc_link.fitted:hover {\n",
       "  /* fitted */\n",
       "  background-color: var(--sklearn-color-fitted-level-3);\n",
       "}\n",
       "</style><div id=\"sk-container-id-2\" class=\"sk-top-container\"><div class=\"sk-text-repr-fallback\"><pre>RandomForestClassifier(n_estimators=10, random_state=0)</pre><b>In a Jupyter environment, please rerun this cell to show the HTML representation or trust the notebook. <br />On GitHub, the HTML representation is unable to render, please try loading this page with nbviewer.org.</b></div><div class=\"sk-container\" hidden><div class=\"sk-item\"><div class=\"sk-estimator fitted sk-toggleable\"><input class=\"sk-toggleable__control sk-hidden--visually\" id=\"sk-estimator-id-2\" type=\"checkbox\" checked><label for=\"sk-estimator-id-2\" class=\"sk-toggleable__label fitted sk-toggleable__label-arrow fitted\">&nbsp;&nbsp;RandomForestClassifier<a class=\"sk-estimator-doc-link fitted\" rel=\"noreferrer\" target=\"_blank\" href=\"https://scikit-learn.org/1.5/modules/generated/sklearn.ensemble.RandomForestClassifier.html\">?<span>Documentation for RandomForestClassifier</span></a><span class=\"sk-estimator-doc-link fitted\">i<span>Fitted</span></span></label><div class=\"sk-toggleable__content fitted\"><pre>RandomForestClassifier(n_estimators=10, random_state=0)</pre></div> </div></div></div></div>"
      ]
     },
     "execution_count": 118,
     "metadata": {},
     "output_type": "execute_result"
    }
   ],
   "execution_count": 118
  },
  {
   "cell_type": "code",
   "id": "0da66df6",
   "metadata": {
    "execution": {
     "iopub.execute_input": "2022-07-08T04:17:35.275016Z",
     "iopub.status.busy": "2022-07-08T04:17:35.274231Z",
     "iopub.status.idle": "2022-07-08T04:17:35.634736Z",
     "shell.execute_reply": "2022-07-08T04:17:35.633582Z"
    },
    "papermill": {
     "duration": 0.383344,
     "end_time": "2022-07-08T04:17:35.636943",
     "exception": false,
     "start_time": "2022-07-08T04:17:35.253599",
     "status": "completed"
    },
    "tags": [],
    "ExecuteTime": {
     "end_time": "2025-05-20T00:13:54.350691Z",
     "start_time": "2025-05-20T00:13:53.963924Z"
    }
   },
   "source": [
    "y_pred = rf_Classifier.predict(X_test)\n",
    "y_pred"
   ],
   "outputs": [
    {
     "data": {
      "text/plain": [
       "array([0, 0, 0, ..., 0, 0, 0], dtype=int64)"
      ]
     },
     "execution_count": 119,
     "metadata": {},
     "output_type": "execute_result"
    }
   ],
   "execution_count": 119
  },
  {
   "cell_type": "code",
   "id": "2cecc3b4",
   "metadata": {
    "execution": {
     "iopub.execute_input": "2022-07-08T04:17:35.677039Z",
     "iopub.status.busy": "2022-07-08T04:17:35.676231Z",
     "iopub.status.idle": "2022-07-08T04:17:35.710674Z",
     "shell.execute_reply": "2022-07-08T04:17:35.709423Z"
    },
    "papermill": {
     "duration": 0.057858,
     "end_time": "2022-07-08T04:17:35.713428",
     "exception": false,
     "start_time": "2022-07-08T04:17:35.655570",
     "status": "completed"
    },
    "tags": [],
    "ExecuteTime": {
     "end_time": "2025-05-20T00:13:56.782921Z",
     "start_time": "2025-05-20T00:13:56.761273Z"
    }
   },
   "source": [
    "from sklearn.metrics import  confusion_matrix,accuracy_score\n",
    "cm=confusion_matrix(y_test,y_pred)\n",
    "print(cm)\n",
    "accuracy_score(y_test,y_pred)"
   ],
   "outputs": [
    {
     "name": "stdout",
     "output_type": "stream",
     "text": [
      "[[83973   814]\n",
      " [ 7316   151]]\n"
     ]
    },
    {
     "data": {
      "text/plain": [
       "0.9118737398920372"
      ]
     },
     "execution_count": 120,
     "metadata": {},
     "output_type": "execute_result"
    }
   ],
   "execution_count": 120
  },
  {
   "cell_type": "code",
   "id": "0fe3bb65",
   "metadata": {
    "execution": {
     "iopub.execute_input": "2022-07-08T04:17:35.753667Z",
     "iopub.status.busy": "2022-07-08T04:17:35.753275Z",
     "iopub.status.idle": "2022-07-08T04:17:35.907068Z",
     "shell.execute_reply": "2022-07-08T04:17:35.905323Z"
    },
    "papermill": {
     "duration": 0.176922,
     "end_time": "2022-07-08T04:17:35.909584",
     "exception": false,
     "start_time": "2022-07-08T04:17:35.732662",
     "status": "completed"
    },
    "tags": [],
    "ExecuteTime": {
     "end_time": "2025-05-20T00:13:58.572204Z",
     "start_time": "2025-05-20T00:13:58.484413Z"
    }
   },
   "source": [
    "# Classification Report\n",
    "from sklearn.metrics import classification_report\n",
    "print(classification_report(y_test, y_pred))"
   ],
   "outputs": [
    {
     "name": "stdout",
     "output_type": "stream",
     "text": [
      "              precision    recall  f1-score   support\n",
      "\n",
      "           0       0.92      0.99      0.95     84787\n",
      "           1       0.16      0.02      0.04      7467\n",
      "\n",
      "    accuracy                           0.91     92254\n",
      "   macro avg       0.54      0.51      0.49     92254\n",
      "weighted avg       0.86      0.91      0.88     92254\n",
      "\n"
     ]
    }
   ],
   "execution_count": 121
  },
  {
   "cell_type": "code",
   "id": "c78cb901",
   "metadata": {
    "execution": {
     "iopub.execute_input": "2022-07-08T04:17:35.950476Z",
     "iopub.status.busy": "2022-07-08T04:17:35.949592Z",
     "iopub.status.idle": "2022-07-08T04:17:35.969348Z",
     "shell.execute_reply": "2022-07-08T04:17:35.968093Z"
    },
    "papermill": {
     "duration": 0.042922,
     "end_time": "2022-07-08T04:17:35.971807",
     "exception": false,
     "start_time": "2022-07-08T04:17:35.928885",
     "status": "completed"
    },
    "tags": [],
    "ExecuteTime": {
     "end_time": "2025-05-20T00:14:00.656291Z",
     "start_time": "2025-05-20T00:14:00.646343Z"
    }
   },
   "source": [
    "X_test"
   ],
   "outputs": [
    {
     "data": {
      "text/plain": [
       "        AMT_INCOME_TOTAL  AMT_CREDIT  AMT_ANNUITY  AMT_GOODS_PRICE  \\\n",
       "64282           135000.0    654498.0      31617.0         585000.0   \n",
       "94645           135000.0    234576.0      25393.5         202500.0   \n",
       "306349          112500.0    157914.0      16753.5         139500.0   \n",
       "258314          247500.0   1125000.0      36292.5        1125000.0   \n",
       "87597           202500.0    900000.0      35158.5         900000.0   \n",
       "...                  ...         ...          ...              ...   \n",
       "98497            81000.0    808650.0      26217.0         675000.0   \n",
       "205542           99000.0    135000.0      10822.5         135000.0   \n",
       "127474          157500.0    675000.0      38880.0         675000.0   \n",
       "46981           112500.0   1006920.0      42790.5         900000.0   \n",
       "194313           67500.0    104256.0      10287.0          90000.0   \n",
       "\n",
       "        NAME_INCOME_TYPE  HOUR_APPR_PROCESS_START  ORGANIZATION_TYPE  \n",
       "64282                  3                        9                 57  \n",
       "94645                  7                       17                 11  \n",
       "306349                 7                       14                 33  \n",
       "258314                 7                       16                 40  \n",
       "87597                  7                        8                 42  \n",
       "...                  ...                      ...                ...  \n",
       "98497                  7                       16                 40  \n",
       "205542                 7                       14                 42  \n",
       "127474                 7                       10                 42  \n",
       "46981                  3                       11                 57  \n",
       "194313                 3                       15                 57  \n",
       "\n",
       "[92254 rows x 7 columns]"
      ],
      "text/html": [
       "<div>\n",
       "<style scoped>\n",
       "    .dataframe tbody tr th:only-of-type {\n",
       "        vertical-align: middle;\n",
       "    }\n",
       "\n",
       "    .dataframe tbody tr th {\n",
       "        vertical-align: top;\n",
       "    }\n",
       "\n",
       "    .dataframe thead th {\n",
       "        text-align: right;\n",
       "    }\n",
       "</style>\n",
       "<table border=\"1\" class=\"dataframe\">\n",
       "  <thead>\n",
       "    <tr style=\"text-align: right;\">\n",
       "      <th></th>\n",
       "      <th>AMT_INCOME_TOTAL</th>\n",
       "      <th>AMT_CREDIT</th>\n",
       "      <th>AMT_ANNUITY</th>\n",
       "      <th>AMT_GOODS_PRICE</th>\n",
       "      <th>NAME_INCOME_TYPE</th>\n",
       "      <th>HOUR_APPR_PROCESS_START</th>\n",
       "      <th>ORGANIZATION_TYPE</th>\n",
       "    </tr>\n",
       "  </thead>\n",
       "  <tbody>\n",
       "    <tr>\n",
       "      <th>64282</th>\n",
       "      <td>135000.0</td>\n",
       "      <td>654498.0</td>\n",
       "      <td>31617.0</td>\n",
       "      <td>585000.0</td>\n",
       "      <td>3</td>\n",
       "      <td>9</td>\n",
       "      <td>57</td>\n",
       "    </tr>\n",
       "    <tr>\n",
       "      <th>94645</th>\n",
       "      <td>135000.0</td>\n",
       "      <td>234576.0</td>\n",
       "      <td>25393.5</td>\n",
       "      <td>202500.0</td>\n",
       "      <td>7</td>\n",
       "      <td>17</td>\n",
       "      <td>11</td>\n",
       "    </tr>\n",
       "    <tr>\n",
       "      <th>306349</th>\n",
       "      <td>112500.0</td>\n",
       "      <td>157914.0</td>\n",
       "      <td>16753.5</td>\n",
       "      <td>139500.0</td>\n",
       "      <td>7</td>\n",
       "      <td>14</td>\n",
       "      <td>33</td>\n",
       "    </tr>\n",
       "    <tr>\n",
       "      <th>258314</th>\n",
       "      <td>247500.0</td>\n",
       "      <td>1125000.0</td>\n",
       "      <td>36292.5</td>\n",
       "      <td>1125000.0</td>\n",
       "      <td>7</td>\n",
       "      <td>16</td>\n",
       "      <td>40</td>\n",
       "    </tr>\n",
       "    <tr>\n",
       "      <th>87597</th>\n",
       "      <td>202500.0</td>\n",
       "      <td>900000.0</td>\n",
       "      <td>35158.5</td>\n",
       "      <td>900000.0</td>\n",
       "      <td>7</td>\n",
       "      <td>8</td>\n",
       "      <td>42</td>\n",
       "    </tr>\n",
       "    <tr>\n",
       "      <th>...</th>\n",
       "      <td>...</td>\n",
       "      <td>...</td>\n",
       "      <td>...</td>\n",
       "      <td>...</td>\n",
       "      <td>...</td>\n",
       "      <td>...</td>\n",
       "      <td>...</td>\n",
       "    </tr>\n",
       "    <tr>\n",
       "      <th>98497</th>\n",
       "      <td>81000.0</td>\n",
       "      <td>808650.0</td>\n",
       "      <td>26217.0</td>\n",
       "      <td>675000.0</td>\n",
       "      <td>7</td>\n",
       "      <td>16</td>\n",
       "      <td>40</td>\n",
       "    </tr>\n",
       "    <tr>\n",
       "      <th>205542</th>\n",
       "      <td>99000.0</td>\n",
       "      <td>135000.0</td>\n",
       "      <td>10822.5</td>\n",
       "      <td>135000.0</td>\n",
       "      <td>7</td>\n",
       "      <td>14</td>\n",
       "      <td>42</td>\n",
       "    </tr>\n",
       "    <tr>\n",
       "      <th>127474</th>\n",
       "      <td>157500.0</td>\n",
       "      <td>675000.0</td>\n",
       "      <td>38880.0</td>\n",
       "      <td>675000.0</td>\n",
       "      <td>7</td>\n",
       "      <td>10</td>\n",
       "      <td>42</td>\n",
       "    </tr>\n",
       "    <tr>\n",
       "      <th>46981</th>\n",
       "      <td>112500.0</td>\n",
       "      <td>1006920.0</td>\n",
       "      <td>42790.5</td>\n",
       "      <td>900000.0</td>\n",
       "      <td>3</td>\n",
       "      <td>11</td>\n",
       "      <td>57</td>\n",
       "    </tr>\n",
       "    <tr>\n",
       "      <th>194313</th>\n",
       "      <td>67500.0</td>\n",
       "      <td>104256.0</td>\n",
       "      <td>10287.0</td>\n",
       "      <td>90000.0</td>\n",
       "      <td>3</td>\n",
       "      <td>15</td>\n",
       "      <td>57</td>\n",
       "    </tr>\n",
       "  </tbody>\n",
       "</table>\n",
       "<p>92254 rows × 7 columns</p>\n",
       "</div>"
      ]
     },
     "execution_count": 122,
     "metadata": {},
     "output_type": "execute_result"
    }
   ],
   "execution_count": 122
  },
  {
   "cell_type": "code",
   "id": "3d52328e",
   "metadata": {
    "execution": {
     "iopub.execute_input": "2022-07-08T04:17:36.012380Z",
     "iopub.status.busy": "2022-07-08T04:17:36.011972Z",
     "iopub.status.idle": "2022-07-08T04:17:36.024496Z",
     "shell.execute_reply": "2022-07-08T04:17:36.023385Z"
    },
    "papermill": {
     "duration": 0.035618,
     "end_time": "2022-07-08T04:17:36.026944",
     "exception": false,
     "start_time": "2022-07-08T04:17:35.991326",
     "status": "completed"
    },
    "tags": [],
    "ExecuteTime": {
     "end_time": "2025-05-20T00:14:31.924983Z",
     "start_time": "2025-05-20T00:14:31.918983Z"
    }
   },
   "source": [
    "result = rf_Classifier.predict(np.array([[192500.0,157914.0,15753.5,139500.0,3,15,33]]))\n",
    "result\n"
   ],
   "outputs": [
    {
     "name": "stderr",
     "output_type": "stream",
     "text": [
      "C:\\Users\\gyanr\\gyan-python-workspace\\jup-workspace\\venv\\Lib\\site-packages\\sklearn\\base.py:493: UserWarning: X does not have valid feature names, but RandomForestClassifier was fitted with feature names\n",
      "  warnings.warn(\n"
     ]
    },
    {
     "data": {
      "text/plain": [
       "array([0], dtype=int64)"
      ]
     },
     "execution_count": 125,
     "metadata": {},
     "output_type": "execute_result"
    }
   ],
   "execution_count": 125
  },
  {
   "metadata": {},
   "cell_type": "code",
   "outputs": [],
   "execution_count": null,
   "source": "",
   "id": "40e3e6c0767212d0"
  }
 ],
 "metadata": {
  "kernelspec": {
   "display_name": "Python 3",
   "language": "python",
   "name": "python3"
  },
  "language_info": {
   "codemirror_mode": {
    "name": "ipython",
    "version": 3
   },
   "file_extension": ".py",
   "mimetype": "text/x-python",
   "name": "python",
   "nbconvert_exporter": "python",
   "pygments_lexer": "ipython3",
   "version": "3.7.12"
  },
  "papermill": {
   "default_parameters": {},
   "duration": 40.901012,
   "end_time": "2022-07-08T04:17:37.108533",
   "environment_variables": {},
   "exception": null,
   "input_path": "__notebook__.ipynb",
   "output_path": "__notebook__.ipynb",
   "parameters": {},
   "start_time": "2022-07-08T04:16:56.207521",
   "version": "2.3.4"
  }
 },
 "nbformat": 4,
 "nbformat_minor": 5
}
